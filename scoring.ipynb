{
 "cells": [
  {
   "cell_type": "markdown",
   "metadata": {},
   "source": [
    "# Scoring products of Digikala"
   ]
  },
  {
   "cell_type": "code",
   "execution_count": 9,
   "metadata": {},
   "outputs": [],
   "source": [
    "import numpy as np\n",
    "import pandas as pd\n",
    "from sklearn.cluster import KMeans\n",
    "import matplotlib.pyplot as plt"
   ]
  },
  {
   "cell_type": "code",
   "execution_count": 2,
   "metadata": {},
   "outputs": [
    {
     "data": {
      "text/html": [
       "<div>\n",
       "<style scoped>\n",
       "    .dataframe tbody tr th:only-of-type {\n",
       "        vertical-align: middle;\n",
       "    }\n",
       "\n",
       "    .dataframe tbody tr th {\n",
       "        vertical-align: top;\n",
       "    }\n",
       "\n",
       "    .dataframe thead th {\n",
       "        text-align: right;\n",
       "    }\n",
       "</style>\n",
       "<table border=\"1\" class=\"dataframe\">\n",
       "  <thead>\n",
       "    <tr style=\"text-align: right;\">\n",
       "      <th></th>\n",
       "      <th>Unnamed: 0</th>\n",
       "      <th>rate</th>\n",
       "      <th>recommendation_status</th>\n",
       "      <th>is_buyer</th>\n",
       "      <th>product_id</th>\n",
       "      <th>advantages</th>\n",
       "      <th>disadvantages</th>\n",
       "      <th>likes</th>\n",
       "      <th>dislikes</th>\n",
       "      <th>seller_title</th>\n",
       "      <th>true_to_size_rate</th>\n",
       "      <th>have_title</th>\n",
       "      <th>body_length</th>\n",
       "    </tr>\n",
       "  </thead>\n",
       "  <tbody>\n",
       "    <tr>\n",
       "      <th>0</th>\n",
       "      <td>0</td>\n",
       "      <td>1.0</td>\n",
       "      <td>not_recommended</td>\n",
       "      <td>True</td>\n",
       "      <td>252058</td>\n",
       "      <td>NaN</td>\n",
       "      <td>NaN</td>\n",
       "      <td>0</td>\n",
       "      <td>0</td>\n",
       "      <td>دیجی‌کالا</td>\n",
       "      <td>NaN</td>\n",
       "      <td>True</td>\n",
       "      <td>3</td>\n",
       "    </tr>\n",
       "    <tr>\n",
       "      <th>1</th>\n",
       "      <td>1</td>\n",
       "      <td>0.0</td>\n",
       "      <td>recommended</td>\n",
       "      <td>True</td>\n",
       "      <td>252058</td>\n",
       "      <td>['تجربه جالبی بود برام ']</td>\n",
       "      <td>['بسته بندی جالبی نداشت']</td>\n",
       "      <td>1</td>\n",
       "      <td>0</td>\n",
       "      <td>دیجی‌کالا</td>\n",
       "      <td>NaN</td>\n",
       "      <td>True</td>\n",
       "      <td>10</td>\n",
       "    </tr>\n",
       "    <tr>\n",
       "      <th>2</th>\n",
       "      <td>2</td>\n",
       "      <td>0.0</td>\n",
       "      <td>recommended</td>\n",
       "      <td>True</td>\n",
       "      <td>3331597</td>\n",
       "      <td>NaN</td>\n",
       "      <td>NaN</td>\n",
       "      <td>0</td>\n",
       "      <td>0</td>\n",
       "      <td>آرالیا بیوتی</td>\n",
       "      <td>NaN</td>\n",
       "      <td>True</td>\n",
       "      <td>19</td>\n",
       "    </tr>\n",
       "    <tr>\n",
       "      <th>3</th>\n",
       "      <td>3</td>\n",
       "      <td>0.0</td>\n",
       "      <td>recommended</td>\n",
       "      <td>True</td>\n",
       "      <td>3331329</td>\n",
       "      <td>NaN</td>\n",
       "      <td>NaN</td>\n",
       "      <td>0</td>\n",
       "      <td>0</td>\n",
       "      <td>اینجاست آ</td>\n",
       "      <td>NaN</td>\n",
       "      <td>True</td>\n",
       "      <td>18</td>\n",
       "    </tr>\n",
       "    <tr>\n",
       "      <th>4</th>\n",
       "      <td>4</td>\n",
       "      <td>3.0</td>\n",
       "      <td>recommended</td>\n",
       "      <td>True</td>\n",
       "      <td>3255700</td>\n",
       "      <td>NaN</td>\n",
       "      <td>NaN</td>\n",
       "      <td>0</td>\n",
       "      <td>0</td>\n",
       "      <td>گالری آرایشی به سیما</td>\n",
       "      <td>NaN</td>\n",
       "      <td>True</td>\n",
       "      <td>19</td>\n",
       "    </tr>\n",
       "  </tbody>\n",
       "</table>\n",
       "</div>"
      ],
      "text/plain": [
       "   Unnamed: 0  rate recommendation_status  is_buyer  product_id  \\\n",
       "0           0   1.0       not_recommended      True      252058   \n",
       "1           1   0.0           recommended      True      252058   \n",
       "2           2   0.0           recommended      True     3331597   \n",
       "3           3   0.0           recommended      True     3331329   \n",
       "4           4   3.0           recommended      True     3255700   \n",
       "\n",
       "                  advantages              disadvantages  likes  dislikes  \\\n",
       "0                        NaN                        NaN      0         0   \n",
       "1  ['تجربه جالبی بود برام ']  ['بسته بندی جالبی نداشت']      1         0   \n",
       "2                        NaN                        NaN      0         0   \n",
       "3                        NaN                        NaN      0         0   \n",
       "4                        NaN                        NaN      0         0   \n",
       "\n",
       "           seller_title true_to_size_rate  have_title  body_length  \n",
       "0             دیجی‌کالا               NaN        True            3  \n",
       "1             دیجی‌کالا               NaN        True           10  \n",
       "2          آرالیا بیوتی               NaN        True           19  \n",
       "3            اینجاست آ                NaN        True           18  \n",
       "4  گالری آرایشی به سیما               NaN        True           19  "
      ]
     },
     "execution_count": 2,
     "metadata": {},
     "output_type": "execute_result"
    }
   ],
   "source": [
    "digikala = pd.read_csv('new_digikala_comments.csv',  )\n",
    "digikala.head()"
   ]
  },
  {
   "cell_type": "code",
   "execution_count": 11,
   "metadata": {},
   "outputs": [
    {
     "data": {
      "text/html": [
       "<div>\n",
       "<style scoped>\n",
       "    .dataframe tbody tr th:only-of-type {\n",
       "        vertical-align: middle;\n",
       "    }\n",
       "\n",
       "    .dataframe tbody tr th {\n",
       "        vertical-align: top;\n",
       "    }\n",
       "\n",
       "    .dataframe thead th {\n",
       "        text-align: right;\n",
       "    }\n",
       "</style>\n",
       "<table border=\"1\" class=\"dataframe\">\n",
       "  <thead>\n",
       "    <tr style=\"text-align: right;\">\n",
       "      <th></th>\n",
       "      <th>Unnamed: 0</th>\n",
       "      <th>rate</th>\n",
       "      <th>product_id</th>\n",
       "      <th>likes</th>\n",
       "      <th>dislikes</th>\n",
       "      <th>body_length</th>\n",
       "    </tr>\n",
       "  </thead>\n",
       "  <tbody>\n",
       "    <tr>\n",
       "      <th>count</th>\n",
       "      <td>6.156289e+06</td>\n",
       "      <td>6.156289e+06</td>\n",
       "      <td>6.156289e+06</td>\n",
       "      <td>6.156289e+06</td>\n",
       "      <td>6.156289e+06</td>\n",
       "      <td>6.156289e+06</td>\n",
       "    </tr>\n",
       "    <tr>\n",
       "      <th>mean</th>\n",
       "      <td>3.078144e+06</td>\n",
       "      <td>3.648286e+00</td>\n",
       "      <td>3.908983e+06</td>\n",
       "      <td>4.503171e-01</td>\n",
       "      <td>8.687068e-02</td>\n",
       "      <td>1.008617e+01</td>\n",
       "    </tr>\n",
       "    <tr>\n",
       "      <th>std</th>\n",
       "      <td>1.777168e+06</td>\n",
       "      <td>1.861854e+00</td>\n",
       "      <td>3.015881e+06</td>\n",
       "      <td>2.294114e+00</td>\n",
       "      <td>8.313516e-01</td>\n",
       "      <td>1.336540e+01</td>\n",
       "    </tr>\n",
       "    <tr>\n",
       "      <th>min</th>\n",
       "      <td>0.000000e+00</td>\n",
       "      <td>0.000000e+00</td>\n",
       "      <td>7.602000e+03</td>\n",
       "      <td>0.000000e+00</td>\n",
       "      <td>0.000000e+00</td>\n",
       "      <td>1.000000e+00</td>\n",
       "    </tr>\n",
       "    <tr>\n",
       "      <th>25%</th>\n",
       "      <td>1.539072e+06</td>\n",
       "      <td>3.000000e+00</td>\n",
       "      <td>1.532375e+06</td>\n",
       "      <td>0.000000e+00</td>\n",
       "      <td>0.000000e+00</td>\n",
       "      <td>3.000000e+00</td>\n",
       "    </tr>\n",
       "    <tr>\n",
       "      <th>50%</th>\n",
       "      <td>3.078144e+06</td>\n",
       "      <td>4.000000e+00</td>\n",
       "      <td>3.183184e+06</td>\n",
       "      <td>0.000000e+00</td>\n",
       "      <td>0.000000e+00</td>\n",
       "      <td>6.000000e+00</td>\n",
       "    </tr>\n",
       "    <tr>\n",
       "      <th>75%</th>\n",
       "      <td>4.617216e+06</td>\n",
       "      <td>5.000000e+00</td>\n",
       "      <td>5.992988e+06</td>\n",
       "      <td>0.000000e+00</td>\n",
       "      <td>0.000000e+00</td>\n",
       "      <td>1.200000e+01</td>\n",
       "    </tr>\n",
       "    <tr>\n",
       "      <th>max</th>\n",
       "      <td>6.156288e+06</td>\n",
       "      <td>2.500000e+03</td>\n",
       "      <td>1.270221e+07</td>\n",
       "      <td>1.136000e+03</td>\n",
       "      <td>3.360000e+02</td>\n",
       "      <td>9.080000e+02</td>\n",
       "    </tr>\n",
       "  </tbody>\n",
       "</table>\n",
       "</div>"
      ],
      "text/plain": [
       "         Unnamed: 0          rate    product_id         likes      dislikes  \\\n",
       "count  6.156289e+06  6.156289e+06  6.156289e+06  6.156289e+06  6.156289e+06   \n",
       "mean   3.078144e+06  3.648286e+00  3.908983e+06  4.503171e-01  8.687068e-02   \n",
       "std    1.777168e+06  1.861854e+00  3.015881e+06  2.294114e+00  8.313516e-01   \n",
       "min    0.000000e+00  0.000000e+00  7.602000e+03  0.000000e+00  0.000000e+00   \n",
       "25%    1.539072e+06  3.000000e+00  1.532375e+06  0.000000e+00  0.000000e+00   \n",
       "50%    3.078144e+06  4.000000e+00  3.183184e+06  0.000000e+00  0.000000e+00   \n",
       "75%    4.617216e+06  5.000000e+00  5.992988e+06  0.000000e+00  0.000000e+00   \n",
       "max    6.156288e+06  2.500000e+03  1.270221e+07  1.136000e+03  3.360000e+02   \n",
       "\n",
       "        body_length  \n",
       "count  6.156289e+06  \n",
       "mean   1.008617e+01  \n",
       "std    1.336540e+01  \n",
       "min    1.000000e+00  \n",
       "25%    3.000000e+00  \n",
       "50%    6.000000e+00  \n",
       "75%    1.200000e+01  \n",
       "max    9.080000e+02  "
      ]
     },
     "execution_count": 11,
     "metadata": {},
     "output_type": "execute_result"
    }
   ],
   "source": [
    "digikala.describe()"
   ]
  },
  {
   "cell_type": "markdown",
   "metadata": {},
   "source": [
    "## Comments Length Analyis\n",
    "I want to declare Intervals for scoring on comments lenrgth. here is three method :\n",
    "1. Heuristic-Based\n",
    "2. Percentile-Based\n",
    "3. Clustering-Based"
   ]
  },
  {
   "cell_type": "code",
   "execution_count": 81,
   "metadata": {},
   "outputs": [
    {
     "data": {
      "image/png": "[encoded data removed]",
      "text/plain": [
       "<Figure size 640x480 with 1 Axes>"
      ]
     },
     "metadata": {},
     "output_type": "display_data"
    }
   ],
   "source": [
    "comments = digikala['body_length']\n",
    "plt.hist(comments, bins= np.arange(min(comments), max(comments), 50), log=True)\n",
    "plt.show()"
   ]
  },
  {
   "cell_type": "code",
   "execution_count": 53,
   "metadata": {},
   "outputs": [],
   "source": [
    "import bisect\n",
    "from collections import defaultdict\n",
    "def assign_score(intervals, lengths):\n",
    "    sum = 0\n",
    "    lengths_dict = defaultdict(list)\n",
    "    for length in lengths:\n",
    "        score = bisect.bisect_left(intervals, length)\n",
    "        sum += score\n",
    "        lengths_dict[score].append(length)\n",
    "\n",
    "    lengths_stats = {}\n",
    "    for score, lengths in lengths_dict.items():\n",
    "        lengths_stats[score] = {\n",
    "            'num' : len(lengths),\n",
    "            'mean': np.mean(lengths),\n",
    "            'std': np.std(lengths),\n",
    "            'sum' : np.sum(lengths)\n",
    "        }\n",
    "    return lengths_stats, sum"
   ]
  },
  {
   "cell_type": "code",
   "execution_count": 54,
   "metadata": {},
   "outputs": [
    {
     "name": "stdout",
     "output_type": "stream",
     "text": [
      "{0: {'num': 2, 'mean': 0.0, 'std': 0.0, 'sum': 0}, 1: {'num': 1, 'mean': 1.0, 'std': 0.0, 'sum': 1}, 2: {'num': 4, 'mean': 2.75, 'std': 0.82915619758885, 'sum': 11}, 3: {'num': 2, 'mean': 6.0, 'std': 0.0, 'sum': 12}, 4: {'num': 3, 'mean': 28.666666666666668, 'std': 10.208928554075703, 'sum': 86}}\n",
      "27\n"
     ]
    }
   ],
   "source": [
    "# check function\n",
    "intervals = [0, 1, 5, 10]\n",
    "lengths = [0,0,1,2,2,3,6,4,6,20,23,43]\n",
    "\n",
    "lengths_stats, sum = assign_score(intervals, lengths)\n",
    "print(lengths_stats)\n",
    "print(sum)"
   ]
  },
  {
   "cell_type": "markdown",
   "metadata": {},
   "source": [
    "### Heuristic-Based"
   ]
  },
  {
   "cell_type": "code",
   "execution_count": 67,
   "metadata": {},
   "outputs": [
    {
     "name": "stdout",
     "output_type": "stream",
     "text": [
      "{1: {'num': 2396414, 'mean': 3.4737036255004354, 'std': 1.0796489346353257, 'sum': 8324432}, 2: {'num': 2604942, 'mean': 10.50286954565591, 'std': 3.9701935666193893, 'sum': 27359366}, 0: {'num': 454430, 'mean': 1.0, 'std': 0.0, 'sum': 454430}, 3: {'num': 684946, 'mean': 34.560463160599525, 'std': 14.791842770940068, 'sum': 23672051}, 4: {'num': 15102, 'mean': 138.86611044894715, 'std': 39.72096362568075, 'sum': 2097156}, 5: {'num': 373, 'mean': 361.8552278820375, 'std': 46.523198465469385, 'sum': 134972}, 6: {'num': 82, 'mean': 621.9634146341464, 'std': 111.95060377640333, 'sum': 51001}}\n"
     ]
    }
   ],
   "source": [
    "# heuristic_intervals = [0, 5, 20, 100, 300]\n",
    "heuristic_intervals = [1, 5, 20, 100, 300, 500, 1000]\n",
    "\n",
    "lengths_stats, sum = assign_score(heuristic_intervals, comments)\n",
    "print(lengths_stats)"
   ]
  },
  {
   "cell_type": "code",
   "execution_count": 75,
   "metadata": {},
   "outputs": [
    {
     "data": {
      "image/png": "[encoded data removed]",
      "text/plain": [
       "<Figure size 640x480 with 1 Axes>"
      ]
     },
     "metadata": {},
     "output_type": "display_data"
    }
   ],
   "source": [
    "plt.hist(comments, bins= np.arange(min(comments), max(comments), 50), log=True)\n",
    "for boundary in heuristic_intervals:\n",
    "    plt.axvline(boundary, color='r', linestyle='dashed', linewidth=1)\n",
    "plt.hist(comments, bins= heuristic_intervals, log = True, color= 'green', alpha = 0.3)\n",
    "plt.show()"
   ]
  },
  {
   "cell_type": "markdown",
   "metadata": {},
   "source": [
    "### Percentile-Based"
   ]
  },
  {
   "cell_type": "code",
   "execution_count": 80,
   "metadata": {},
   "outputs": [
    {
     "name": "stdout",
     "output_type": "stream",
     "text": [
      "[ 2.  3.  6. 12. 22.]\n",
      "{1: {'num': 653009, 'mean': 3.0, 'std': 0.0, 'sum': 1959027}, 3: {'num': 1436437, 'mean': 9.042898505120656, 'std': 1.6753956240569385, 'sum': 12989554}, 4: {'num': 847841, 'mean': 16.57415836224009, 'std': 2.7973192512167606, 'sum': 14052251}, 0: {'num': 1023154, 'mean': 1.555853761994773, 'std': 0.4968705639007318, 'sum': 1591878}, 2: {'num': 1599139, 'mean': 4.861806884829899, 'std': 0.8061972129332668, 'sum': 7774705}, 5: {'num': 596709, 'mean': 39.76141301706527, 'std': 25.04036208569286, 'sum': 23725993}}\n"
     ]
    }
   ],
   "source": [
    "percentiles = [10, 25, 50, 75, 90]\n",
    "percentile_intervals = np.percentile(comments, percentiles)\n",
    "np.insert(percentile_intervals, 0, 0)\n",
    "np.append(percentile_intervals, 1000)\n",
    "print(percentile_intervals)\n",
    "\n",
    "lengths_stats, sum = assign_score(percentile_intervals, comments)\n",
    "print(lengths_stats)"
   ]
  },
  {
   "cell_type": "code",
   "execution_count": 79,
   "metadata": {},
   "outputs": [
    {
     "data": {
      "image/png": "[encoded data removed]",
      "text/plain": [
       "<Figure size 640x480 with 1 Axes>"
      ]
     },
     "metadata": {},
     "output_type": "display_data"
    }
   ],
   "source": [
    "plt.hist(comments, bins= np.arange(min(comments), max(comments), 50), log=True)\n",
    "for boundary in percentile_intervals:\n",
    "    plt.axvline(boundary, color='r', linestyle='dashed', linewidth=1)\n",
    "plt.hist(comments, bins= percentile_intervals, log = True, color= 'green', alpha = 0.3)\n",
    "plt.show()"
   ]
  },
  {
   "cell_type": "markdown",
   "metadata": {},
   "source": [
    "### Clustering-Based"
   ]
  },
  {
   "cell_type": "code",
   "execution_count": 86,
   "metadata": {},
   "outputs": [
    {
     "name": "stdout",
     "output_type": "stream",
     "text": [
      "[   0.            3.07939052    8.66824866   19.10930068   38.47635609\n",
      "   79.34904769  200.47035992 1000.        ]\n",
      "{1: {'num': 1676163, 'mean': 2.1184723681408073, 'std': 0.8041536967307585, 'sum': 3550905}, 3: {'num': 1482127, 'mean': 12.719323647703604, 'std': 3.03677149477343, 'sum': 18851653}, 2: {'num': 2237389, 'mean': 5.601855555739301, 'std': 1.381124644080117, 'sum': 12533530}, 4: {'num': 559466, 'mean': 26.439683555390317, 'std': 5.154853961995424, 'sum': 14792104}, 5: {'num': 170582, 'mean': 51.32073137845728, 'std': 10.489537022349868, 'sum': 8754393}, 6: {'num': 28730, 'mean': 107.85663069961713, 'std': 26.778852526446986, 'sum': 3098721}, 7: {'num': 1832, 'mean': 279.5316593886463, 'std': 97.70148301693946, 'sum': 512102}}\n"
     ]
    }
   ],
   "source": [
    "n_intervals = 6\n",
    "comment_lengths_reshaped = np.reshape(comments, (-1, 1))\n",
    "\n",
    "# Apply K-means clustering\n",
    "kmeans = KMeans(n_clusters=n_intervals, random_state=42).fit(comment_lengths_reshaped)\n",
    "clustering_intervals = np.sort(kmeans.cluster_centers_.flatten())\n",
    "clustering_intervals = np.insert(clustering_intervals, 0, 0)\n",
    "clustering_intervals = np.append(clustering_intervals, 1000)\n",
    "print(clustering_intervals)\n",
    "\n",
    "lengths_stats, sum = assign_score(clustering_intervals, comments)\n",
    "print(lengths_stats)"
   ]
  },
  {
   "cell_type": "code",
   "execution_count": 89,
   "metadata": {},
   "outputs": [
    {
     "data": {
      "image/png": "[encoded data removed]",
      "text/plain": [
       "<Figure size 640x480 with 1 Axes>"
      ]
     },
     "metadata": {},
     "output_type": "display_data"
    }
   ],
   "source": [
    "plt.hist(comments, bins= np.arange(min(comments), max(comments), 50), log=True)\n",
    "for boundary in clustering_intervals:\n",
    "    plt.axvline(boundary, color='r', linestyle='dashed', linewidth=1)\n",
    "plt.hist(comments, bins= clustering_intervals, log = True, color= 'green', alpha = 0.3)\n",
    "plt.show()"
   ]
  },
  {
   "cell_type": "markdown",
   "metadata": {},
   "source": [
    "## Define Scoring Function"
   ]
  },
  {
   "cell_type": "code",
   "execution_count": 91,
   "metadata": {},
   "outputs": [
    {
     "name": "stderr",
     "output_type": "stream",
     "text": [
      "C:\\Users\\Almas\\AppData\\Local\\Temp\\ipykernel_33524\\969402756.py:10: DeprecationWarning: DataFrameGroupBy.apply operated on the grouping columns. This behavior is deprecated, and in a future version of pandas the grouping columns will be excluded from the operation. Either pass `include_groups=False` to exclude the groupings or explicitly select the grouping columns after groupby to silence this warning.\n",
      "  df = digikala.groupby(['product_id', 'seller_title']).apply(score).reset_index(name='score')\n"
     ]
    },
    {
     "data": {
      "text/html": [
       "<div>\n",
       "<style scoped>\n",
       "    .dataframe tbody tr th:only-of-type {\n",
       "        vertical-align: middle;\n",
       "    }\n",
       "\n",
       "    .dataframe tbody tr th {\n",
       "        vertical-align: top;\n",
       "    }\n",
       "\n",
       "    .dataframe thead th {\n",
       "        text-align: right;\n",
       "    }\n",
       "</style>\n",
       "<table border=\"1\" class=\"dataframe\">\n",
       "  <thead>\n",
       "    <tr style=\"text-align: right;\">\n",
       "      <th></th>\n",
       "      <th>product_id</th>\n",
       "      <th>seller_title</th>\n",
       "      <th>score</th>\n",
       "    </tr>\n",
       "  </thead>\n",
       "  <tbody>\n",
       "    <tr>\n",
       "      <th>0</th>\n",
       "      <td>7602</td>\n",
       "      <td>برزان</td>\n",
       "      <td>63.966</td>\n",
       "    </tr>\n",
       "    <tr>\n",
       "      <th>1</th>\n",
       "      <td>7602</td>\n",
       "      <td>برهان الکترونیک</td>\n",
       "      <td>1.602</td>\n",
       "    </tr>\n",
       "    <tr>\n",
       "      <th>2</th>\n",
       "      <td>7602</td>\n",
       "      <td>به روز سنتر</td>\n",
       "      <td>3.007</td>\n",
       "    </tr>\n",
       "    <tr>\n",
       "      <th>3</th>\n",
       "      <td>7602</td>\n",
       "      <td>جانبی انسی</td>\n",
       "      <td>20.824</td>\n",
       "    </tr>\n",
       "    <tr>\n",
       "      <th>4</th>\n",
       "      <td>7602</td>\n",
       "      <td>جانبی حبیب</td>\n",
       "      <td>2.001</td>\n",
       "    </tr>\n",
       "  </tbody>\n",
       "</table>\n",
       "</div>"
      ],
      "text/plain": [
       "   product_id     seller_title   score\n",
       "0        7602            برزان  63.966\n",
       "1        7602  برهان الکترونیک   1.602\n",
       "2        7602      به روز سنتر   3.007\n",
       "3        7602       جانبی انسی  20.824\n",
       "4        7602       جانبی حبیب   2.001"
      ]
     },
     "execution_count": 91,
     "metadata": {},
     "output_type": "execute_result"
    }
   ],
   "source": [
    "def score(group):\n",
    "    _, comments = assign_score(clustering_intervals, group['body_length'])\n",
    "    comments_score = comments / 1000\n",
    "    rates_score = np.sum(group['rate']) / 5\n",
    "    titles_score = np.sum(group['have_title'])\n",
    "    likes_score = np.sum(group['likes']) + np.sum(group['dislikes'])\n",
    "\n",
    "    return comments_score + rates_score + titles_score + likes_score\n",
    "\n",
    "df = digikala.groupby(['product_id', 'seller_title']).apply(score).reset_index(name='score')\n",
    "df.head()"
   ]
  },
  {
   "cell_type": "code",
   "execution_count": 93,
   "metadata": {},
   "outputs": [],
   "source": [
    "df.to_csv('example.csv', encoding='utf-8')"
   ]
  }
 ],
 "metadata": {
  "kernelspec": {
   "display_name": "Python 3",
   "language": "python",
   "name": "python3"
  },
  "language_info": {
   "codemirror_mode": {
    "name": "ipython",
    "version": 3
   },
   "file_extension": ".py",
   "mimetype": "text/x-python",
   "name": "python",
   "nbconvert_exporter": "python",
   "pygments_lexer": "ipython3",
   "version": "3.11.4"
  }
 },
 "nbformat": 4,
 "nbformat_minor": 2
}

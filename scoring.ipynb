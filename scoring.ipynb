{
 "cells": [
  {
   "cell_type": "markdown",
   "metadata": {},
   "source": [
    "# Scoring products of Digikala"
   ]
  },
  {
   "cell_type": "code",
   "execution_count": 33,
   "metadata": {
    "metadata": {}
   },
   "outputs": [],
   "source": [
    "import numpy as np\n",
    "import pandas as pd\n",
    "from sklearn.cluster import KMeans\n",
    "import matplotlib.pyplot as plt"
   ]
  },
  {
   "cell_type": "code",
   "execution_count": 34,
   "metadata": {
    "metadata": {}
   },
   "outputs": [
    {
     "data": {
      "text/html": [
       "<div>\n",
       "<style scoped>\n",
       "    .dataframe tbody tr th:only-of-type {\n",
       "        vertical-align: middle;\n",
       "    }\n",
       "\n",
       "    .dataframe tbody tr th {\n",
       "        vertical-align: top;\n",
       "    }\n",
       "\n",
       "    .dataframe thead th {\n",
       "        text-align: right;\n",
       "    }\n",
       "</style>\n",
       "<table border=\"1\" class=\"dataframe\">\n",
       "  <thead>\n",
       "    <tr style=\"text-align: right;\">\n",
       "      <th></th>\n",
       "      <th>id</th>\n",
       "      <th>title</th>\n",
       "      <th>body</th>\n",
       "      <th>created_at</th>\n",
       "      <th>rate</th>\n",
       "      <th>recommendation_status</th>\n",
       "      <th>is_buyer</th>\n",
       "      <th>product_id</th>\n",
       "      <th>likes</th>\n",
       "      <th>dislikes</th>\n",
       "      <th>seller_title</th>\n",
       "      <th>seller_code</th>\n",
       "      <th>true_to_size_rate</th>\n",
       "      <th>advantages_count</th>\n",
       "      <th>disadvantages_count</th>\n",
       "    </tr>\n",
       "  </thead>\n",
       "  <tbody>\n",
       "    <tr>\n",
       "      <th>0</th>\n",
       "      <td>53672599</td>\n",
       "      <td>1</td>\n",
       "      <td>3</td>\n",
       "      <td>23 شهریور 1402</td>\n",
       "      <td>1.0</td>\n",
       "      <td>1.0</td>\n",
       "      <td>True</td>\n",
       "      <td>252058</td>\n",
       "      <td>0</td>\n",
       "      <td>0</td>\n",
       "      <td>دیجی‌کالا</td>\n",
       "      <td>5A52N</td>\n",
       "      <td>0</td>\n",
       "      <td>0</td>\n",
       "      <td>0</td>\n",
       "    </tr>\n",
       "    <tr>\n",
       "      <th>1</th>\n",
       "      <td>9897229</td>\n",
       "      <td>1</td>\n",
       "      <td>10</td>\n",
       "      <td>16 تیر 1399</td>\n",
       "      <td>0.0</td>\n",
       "      <td>1.0</td>\n",
       "      <td>True</td>\n",
       "      <td>252058</td>\n",
       "      <td>1</td>\n",
       "      <td>0</td>\n",
       "      <td>دیجی‌کالا</td>\n",
       "      <td>5A52N</td>\n",
       "      <td>0</td>\n",
       "      <td>1</td>\n",
       "      <td>1</td>\n",
       "    </tr>\n",
       "    <tr>\n",
       "      <th>2</th>\n",
       "      <td>38074516</td>\n",
       "      <td>1</td>\n",
       "      <td>19</td>\n",
       "      <td>26 مرداد 1401</td>\n",
       "      <td>0.0</td>\n",
       "      <td>1.0</td>\n",
       "      <td>True</td>\n",
       "      <td>3331597</td>\n",
       "      <td>0</td>\n",
       "      <td>0</td>\n",
       "      <td>آرالیا بیوتی</td>\n",
       "      <td>ADM47</td>\n",
       "      <td>0</td>\n",
       "      <td>0</td>\n",
       "      <td>0</td>\n",
       "    </tr>\n",
       "    <tr>\n",
       "      <th>3</th>\n",
       "      <td>18628562</td>\n",
       "      <td>1</td>\n",
       "      <td>18</td>\n",
       "      <td>28 اسفند 1399</td>\n",
       "      <td>0.0</td>\n",
       "      <td>1.0</td>\n",
       "      <td>True</td>\n",
       "      <td>3331329</td>\n",
       "      <td>0</td>\n",
       "      <td>0</td>\n",
       "      <td>اینجاست آ</td>\n",
       "      <td>9ZMCZ</td>\n",
       "      <td>0</td>\n",
       "      <td>0</td>\n",
       "      <td>0</td>\n",
       "    </tr>\n",
       "    <tr>\n",
       "      <th>4</th>\n",
       "      <td>53301258</td>\n",
       "      <td>1</td>\n",
       "      <td>19</td>\n",
       "      <td>12 شهریور 1402</td>\n",
       "      <td>3.0</td>\n",
       "      <td>1.0</td>\n",
       "      <td>True</td>\n",
       "      <td>3255700</td>\n",
       "      <td>0</td>\n",
       "      <td>0</td>\n",
       "      <td>گالری آرایشی به سیما</td>\n",
       "      <td>CDWHA</td>\n",
       "      <td>0</td>\n",
       "      <td>0</td>\n",
       "      <td>0</td>\n",
       "    </tr>\n",
       "  </tbody>\n",
       "</table>\n",
       "</div>"
      ],
      "text/plain": [
       "         id  title  body      created_at  rate  recommendation_status  \\\n",
       "0  53672599      1     3  23 شهریور 1402   1.0                    1.0   \n",
       "1   9897229      1    10     16 تیر 1399   0.0                    1.0   \n",
       "2  38074516      1    19   26 مرداد 1401   0.0                    1.0   \n",
       "3  18628562      1    18   28 اسفند 1399   0.0                    1.0   \n",
       "4  53301258      1    19  12 شهریور 1402   3.0                    1.0   \n",
       "\n",
       "   is_buyer  product_id  likes  dislikes          seller_title seller_code  \\\n",
       "0      True      252058      0         0             دیجی‌کالا       5A52N   \n",
       "1      True      252058      1         0             دیجی‌کالا       5A52N   \n",
       "2      True     3331597      0         0          آرالیا بیوتی       ADM47   \n",
       "3      True     3331329      0         0            اینجاست آ        9ZMCZ   \n",
       "4      True     3255700      0         0  گالری آرایشی به سیما       CDWHA   \n",
       "\n",
       "   true_to_size_rate  advantages_count  disadvantages_count  \n",
       "0                  0                 0                    0  \n",
       "1                  0                 1                    1  \n",
       "2                  0                 0                    0  \n",
       "3                  0                 0                    0  \n",
       "4                  0                 0                    0  "
      ]
     },
     "execution_count": 34,
     "metadata": {},
     "output_type": "execute_result"
    }
   ],
   "source": [
    "digikala = pd.read_csv('new_comments.csv',  )\n",
    "digikala.head()"
   ]
  },
  {
   "cell_type": "code",
   "execution_count": 35,
   "metadata": {},
   "outputs": [
    {
     "data": {
      "text/html": [
       "<div>\n",
       "<style scoped>\n",
       "    .dataframe tbody tr th:only-of-type {\n",
       "        vertical-align: middle;\n",
       "    }\n",
       "\n",
       "    .dataframe tbody tr th {\n",
       "        vertical-align: top;\n",
       "    }\n",
       "\n",
       "    .dataframe thead th {\n",
       "        text-align: right;\n",
       "    }\n",
       "</style>\n",
       "<table border=\"1\" class=\"dataframe\">\n",
       "  <thead>\n",
       "    <tr style=\"text-align: right;\">\n",
       "      <th></th>\n",
       "      <th>id</th>\n",
       "      <th>title</th>\n",
       "      <th>body</th>\n",
       "      <th>rate</th>\n",
       "      <th>recommendation_status</th>\n",
       "      <th>product_id</th>\n",
       "      <th>likes</th>\n",
       "      <th>dislikes</th>\n",
       "      <th>true_to_size_rate</th>\n",
       "      <th>advantages_count</th>\n",
       "      <th>disadvantages_count</th>\n",
       "    </tr>\n",
       "  </thead>\n",
       "  <tbody>\n",
       "    <tr>\n",
       "      <th>count</th>\n",
       "      <td>6.156289e+06</td>\n",
       "      <td>6.156289e+06</td>\n",
       "      <td>6.156289e+06</td>\n",
       "      <td>6.156289e+06</td>\n",
       "      <td>6.156289e+06</td>\n",
       "      <td>6.156289e+06</td>\n",
       "      <td>6.156289e+06</td>\n",
       "      <td>6.156289e+06</td>\n",
       "      <td>6.156289e+06</td>\n",
       "      <td>6.156289e+06</td>\n",
       "      <td>6.156289e+06</td>\n",
       "    </tr>\n",
       "    <tr>\n",
       "      <th>mean</th>\n",
       "      <td>3.704709e+07</td>\n",
       "      <td>5.346122e-01</td>\n",
       "      <td>1.008899e+01</td>\n",
       "      <td>3.648286e+00</td>\n",
       "      <td>8.064603e-01</td>\n",
       "      <td>3.908983e+06</td>\n",
       "      <td>4.503171e-01</td>\n",
       "      <td>8.687068e-02</td>\n",
       "      <td>1.474476e-02</td>\n",
       "      <td>2.183842e-01</td>\n",
       "      <td>8.682617e-02</td>\n",
       "    </tr>\n",
       "    <tr>\n",
       "      <th>std</th>\n",
       "      <td>1.393243e+07</td>\n",
       "      <td>4.988006e-01</td>\n",
       "      <td>1.336516e+01</td>\n",
       "      <td>1.861854e+00</td>\n",
       "      <td>3.632568e-01</td>\n",
       "      <td>3.015881e+06</td>\n",
       "      <td>2.294114e+00</td>\n",
       "      <td>8.313516e-01</td>\n",
       "      <td>1.205295e-01</td>\n",
       "      <td>7.193426e-01</td>\n",
       "      <td>3.718175e-01</td>\n",
       "    </tr>\n",
       "    <tr>\n",
       "      <th>min</th>\n",
       "      <td>9.815860e+05</td>\n",
       "      <td>0.000000e+00</td>\n",
       "      <td>1.000000e+00</td>\n",
       "      <td>0.000000e+00</td>\n",
       "      <td>0.000000e+00</td>\n",
       "      <td>7.602000e+03</td>\n",
       "      <td>0.000000e+00</td>\n",
       "      <td>0.000000e+00</td>\n",
       "      <td>0.000000e+00</td>\n",
       "      <td>0.000000e+00</td>\n",
       "      <td>0.000000e+00</td>\n",
       "    </tr>\n",
       "    <tr>\n",
       "      <th>25%</th>\n",
       "      <td>2.731234e+07</td>\n",
       "      <td>0.000000e+00</td>\n",
       "      <td>3.000000e+00</td>\n",
       "      <td>3.000000e+00</td>\n",
       "      <td>1.000000e+00</td>\n",
       "      <td>1.532375e+06</td>\n",
       "      <td>0.000000e+00</td>\n",
       "      <td>0.000000e+00</td>\n",
       "      <td>0.000000e+00</td>\n",
       "      <td>0.000000e+00</td>\n",
       "      <td>0.000000e+00</td>\n",
       "    </tr>\n",
       "    <tr>\n",
       "      <th>50%</th>\n",
       "      <td>4.044773e+07</td>\n",
       "      <td>1.000000e+00</td>\n",
       "      <td>6.000000e+00</td>\n",
       "      <td>4.000000e+00</td>\n",
       "      <td>1.000000e+00</td>\n",
       "      <td>3.183184e+06</td>\n",
       "      <td>0.000000e+00</td>\n",
       "      <td>0.000000e+00</td>\n",
       "      <td>0.000000e+00</td>\n",
       "      <td>0.000000e+00</td>\n",
       "      <td>0.000000e+00</td>\n",
       "    </tr>\n",
       "    <tr>\n",
       "      <th>75%</th>\n",
       "      <td>4.897122e+07</td>\n",
       "      <td>1.000000e+00</td>\n",
       "      <td>1.200000e+01</td>\n",
       "      <td>5.000000e+00</td>\n",
       "      <td>1.000000e+00</td>\n",
       "      <td>5.992988e+06</td>\n",
       "      <td>0.000000e+00</td>\n",
       "      <td>0.000000e+00</td>\n",
       "      <td>0.000000e+00</td>\n",
       "      <td>0.000000e+00</td>\n",
       "      <td>0.000000e+00</td>\n",
       "    </tr>\n",
       "    <tr>\n",
       "      <th>max</th>\n",
       "      <td>5.474516e+07</td>\n",
       "      <td>1.000000e+00</td>\n",
       "      <td>9.080000e+02</td>\n",
       "      <td>2.500000e+03</td>\n",
       "      <td>1.000000e+00</td>\n",
       "      <td>1.270221e+07</td>\n",
       "      <td>1.136000e+03</td>\n",
       "      <td>3.360000e+02</td>\n",
       "      <td>1.000000e+00</td>\n",
       "      <td>3.200000e+01</td>\n",
       "      <td>1.700000e+01</td>\n",
       "    </tr>\n",
       "  </tbody>\n",
       "</table>\n",
       "</div>"
      ],
      "text/plain": [
       "                 id         title          body          rate  \\\n",
       "count  6.156289e+06  6.156289e+06  6.156289e+06  6.156289e+06   \n",
       "mean   3.704709e+07  5.346122e-01  1.008899e+01  3.648286e+00   \n",
       "std    1.393243e+07  4.988006e-01  1.336516e+01  1.861854e+00   \n",
       "min    9.815860e+05  0.000000e+00  1.000000e+00  0.000000e+00   \n",
       "25%    2.731234e+07  0.000000e+00  3.000000e+00  3.000000e+00   \n",
       "50%    4.044773e+07  1.000000e+00  6.000000e+00  4.000000e+00   \n",
       "75%    4.897122e+07  1.000000e+00  1.200000e+01  5.000000e+00   \n",
       "max    5.474516e+07  1.000000e+00  9.080000e+02  2.500000e+03   \n",
       "\n",
       "       recommendation_status    product_id         likes      dislikes  \\\n",
       "count           6.156289e+06  6.156289e+06  6.156289e+06  6.156289e+06   \n",
       "mean            8.064603e-01  3.908983e+06  4.503171e-01  8.687068e-02   \n",
       "std             3.632568e-01  3.015881e+06  2.294114e+00  8.313516e-01   \n",
       "min             0.000000e+00  7.602000e+03  0.000000e+00  0.000000e+00   \n",
       "25%             1.000000e+00  1.532375e+06  0.000000e+00  0.000000e+00   \n",
       "50%             1.000000e+00  3.183184e+06  0.000000e+00  0.000000e+00   \n",
       "75%             1.000000e+00  5.992988e+06  0.000000e+00  0.000000e+00   \n",
       "max             1.000000e+00  1.270221e+07  1.136000e+03  3.360000e+02   \n",
       "\n",
       "       true_to_size_rate  advantages_count  disadvantages_count  \n",
       "count       6.156289e+06      6.156289e+06         6.156289e+06  \n",
       "mean        1.474476e-02      2.183842e-01         8.682617e-02  \n",
       "std         1.205295e-01      7.193426e-01         3.718175e-01  \n",
       "min         0.000000e+00      0.000000e+00         0.000000e+00  \n",
       "25%         0.000000e+00      0.000000e+00         0.000000e+00  \n",
       "50%         0.000000e+00      0.000000e+00         0.000000e+00  \n",
       "75%         0.000000e+00      0.000000e+00         0.000000e+00  \n",
       "max         1.000000e+00      3.200000e+01         1.700000e+01  "
      ]
     },
     "execution_count": 35,
     "metadata": {},
     "output_type": "execute_result"
    }
   ],
   "source": [
    "digikala.describe()"
   ]
  },
  {
   "cell_type": "code",
   "execution_count": 36,
   "metadata": {},
   "outputs": [],
   "source": [
    "from persiantools.jdatetime import JalaliDate\n",
    "\n",
    "def persian_month_to_number(month_name):\n",
    "    persian_months = {'فروردین':'01',\n",
    "                      'اردیبهشت':'02',\n",
    "                      'خرداد':'03',\n",
    "                      'تیر':'04',\n",
    "                      'مرداد':'05',\n",
    "                      'شهریور':'06',\n",
    "                      'مهر':'07',\n",
    "                      'آبان':'08',\n",
    "                      'آذر':'09',\n",
    "                      'دی':'10',\n",
    "                      'بهمن':'11',\n",
    "                      'اسفند':'12'}\n",
    "    return persian_months[month_name]"
   ]
  },
  {
   "cell_type": "code",
   "execution_count": 37,
   "metadata": {},
   "outputs": [],
   "source": [
    "digikala['created_at'] = digikala['created_at'].apply(lambda x: JalaliDate(int(x.split()[2]), int(persian_month_to_number(x.split()[1])), int(x.split()[0])))"
   ]
  },
  {
   "cell_type": "markdown",
   "metadata": {},
   "source": [
    "# Exploring Data"
   ]
  },
  {
   "cell_type": "markdown",
   "metadata": {},
   "source": [
    "## Comments Length Analyis\n",
    "I want to declare Intervals for scoring on comments lenrgth. here is three method :\n",
    "1. Heuristic-Based\n",
    "2. Percentile-Based\n",
    "3. Clustering-Based"
   ]
  },
  {
   "cell_type": "code",
   "execution_count": 38,
   "metadata": {
    "metadata": {}
   },
   "outputs": [
    {
     "data": {
      "image/png": "[encoded data removed]",
      "text/plain": [
       "<Figure size 640x480 with 1 Axes>"
      ]
     },
     "metadata": {},
     "output_type": "display_data"
    }
   ],
   "source": [
    "comments = digikala['body']\n",
    "plt.hist(comments, bins= np.arange(min(comments), max(comments), 50), log=True)\n",
    "plt.show()"
   ]
  },
  {
   "cell_type": "code",
   "execution_count": 39,
   "metadata": {
    "metadata": {}
   },
   "outputs": [],
   "source": [
    "import bisect\n",
    "from collections import defaultdict\n",
    "\n",
    "def score_comment(intervals, length):\n",
    "    return bisect.bisect_left(intervals, length)\n",
    "\n",
    "def total_score_comment(intervals, lengths):\n",
    "     = 0\n",
    "    lengths_dict = defaultdict(list)\n",
    "    for length in lengths:\n",
    "        score = score_comment(intervals, length)\n",
    "        local_sum += score\n",
    "        lengths_dict[score].append(length)\n",
    "\n",
    "    lengths_stats = {}\n",
    "    for score, lengths in lengths_dict.items():\n",
    "        lengths_stats[score] = {\n",
    "            'num' : len(lengths),\n",
    "            'mean': np.mean(lengths),\n",
    "            'std': np.std(lengths),\n",
    "            'sum' : np.sum(lengths)\n",
    "        }\n",
    "    return lengths_stats, local_sum"
   ]
  },
  {
   "cell_type": "code",
   "execution_count": 40,
   "metadata": {},
   "outputs": [
    {
     "name": "stdout",
     "output_type": "stream",
     "text": [
      "{0: {'num': 2, 'mean': 0.0, 'std': 0.0, 'sum': 0}, 1: {'num': 1, 'mean': 1.0, 'std': 0.0, 'sum': 1}, 2: {'num': 4, 'mean': 2.75, 'std': 0.82915619758885, 'sum': 11}, 3: {'num': 2, 'mean': 6.0, 'std': 0.0, 'sum': 12}, 4: {'num': 3, 'mean': 28.666666666666668, 'std': 10.208928554075703, 'sum': 86}}\n",
      "27\n"
     ]
    }
   ],
   "source": [
    "# check function\n",
    "intervals = [0, 1, 5, 10]\n",
    "lengths = [0,0,1,2,2,3,6,4,6,20,23,43]\n",
    "\n",
    "lengths_stats, local_sum = total_score_comment(intervals, lengths)\n",
    "print(lengths_stats)\n",
    "print(local_sum)"
   ]
  },
  {
   "cell_type": "markdown",
   "metadata": {},
   "source": [
    "### Heuristic-Based"
   ]
  },
  {
   "cell_type": "code",
   "execution_count": 41,
   "metadata": {},
   "outputs": [
    {
     "name": "stdout",
     "output_type": "stream",
     "text": [
      "{1: {'num': 2396131, 'mean': 3.4742499471022246, 'std': 1.079481439525275, 'sum': 8324758}, 2: {'num': 2606244, 'mean': 10.502457175920597, 'std': 3.970087862262484, 'sum': 27371966}, 0: {'num': 453224, 'mean': 1.0, 'std': 0.0, 'sum': 453224}, 3: {'num': 685134, 'mean': 34.55940735680903, 'std': 14.791314801205521, 'sum': 23677825}, 4: {'num': 15101, 'mean': 138.8665651281372, 'std': 39.718716751871725, 'sum': 2097024}, 5: {'num': 374, 'mean': 362.1764705882353, 'std': 47.01815421776919, 'sum': 135454}, 6: {'num': 81, 'mean': 623.4444444444445, 'std': 111.85970048499412, 'sum': 50499}}\n"
     ]
    }
   ],
   "source": [
    "heuristic_intervals = [1, 5, 20, 100, 300, 500, 1000]\n",
    "\n",
    "lengths_stats, local_sum = total_score_comment(heuristic_intervals, comments)\n",
    "print(lengths_stats)"
   ]
  },
  {
   "cell_type": "code",
   "execution_count": 42,
   "metadata": {},
   "outputs": [
    {
     "data": {
      "image/png": "[encoded data removed]",
      "text/plain": [
       "<Figure size 640x480 with 1 Axes>"
      ]
     },
     "metadata": {},
     "output_type": "display_data"
    }
   ],
   "source": [
    "plt.hist(comments, bins= np.arange(min(comments), max(comments), 50), log=True)\n",
    "for boundary in heuristic_intervals:\n",
    "    plt.axvline(boundary, color='r', linestyle='dashed', linewidth=1)\n",
    "plt.hist(comments, bins= heuristic_intervals, log = True, color= 'green', alpha = 0.3)\n",
    "plt.show()"
   ]
  },
  {
   "cell_type": "markdown",
   "metadata": {},
   "source": [
    "### Percentile-Based"
   ]
  },
  {
   "cell_type": "code",
   "execution_count": 43,
   "metadata": {},
   "outputs": [
    {
     "name": "stdout",
     "output_type": "stream",
     "text": [
      "[   2.    3.    6.   12.   22. 1000.]\n",
      "{1: {'num': 653297, 'mean': 3.0, 'std': 0.0, 'sum': 1959891}, 3: {'num': 1437158, 'mean': 9.042821318184918, 'std': 1.6753973623035274, 'sum': 12995963}, 4: {'num': 848157, 'mean': 16.57397981741588, 'std': 2.797221253679757, 'sum': 14057337}, 0: {'num': 1021167, 'mean': 1.556170538217549, 'std': 0.4968348524775116, 'sum': 1589110}, 2: {'num': 1599647, 'mean': 4.86202080834084, 'std': 0.8062276973154222, 'sum': 7777517}, 5: {'num': 596863, 'mean': 39.75942888066441, 'std': 25.037322483156345, 'sum': 23730932}}\n"
     ]
    }
   ],
   "source": [
    "percentiles = [10, 25, 50, 75, 90]\n",
    "percentile_intervals = np.percentile(comments, percentiles)\n",
    "percentile_intervals = np.append(percentile_intervals, 1000)\n",
    "print(percentile_intervals)\n",
    "\n",
    "lengths_stats, local_sum = total_score_comment(percentile_intervals, comments)\n",
    "print(lengths_stats)"
   ]
  },
  {
   "cell_type": "code",
   "execution_count": 44,
   "metadata": {},
   "outputs": [
    {
     "data": {
      "image/png": "[encoded data removed]",
      "text/plain": [
       "<Figure size 640x480 with 1 Axes>"
      ]
     },
     "metadata": {},
     "output_type": "display_data"
    }
   ],
   "source": [
    "plt.hist(comments, bins= np.arange(min(comments), max(comments), 50), log=True)\n",
    "for boundary in percentile_intervals:\n",
    "    plt.axvline(boundary, color='r', linestyle='dashed', linewidth=1)\n",
    "plt.hist(comments, bins= percentile_intervals, log = True, color= 'green', alpha = 0.3)\n",
    "plt.show()"
   ]
  },
  {
   "cell_type": "markdown",
   "metadata": {},
   "source": [
    "### Clustering-Based"
   ]
  },
  {
   "cell_type": "code",
   "execution_count": 45,
   "metadata": {
    "metadata": {}
   },
   "outputs": [
    {
     "name": "stderr",
     "output_type": "stream",
     "text": [
      "C:\\Users\\asus\\AppData\\Local\\Packages\\PythonSoftwareFoundation.Python.3.11_qbz5n2kfra8p0\\LocalCache\\local-packages\\Python311\\site-packages\\sklearn\\cluster\\_kmeans.py:1416: FutureWarning: The default value of `n_init` will change from 10 to 'auto' in 1.4. Set the value of `n_init` explicitly to suppress the warning\n",
      "  super()._check_params_vs_input(X, default_n_init=10)\n"
     ]
    },
    {
     "name": "stdout",
     "output_type": "stream",
     "text": [
      "[   3.79905813   11.66618072   25.39319152   49.50324449   99.4462832\n",
      "  241.27710449 1000.        ]\n",
      "{0: {'num': 1674464, 'mean': 2.1194848023009154, 'std': 0.8040798449051597, 'sum': 3549001}, 1: {'num': 2879407, 'mean': 6.558539310351055, 'std': 2.1961069107560767, 'sum': 18884704}, 2: {'num': 1127170, 'mean': 16.729684963226486, 'std': 3.8348165034362998, 'sum': 18857199}, 3: {'num': 365288, 'mean': 33.95360646941591, 'std': 6.440292957963199, 'sum': 12402845}, 4: {'num': 93950, 'mean': 64.80706758914316, 'std': 12.681589958086612, 'sum': 6088624}, 5: {'num': 15024, 'mean': 133.19375665601703, 'std': 31.887265827231467, 'sum': 2001103}, 6: {'num': 986, 'mean': 331.920892494929, 'std': 108.05080048951304, 'sum': 327274}}\n"
     ]
    }
   ],
   "source": [
    "n_intervals = 6\n",
    "comment_lengths_reshaped = np.reshape(comments, (-1, 1))\n",
    "\n",
    "# Apply K-means clustering\n",
    "kmeans = KMeans(n_clusters=n_intervals, random_state=42).fit(comment_lengths_reshaped)\n",
    "clustering_intervals = np.sort(kmeans.cluster_centers_.flatten())\n",
    "clustering_intervals = np.append(clustering_intervals, 1000)\n",
    "print(clustering_intervals)\n",
    "\n",
    "lengths_stats, local_sum = total_score_comment(clustering_intervals, comments)\n",
    "print(lengths_stats)"
   ]
  },
  {
   "cell_type": "code",
   "execution_count": 46,
   "metadata": {},
   "outputs": [
    {
     "data": {
      "image/png": "[encoded data removed]",
      "text/plain": [
       "<Figure size 640x480 with 1 Axes>"
      ]
     },
     "metadata": {},
     "output_type": "display_data"
    }
   ],
   "source": [
    "plt.hist(comments, bins= np.arange(min(comments), max(comments), 50), log=True)\n",
    "for boundary in clustering_intervals:\n",
    "    plt.axvline(boundary, color='r', linestyle='dashed', linewidth=1)\n",
    "plt.hist(comments, bins= clustering_intervals, log = True, color= 'green', alpha = 0.3)\n",
    "plt.show()"
   ]
  },
  {
   "cell_type": "markdown",
   "metadata": {},
   "source": [
    "### Distribution of Product's Scores"
   ]
  },
  {
   "cell_type": "code",
   "execution_count": 47,
   "metadata": {},
   "outputs": [
    {
     "data": {
      "text/html": [
       "<div>\n",
       "<style scoped>\n",
       "    .dataframe tbody tr th:only-of-type {\n",
       "        vertical-align: middle;\n",
       "    }\n",
       "\n",
       "    .dataframe tbody tr th {\n",
       "        vertical-align: top;\n",
       "    }\n",
       "\n",
       "    .dataframe thead th {\n",
       "        text-align: right;\n",
       "    }\n",
       "</style>\n",
       "<table border=\"1\" class=\"dataframe\">\n",
       "  <thead>\n",
       "    <tr style=\"text-align: right;\">\n",
       "      <th></th>\n",
       "      <th>product_id</th>\n",
       "      <th>score</th>\n",
       "    </tr>\n",
       "  </thead>\n",
       "  <tbody>\n",
       "    <tr>\n",
       "      <th>0</th>\n",
       "      <td>7602</td>\n",
       "      <td>274</td>\n",
       "    </tr>\n",
       "    <tr>\n",
       "      <th>1</th>\n",
       "      <td>12302</td>\n",
       "      <td>13</td>\n",
       "    </tr>\n",
       "    <tr>\n",
       "      <th>2</th>\n",
       "      <td>12423</td>\n",
       "      <td>13</td>\n",
       "    </tr>\n",
       "    <tr>\n",
       "      <th>3</th>\n",
       "      <td>15327</td>\n",
       "      <td>106</td>\n",
       "    </tr>\n",
       "    <tr>\n",
       "      <th>4</th>\n",
       "      <td>15435</td>\n",
       "      <td>223</td>\n",
       "    </tr>\n",
       "  </tbody>\n",
       "</table>\n",
       "</div>"
      ],
      "text/plain": [
       "   product_id  score\n",
       "0        7602    274\n",
       "1       12302     13\n",
       "2       12423     13\n",
       "3       15327    106\n",
       "4       15435    223"
      ]
     },
     "execution_count": 47,
     "metadata": {},
     "output_type": "execute_result"
    }
   ],
   "source": [
    "df = digikala[['body', 'product_id']].reset_index(drop=True)\n",
    "df['score'] = df['body'].apply(lambda comment: score_comment(clustering_intervals, comment))\n",
    "result = df.groupby('product_id')['score'].sum().reset_index()\n",
    "result.head()"
   ]
  },
  {
   "cell_type": "code",
   "execution_count": 48,
   "metadata": {},
   "outputs": [
    {
     "data": {
      "text/plain": [
       "count    331599.000000\n",
       "mean         20.164256\n",
       "std          43.695970\n",
       "min           0.000000\n",
       "25%           2.000000\n",
       "50%           4.000000\n",
       "75%          14.000000\n",
       "max         472.000000\n",
       "Name: score, dtype: float64"
      ]
     },
     "execution_count": 48,
     "metadata": {},
     "output_type": "execute_result"
    }
   ],
   "source": [
    "result['score'].describe()"
   ]
  },
  {
   "cell_type": "code",
   "execution_count": 49,
   "metadata": {},
   "outputs": [
    {
     "data": {
      "image/png": "[encoded data removed]",
      "text/plain": [
       "<Figure size 640x480 with 1 Axes>"
      ]
     },
     "metadata": {},
     "output_type": "display_data"
    }
   ],
   "source": [
    "plt.hist(result['score'],bins= 20, log=True)\n",
    "plt.show()"
   ]
  },
  {
   "cell_type": "markdown",
   "metadata": {},
   "source": [
    "## Rates And Comments Grouping\n",
    "We want to divide comments into positive and negative groups. In the simplest case, we do this using rates. Otherwise, we refer to the comment sentiment."
   ]
  },
  {
   "cell_type": "markdown",
   "metadata": {},
   "source": [
    "### Rates Distribution"
   ]
  },
  {
   "cell_type": "code",
   "execution_count": 50,
   "metadata": {},
   "outputs": [
    {
     "data": {
      "image/png": "[encoded data removed]",
      "text/plain": [
       "<Figure size 640x480 with 1 Axes>"
      ]
     },
     "metadata": {},
     "output_type": "display_data"
    }
   ],
   "source": [
    "# TODO\n",
    "plt.hist(digikala['rate'])\n",
    "plt.show()"
   ]
  },
  {
   "cell_type": "markdown",
   "metadata": {},
   "source": [
    "### Labeling comments"
   ]
  },
  {
   "cell_type": "code",
   "execution_count": null,
   "metadata": {},
   "outputs": [],
   "source": [
    "sentiments = pd.read_csv(\"sentiments.csv\")\n",
    "digikala = digikala.merge(sentiments, on='id')\n",
    "digikala.head()"
   ]
  },
  {
   "cell_type": "code",
   "execution_count": null,
   "metadata": {},
   "outputs": [],
   "source": [
    "def label_group(comment):\n",
    "    if comment['rate'] > 3:\n",
    "        return \"positive\"\n",
    "    if 0 < comment['rate'] < 3:\n",
    "        return \"negative\"\n",
    "    return comment['sentiment']\n",
    "\n",
    "digikala['label'] = digikala.apply(label_group, axis=1)"
   ]
  },
  {
   "cell_type": "markdown",
   "metadata": {},
   "source": [
    "# Define Scoring Function"
   ]
  },
  {
   "cell_type": "code",
   "execution_count": 52,
   "metadata": {},
   "outputs": [],
   "source": [
    "grouped_digikala = digikala.groupby(['product_id', 'seller_title'])"
   ]
  },
  {
   "cell_type": "markdown",
   "metadata": {},
   "source": [
    "## Simple Scoring"
   ]
  },
  {
   "cell_type": "code",
   "execution_count": 53,
   "metadata": {},
   "outputs": [
    {
     "data": {
      "text/html": [
       "<div>\n",
       "<style scoped>\n",
       "    .dataframe tbody tr th:only-of-type {\n",
       "        vertical-align: middle;\n",
       "    }\n",
       "\n",
       "    .dataframe tbody tr th {\n",
       "        vertical-align: top;\n",
       "    }\n",
       "\n",
       "    .dataframe thead th {\n",
       "        text-align: right;\n",
       "    }\n",
       "</style>\n",
       "<table border=\"1\" class=\"dataframe\">\n",
       "  <thead>\n",
       "    <tr style=\"text-align: right;\">\n",
       "      <th></th>\n",
       "      <th>product_id</th>\n",
       "      <th>seller_title</th>\n",
       "      <th>simple_score</th>\n",
       "    </tr>\n",
       "  </thead>\n",
       "  <tbody>\n",
       "    <tr>\n",
       "      <th>0</th>\n",
       "      <td>7602</td>\n",
       "      <td>برزان</td>\n",
       "      <td>112.047</td>\n",
       "    </tr>\n",
       "    <tr>\n",
       "      <th>1</th>\n",
       "      <td>7602</td>\n",
       "      <td>برهان الکترونیک</td>\n",
       "      <td>3.001</td>\n",
       "    </tr>\n",
       "    <tr>\n",
       "      <th>2</th>\n",
       "      <td>7602</td>\n",
       "      <td>به روز سنتر</td>\n",
       "      <td>10.003</td>\n",
       "    </tr>\n",
       "    <tr>\n",
       "      <th>3</th>\n",
       "      <td>7602</td>\n",
       "      <td>جانبی انسی</td>\n",
       "      <td>32.012</td>\n",
       "    </tr>\n",
       "    <tr>\n",
       "      <th>4</th>\n",
       "      <td>7602</td>\n",
       "      <td>جانبی حبیب</td>\n",
       "      <td>2.000</td>\n",
       "    </tr>\n",
       "  </tbody>\n",
       "</table>\n",
       "</div>"
      ],
      "text/plain": [
       "   product_id     seller_title  simple_score\n",
       "0        7602            برزان       112.047\n",
       "1        7602  برهان الکترونیک         3.001\n",
       "2        7602      به روز سنتر        10.003\n",
       "3        7602       جانبی انسی        32.012\n",
       "4        7602       جانبی حبیب         2.000"
      ]
     },
     "execution_count": 53,
     "metadata": {},
     "output_type": "execute_result"
    }
   ],
   "source": [
    "def simple_score(group):\n",
    "    group = group[group['is_buyer']]\n",
    "\n",
    "    _, comments = total_score_comment(clustering_intervals, group['body'])\n",
    "    comments_score = comments / 1000\n",
    "    rates_score = (group['rate'] > 0).sum()\n",
    "    titles_score = group['title'].sum()\n",
    "    likes_score = group['likes'].sum() + group['dislikes'].sum()\n",
    "    recommended_score = group['recommendation_status'].sum()\n",
    "    advantages_score = group['advantages_count'].sum() + group['disadvantages_count'].sum()\n",
    "    \n",
    "    total_score = (comments_score + rates_score + titles_score + \n",
    "                   likes_score + recommended_score + advantages_score)\n",
    "    \n",
    "    return total_score\n",
    "\n",
    "simple_df = grouped_digikala.apply(simple_score).reset_index(name='simple_score')\n",
    "simple_df.head()"
   ]
  },
  {
   "cell_type": "code",
   "execution_count": 54,
   "metadata": {},
   "outputs": [
    {
     "data": {
      "text/html": [
       "<div>\n",
       "<style scoped>\n",
       "    .dataframe tbody tr th:only-of-type {\n",
       "        vertical-align: middle;\n",
       "    }\n",
       "\n",
       "    .dataframe tbody tr th {\n",
       "        vertical-align: top;\n",
       "    }\n",
       "\n",
       "    .dataframe thead th {\n",
       "        text-align: right;\n",
       "    }\n",
       "</style>\n",
       "<table border=\"1\" class=\"dataframe\">\n",
       "  <thead>\n",
       "    <tr style=\"text-align: right;\">\n",
       "      <th></th>\n",
       "      <th>product_id</th>\n",
       "      <th>seller_title</th>\n",
       "      <th>avg_simple_score</th>\n",
       "    </tr>\n",
       "  </thead>\n",
       "  <tbody>\n",
       "    <tr>\n",
       "      <th>0</th>\n",
       "      <td>7602</td>\n",
       "      <td>برزان</td>\n",
       "      <td>350.146875</td>\n",
       "    </tr>\n",
       "    <tr>\n",
       "      <th>1</th>\n",
       "      <td>7602</td>\n",
       "      <td>برهان الکترونیک</td>\n",
       "      <td>300.100000</td>\n",
       "    </tr>\n",
       "    <tr>\n",
       "      <th>2</th>\n",
       "      <td>7602</td>\n",
       "      <td>به روز سنتر</td>\n",
       "      <td>500.150000</td>\n",
       "    </tr>\n",
       "    <tr>\n",
       "      <th>3</th>\n",
       "      <td>7602</td>\n",
       "      <td>جانبی انسی</td>\n",
       "      <td>320.120000</td>\n",
       "    </tr>\n",
       "    <tr>\n",
       "      <th>4</th>\n",
       "      <td>7602</td>\n",
       "      <td>جانبی حبیب</td>\n",
       "      <td>200.000000</td>\n",
       "    </tr>\n",
       "  </tbody>\n",
       "</table>\n",
       "</div>"
      ],
      "text/plain": [
       "   product_id     seller_title  avg_simple_score\n",
       "0        7602            برزان        350.146875\n",
       "1        7602  برهان الکترونیک        300.100000\n",
       "2        7602      به روز سنتر        500.150000\n",
       "3        7602       جانبی انسی        320.120000\n",
       "4        7602       جانبی حبیب        200.000000"
      ]
     },
     "execution_count": 54,
     "metadata": {},
     "output_type": "execute_result"
    }
   ],
   "source": [
    "# Divide by total number\n",
    "def avg_simple_score(group):\n",
    "    group = group[group['is_buyer']]\n",
    "\n",
    "    _, comments = total_score_comment(clustering_intervals, group['body'])\n",
    "    comments_score = comments / 1000\n",
    "    rates_score = (group['rate'] > 0).sum()\n",
    "    titles_score = group['title'].sum()\n",
    "    likes_score = group['likes'].sum() + group['dislikes'].sum()\n",
    "    recommended_score = group['recommendation_status'].sum()\n",
    "    advantages_score = group['advantages_count'].sum() + group['disadvantages_count'].sum()\n",
    "    \n",
    "    total_score = (comments_score + rates_score + titles_score + \n",
    "                   likes_score + recommended_score + advantages_score) / len(group) * 100\n",
    "    \n",
    "    return total_score\n",
    "\n",
    "avg_simple_df = grouped_digikala.apply(avg_simple_score).reset_index(name='avg_simple_score')\n",
    "avg_simple_df.head()"
   ]
  },
  {
   "cell_type": "markdown",
   "metadata": {},
   "source": [
    "## Weighted Scoring:"
   ]
  },
  {
   "cell_type": "code",
   "execution_count": 55,
   "metadata": {},
   "outputs": [
    {
     "ename": "TypeError",
     "evalue": "'int' object is not callable",
     "output_type": "error",
     "traceback": [
      "\u001b[1;31m---------------------------------------------------------------------------\u001b[0m",
      "\u001b[1;31mTypeError\u001b[0m                                 Traceback (most recent call last)",
      "Cell \u001b[1;32mIn[55], line 10\u001b[0m\n\u001b[0;32m      1\u001b[0m weights \u001b[38;5;241m=\u001b[39m {\n\u001b[0;32m      2\u001b[0m         \u001b[38;5;124m\"\u001b[39m\u001b[38;5;124mbody\u001b[39m\u001b[38;5;124m\"\u001b[39m : \u001b[38;5;241m10\u001b[39m,\n\u001b[0;32m      3\u001b[0m         \u001b[38;5;124m\"\u001b[39m\u001b[38;5;124mtitle\u001b[39m\u001b[38;5;124m\"\u001b[39m : \u001b[38;5;241m3\u001b[39m,\n\u001b[1;32m   (...)\u001b[0m\n\u001b[0;32m      7\u001b[0m         \u001b[38;5;124m\"\u001b[39m\u001b[38;5;124madvantages\u001b[39m\u001b[38;5;124m\"\u001b[39m : \u001b[38;5;241m5\u001b[39m\n\u001b[0;32m      8\u001b[0m     }\n\u001b[1;32m---> 10\u001b[0m \u001b[38;5;28;43msum\u001b[39;49m\u001b[43m(\u001b[49m\u001b[43mweights\u001b[49m\u001b[38;5;241;43m.\u001b[39;49m\u001b[43mvalues\u001b[49m\u001b[43m(\u001b[49m\u001b[43m)\u001b[49m\u001b[43m)\u001b[49m\n",
      "\u001b[1;31mTypeError\u001b[0m: 'int' object is not callable"
     ]
    }
   ],
   "source": [
    "weights = {\n",
    "        \"body\" : 10,\n",
    "        \"title\" : 3,\n",
    "        \"rate\" : 4,\n",
    "        \"likes\" : 4,\n",
    "        \"recommendation\" : 3,\n",
    "        \"advantages\" : 5\n",
    "    }\n",
    "\n",
    "sum(weights.values())"
   ]
  },
  {
   "cell_type": "code",
   "execution_count": null,
   "metadata": {},
   "outputs": [
    {
     "ename": "TypeError",
     "evalue": "'int' object is not callable",
     "output_type": "error",
     "traceback": [
      "\u001b[1;31m---------------------------------------------------------------------------\u001b[0m",
      "\u001b[1;31mTypeError\u001b[0m                                 Traceback (most recent call last)",
      "File \u001b[1;32m~\\AppData\\Local\\Packages\\PythonSoftwareFoundation.Python.3.11_qbz5n2kfra8p0\\LocalCache\\local-packages\\Python311\\site-packages\\pandas\\core\\groupby\\groupby.py:1353\u001b[0m, in \u001b[0;36mGroupBy.apply\u001b[1;34m(self, func, *args, **kwargs)\u001b[0m\n\u001b[0;32m   1352\u001b[0m \u001b[38;5;28;01mtry\u001b[39;00m:\n\u001b[1;32m-> 1353\u001b[0m     result \u001b[38;5;241m=\u001b[39m \u001b[38;5;28;43mself\u001b[39;49m\u001b[38;5;241;43m.\u001b[39;49m\u001b[43m_python_apply_general\u001b[49m\u001b[43m(\u001b[49m\u001b[43mf\u001b[49m\u001b[43m,\u001b[49m\u001b[43m \u001b[49m\u001b[38;5;28;43mself\u001b[39;49m\u001b[38;5;241;43m.\u001b[39;49m\u001b[43m_selected_obj\u001b[49m\u001b[43m)\u001b[49m\n\u001b[0;32m   1354\u001b[0m \u001b[38;5;28;01mexcept\u001b[39;00m \u001b[38;5;167;01mTypeError\u001b[39;00m:\n\u001b[0;32m   1355\u001b[0m     \u001b[38;5;66;03m# gh-20949\u001b[39;00m\n\u001b[0;32m   1356\u001b[0m     \u001b[38;5;66;03m# try again, with .apply acting as a filtering\u001b[39;00m\n\u001b[1;32m   (...)\u001b[0m\n\u001b[0;32m   1360\u001b[0m     \u001b[38;5;66;03m# fails on *some* columns, e.g. a numeric operation\u001b[39;00m\n\u001b[0;32m   1361\u001b[0m     \u001b[38;5;66;03m# on a string grouper column\u001b[39;00m\n",
      "File \u001b[1;32m~\\AppData\\Local\\Packages\\PythonSoftwareFoundation.Python.3.11_qbz5n2kfra8p0\\LocalCache\\local-packages\\Python311\\site-packages\\pandas\\core\\groupby\\groupby.py:1402\u001b[0m, in \u001b[0;36mGroupBy._python_apply_general\u001b[1;34m(self, f, data, not_indexed_same, is_transform, is_agg)\u001b[0m\n\u001b[0;32m   1376\u001b[0m \u001b[38;5;250m\u001b[39m\u001b[38;5;124;03m\"\"\"\u001b[39;00m\n\u001b[0;32m   1377\u001b[0m \u001b[38;5;124;03mApply function f in python space\u001b[39;00m\n\u001b[0;32m   1378\u001b[0m \n\u001b[1;32m   (...)\u001b[0m\n\u001b[0;32m   1400\u001b[0m \u001b[38;5;124;03m    data after applying f\u001b[39;00m\n\u001b[0;32m   1401\u001b[0m \u001b[38;5;124;03m\"\"\"\u001b[39;00m\n\u001b[1;32m-> 1402\u001b[0m values, mutated \u001b[38;5;241m=\u001b[39m \u001b[38;5;28;43mself\u001b[39;49m\u001b[38;5;241;43m.\u001b[39;49m\u001b[43mgrouper\u001b[49m\u001b[38;5;241;43m.\u001b[39;49m\u001b[43mapply\u001b[49m\u001b[43m(\u001b[49m\u001b[43mf\u001b[49m\u001b[43m,\u001b[49m\u001b[43m \u001b[49m\u001b[43mdata\u001b[49m\u001b[43m,\u001b[49m\u001b[43m \u001b[49m\u001b[38;5;28;43mself\u001b[39;49m\u001b[38;5;241;43m.\u001b[39;49m\u001b[43maxis\u001b[49m\u001b[43m)\u001b[49m\n\u001b[0;32m   1403\u001b[0m \u001b[38;5;28;01mif\u001b[39;00m not_indexed_same \u001b[38;5;129;01mis\u001b[39;00m \u001b[38;5;28;01mNone\u001b[39;00m:\n",
      "File \u001b[1;32m~\\AppData\\Local\\Packages\\PythonSoftwareFoundation.Python.3.11_qbz5n2kfra8p0\\LocalCache\\local-packages\\Python311\\site-packages\\pandas\\core\\groupby\\ops.py:767\u001b[0m, in \u001b[0;36mBaseGrouper.apply\u001b[1;34m(self, f, data, axis)\u001b[0m\n\u001b[0;32m    766\u001b[0m group_axes \u001b[38;5;241m=\u001b[39m group\u001b[38;5;241m.\u001b[39maxes\n\u001b[1;32m--> 767\u001b[0m res \u001b[38;5;241m=\u001b[39m \u001b[43mf\u001b[49m\u001b[43m(\u001b[49m\u001b[43mgroup\u001b[49m\u001b[43m)\u001b[49m\n\u001b[0;32m    768\u001b[0m \u001b[38;5;28;01mif\u001b[39;00m \u001b[38;5;129;01mnot\u001b[39;00m mutated \u001b[38;5;129;01mand\u001b[39;00m \u001b[38;5;129;01mnot\u001b[39;00m _is_indexed_like(res, group_axes, axis):\n",
      "Cell \u001b[1;32mIn[26], line 14\u001b[0m, in \u001b[0;36mweighted_score\u001b[1;34m(group)\u001b[0m\n\u001b[0;32m      5\u001b[0m weights \u001b[38;5;241m=\u001b[39m {\n\u001b[0;32m      6\u001b[0m     \u001b[38;5;124m\"\u001b[39m\u001b[38;5;124mbody\u001b[39m\u001b[38;5;124m\"\u001b[39m : \u001b[38;5;241m10\u001b[39m,\n\u001b[0;32m      7\u001b[0m     \u001b[38;5;124m\"\u001b[39m\u001b[38;5;124mtitle\u001b[39m\u001b[38;5;124m\"\u001b[39m : \u001b[38;5;241m3\u001b[39m,\n\u001b[1;32m   (...)\u001b[0m\n\u001b[0;32m     11\u001b[0m     \u001b[38;5;124m\"\u001b[39m\u001b[38;5;124madvantages\u001b[39m\u001b[38;5;124m\"\u001b[39m : \u001b[38;5;241m5\u001b[39m\n\u001b[0;32m     12\u001b[0m }\n\u001b[1;32m---> 14\u001b[0m total_weight \u001b[38;5;241m=\u001b[39m \u001b[38;5;28;43msum\u001b[39;49m\u001b[43m(\u001b[49m\u001b[43mweights\u001b[49m\u001b[38;5;241;43m.\u001b[39;49m\u001b[43mvalues\u001b[49m\u001b[43m(\u001b[49m\u001b[43m)\u001b[49m\u001b[43m)\u001b[49m\n\u001b[0;32m     16\u001b[0m _, comments \u001b[38;5;241m=\u001b[39m total_score_comment(clustering_intervals, group[\u001b[38;5;124m'\u001b[39m\u001b[38;5;124mbody\u001b[39m\u001b[38;5;124m'\u001b[39m])\n",
      "\u001b[1;31mTypeError\u001b[0m: 'int' object is not callable",
      "\nDuring handling of the above exception, another exception occurred:\n",
      "\u001b[1;31mTypeError\u001b[0m                                 Traceback (most recent call last)",
      "Cell \u001b[1;32mIn[26], line 29\u001b[0m\n\u001b[0;32m     24\u001b[0m     total_score \u001b[38;5;241m=\u001b[39m (comments_score \u001b[38;5;241m+\u001b[39m rates_score \u001b[38;5;241m+\u001b[39m titles_score \u001b[38;5;241m+\u001b[39m \n\u001b[0;32m     25\u001b[0m                    likes_score \u001b[38;5;241m+\u001b[39m recommended_score \u001b[38;5;241m+\u001b[39m advantages_score) \u001b[38;5;241m/\u001b[39m total_weight\n\u001b[0;32m     27\u001b[0m     \u001b[38;5;28;01mreturn\u001b[39;00m total_score\n\u001b[1;32m---> 29\u001b[0m weighted_score_df \u001b[38;5;241m=\u001b[39m \u001b[43mgrouped_digikala\u001b[49m\u001b[38;5;241;43m.\u001b[39;49m\u001b[43mapply\u001b[49m\u001b[43m(\u001b[49m\u001b[43mweighted_score\u001b[49m\u001b[43m)\u001b[49m\u001b[38;5;241m.\u001b[39mreset_index(name\u001b[38;5;241m=\u001b[39m\u001b[38;5;124m'\u001b[39m\u001b[38;5;124mweighted_score\u001b[39m\u001b[38;5;124m'\u001b[39m)\n\u001b[0;32m     30\u001b[0m weighted_score_df\u001b[38;5;241m.\u001b[39mhead()\n",
      "File \u001b[1;32m~\\AppData\\Local\\Packages\\PythonSoftwareFoundation.Python.3.11_qbz5n2kfra8p0\\LocalCache\\local-packages\\Python311\\site-packages\\pandas\\core\\groupby\\groupby.py:1363\u001b[0m, in \u001b[0;36mGroupBy.apply\u001b[1;34m(self, func, *args, **kwargs)\u001b[0m\n\u001b[0;32m   1353\u001b[0m         result \u001b[38;5;241m=\u001b[39m \u001b[38;5;28mself\u001b[39m\u001b[38;5;241m.\u001b[39m_python_apply_general(f, \u001b[38;5;28mself\u001b[39m\u001b[38;5;241m.\u001b[39m_selected_obj)\n\u001b[0;32m   1354\u001b[0m     \u001b[38;5;28;01mexcept\u001b[39;00m \u001b[38;5;167;01mTypeError\u001b[39;00m:\n\u001b[0;32m   1355\u001b[0m         \u001b[38;5;66;03m# gh-20949\u001b[39;00m\n\u001b[0;32m   1356\u001b[0m         \u001b[38;5;66;03m# try again, with .apply acting as a filtering\u001b[39;00m\n\u001b[1;32m   (...)\u001b[0m\n\u001b[0;32m   1360\u001b[0m         \u001b[38;5;66;03m# fails on *some* columns, e.g. a numeric operation\u001b[39;00m\n\u001b[0;32m   1361\u001b[0m         \u001b[38;5;66;03m# on a string grouper column\u001b[39;00m\n\u001b[1;32m-> 1363\u001b[0m         \u001b[38;5;28;01mreturn\u001b[39;00m \u001b[38;5;28;43mself\u001b[39;49m\u001b[38;5;241;43m.\u001b[39;49m\u001b[43m_python_apply_general\u001b[49m\u001b[43m(\u001b[49m\u001b[43mf\u001b[49m\u001b[43m,\u001b[49m\u001b[43m \u001b[49m\u001b[38;5;28;43mself\u001b[39;49m\u001b[38;5;241;43m.\u001b[39;49m\u001b[43m_obj_with_exclusions\u001b[49m\u001b[43m)\u001b[49m\n\u001b[0;32m   1365\u001b[0m \u001b[38;5;28;01mreturn\u001b[39;00m result\n",
      "File \u001b[1;32m~\\AppData\\Local\\Packages\\PythonSoftwareFoundation.Python.3.11_qbz5n2kfra8p0\\LocalCache\\local-packages\\Python311\\site-packages\\pandas\\core\\groupby\\groupby.py:1402\u001b[0m, in \u001b[0;36mGroupBy._python_apply_general\u001b[1;34m(self, f, data, not_indexed_same, is_transform, is_agg)\u001b[0m\n\u001b[0;32m   1367\u001b[0m \u001b[38;5;129m@final\u001b[39m\n\u001b[0;32m   1368\u001b[0m \u001b[38;5;28;01mdef\u001b[39;00m \u001b[38;5;21m_python_apply_general\u001b[39m(\n\u001b[0;32m   1369\u001b[0m     \u001b[38;5;28mself\u001b[39m,\n\u001b[1;32m   (...)\u001b[0m\n\u001b[0;32m   1374\u001b[0m     is_agg: \u001b[38;5;28mbool\u001b[39m \u001b[38;5;241m=\u001b[39m \u001b[38;5;28;01mFalse\u001b[39;00m,\n\u001b[0;32m   1375\u001b[0m ) \u001b[38;5;241m-\u001b[39m\u001b[38;5;241m>\u001b[39m NDFrameT:\n\u001b[0;32m   1376\u001b[0m \u001b[38;5;250m    \u001b[39m\u001b[38;5;124;03m\"\"\"\u001b[39;00m\n\u001b[0;32m   1377\u001b[0m \u001b[38;5;124;03m    Apply function f in python space\u001b[39;00m\n\u001b[0;32m   1378\u001b[0m \n\u001b[1;32m   (...)\u001b[0m\n\u001b[0;32m   1400\u001b[0m \u001b[38;5;124;03m        data after applying f\u001b[39;00m\n\u001b[0;32m   1401\u001b[0m \u001b[38;5;124;03m    \"\"\"\u001b[39;00m\n\u001b[1;32m-> 1402\u001b[0m     values, mutated \u001b[38;5;241m=\u001b[39m \u001b[38;5;28;43mself\u001b[39;49m\u001b[38;5;241;43m.\u001b[39;49m\u001b[43mgrouper\u001b[49m\u001b[38;5;241;43m.\u001b[39;49m\u001b[43mapply\u001b[49m\u001b[43m(\u001b[49m\u001b[43mf\u001b[49m\u001b[43m,\u001b[49m\u001b[43m \u001b[49m\u001b[43mdata\u001b[49m\u001b[43m,\u001b[49m\u001b[43m \u001b[49m\u001b[38;5;28;43mself\u001b[39;49m\u001b[38;5;241;43m.\u001b[39;49m\u001b[43maxis\u001b[49m\u001b[43m)\u001b[49m\n\u001b[0;32m   1403\u001b[0m     \u001b[38;5;28;01mif\u001b[39;00m not_indexed_same \u001b[38;5;129;01mis\u001b[39;00m \u001b[38;5;28;01mNone\u001b[39;00m:\n\u001b[0;32m   1404\u001b[0m         not_indexed_same \u001b[38;5;241m=\u001b[39m mutated\n",
      "File \u001b[1;32m~\\AppData\\Local\\Packages\\PythonSoftwareFoundation.Python.3.11_qbz5n2kfra8p0\\LocalCache\\local-packages\\Python311\\site-packages\\pandas\\core\\groupby\\ops.py:767\u001b[0m, in \u001b[0;36mBaseGrouper.apply\u001b[1;34m(self, f, data, axis)\u001b[0m\n\u001b[0;32m    765\u001b[0m \u001b[38;5;66;03m# group might be modified\u001b[39;00m\n\u001b[0;32m    766\u001b[0m group_axes \u001b[38;5;241m=\u001b[39m group\u001b[38;5;241m.\u001b[39maxes\n\u001b[1;32m--> 767\u001b[0m res \u001b[38;5;241m=\u001b[39m \u001b[43mf\u001b[49m\u001b[43m(\u001b[49m\u001b[43mgroup\u001b[49m\u001b[43m)\u001b[49m\n\u001b[0;32m    768\u001b[0m \u001b[38;5;28;01mif\u001b[39;00m \u001b[38;5;129;01mnot\u001b[39;00m mutated \u001b[38;5;129;01mand\u001b[39;00m \u001b[38;5;129;01mnot\u001b[39;00m _is_indexed_like(res, group_axes, axis):\n\u001b[0;32m    769\u001b[0m     mutated \u001b[38;5;241m=\u001b[39m \u001b[38;5;28;01mTrue\u001b[39;00m\n",
      "Cell \u001b[1;32mIn[26], line 14\u001b[0m, in \u001b[0;36mweighted_score\u001b[1;34m(group)\u001b[0m\n\u001b[0;32m      3\u001b[0m group \u001b[38;5;241m=\u001b[39m group[group[\u001b[38;5;124m'\u001b[39m\u001b[38;5;124mis_buyer\u001b[39m\u001b[38;5;124m'\u001b[39m]]\n\u001b[0;32m      5\u001b[0m weights \u001b[38;5;241m=\u001b[39m {\n\u001b[0;32m      6\u001b[0m     \u001b[38;5;124m\"\u001b[39m\u001b[38;5;124mbody\u001b[39m\u001b[38;5;124m\"\u001b[39m : \u001b[38;5;241m10\u001b[39m,\n\u001b[0;32m      7\u001b[0m     \u001b[38;5;124m\"\u001b[39m\u001b[38;5;124mtitle\u001b[39m\u001b[38;5;124m\"\u001b[39m : \u001b[38;5;241m3\u001b[39m,\n\u001b[1;32m   (...)\u001b[0m\n\u001b[0;32m     11\u001b[0m     \u001b[38;5;124m\"\u001b[39m\u001b[38;5;124madvantages\u001b[39m\u001b[38;5;124m\"\u001b[39m : \u001b[38;5;241m5\u001b[39m\n\u001b[0;32m     12\u001b[0m }\n\u001b[1;32m---> 14\u001b[0m total_weight \u001b[38;5;241m=\u001b[39m \u001b[38;5;28;43msum\u001b[39;49m\u001b[43m(\u001b[49m\u001b[43mweights\u001b[49m\u001b[38;5;241;43m.\u001b[39;49m\u001b[43mvalues\u001b[49m\u001b[43m(\u001b[49m\u001b[43m)\u001b[49m\u001b[43m)\u001b[49m\n\u001b[0;32m     16\u001b[0m _, comments \u001b[38;5;241m=\u001b[39m total_score_comment(clustering_intervals, group[\u001b[38;5;124m'\u001b[39m\u001b[38;5;124mbody\u001b[39m\u001b[38;5;124m'\u001b[39m])\n\u001b[0;32m     17\u001b[0m comments_score \u001b[38;5;241m=\u001b[39m weights[\u001b[38;5;124m\"\u001b[39m\u001b[38;5;124mbody\u001b[39m\u001b[38;5;124m\"\u001b[39m]\u001b[38;5;241m*\u001b[39mcomments \u001b[38;5;241m/\u001b[39m \u001b[38;5;241m100\u001b[39m\n",
      "\u001b[1;31mTypeError\u001b[0m: 'int' object is not callable"
     ]
    }
   ],
   "source": [
    "# By weightes\n",
    "def weighted_score(group):\n",
    "    group = group[group['is_buyer']]\n",
    "\n",
    "    weights = {\n",
    "        \"body\" : 10,\n",
    "        \"title\" : 3,\n",
    "        \"rate\" : 4,\n",
    "        \"likes\" : 4,\n",
    "        \"recommendation\" : 3,\n",
    "        \"advantages\" : 5\n",
    "    }\n",
    "\n",
    "    _, comments = total_score_comment(clustering_intervals, group['body'])\n",
    "    comments_score = weights[\"body\"]*comments / 100\n",
    "    rates_score =  weights[\"rate\"]*(group['rate'] > 0).sum()\n",
    "    titles_score =  weights[\"title\"]*group['title'].sum()\n",
    "    likes_score =  weights[\"likes\"]*(group['likes'].sum() + group['dislikes'].sum())\n",
    "    recommended_score =  weights[\"recommendation\"]* group['recommendation_status'].sum()\n",
    "    advantages_score = weights[\"advantages\"]* (group['advantages_count'].sum() + group['disadvantages_count'].sum())\n",
    "    \n",
    "    total_score = (comments_score + rates_score + titles_score + \n",
    "                   likes_score + recommended_score + advantages_score) / total_weight\n",
    "    \n",
    "    return total_score\n",
    "\n",
    "weighted_score_df = grouped_digikala.apply(weighted_score).reset_index(name='weighted_score')\n",
    "weighted_score_df.head()"
   ]
  },
  {
   "cell_type": "code",
   "execution_count": null,
   "metadata": {},
   "outputs": [],
   "source": [
    "# average by weightes \n",
    "def avg_weighted_score(group):\n",
    "    group = group[group['is_buyer']]\n",
    "\n",
    "    weights = {\n",
    "        \"body\" : 10,\n",
    "        \"title\" : 3,\n",
    "        \"rate\" : 4,\n",
    "        \"likes\" : 4,\n",
    "        \"recommendation\" : 3,\n",
    "        \"advantages\" : 5\n",
    "    }\n",
    "\n",
    "    _, comments = total_score_comment(clustering_intervals, group['body'])\n",
    "    comments_score = weights[\"body\"]*comments / 100\n",
    "    rates_score =  weights[\"rate\"]*(group['rate'] > 0).sum()\n",
    "    titles_score =  weights[\"title\"]*group['title'].sum()\n",
    "    likes_score =  weights[\"likes\"]*(group['likes'].sum() + group['dislikes'].sum())\n",
    "    recommended_score =  weights[\"recommendation\"]* group['recommendation_status'].sum()\n",
    "    advantages_score = weights[\"advantages\"]* (group['advantages_count'].sum() + group['disadvantages_count'].sum())\n",
    "    \n",
    "    total_score = ((comments_score + rates_score + titles_score + \n",
    "                   likes_score + recommended_score + advantages_score) / sum(weights.values())) / len(group) * 100\n",
    "    \n",
    "    return total_score\n",
    "\n",
    "avg_weighted_score_df = grouped_digikala.apply(weighted_score).reset_index(name='avg_weighted_score')\n",
    "avg_weighted_score_df.head()"
   ]
  },
  {
   "cell_type": "code",
   "execution_count": null,
   "metadata": {},
   "outputs": [],
   "source": [
    "def biased_score(group):\n",
    "    neg_score = 0\n",
    "    pos_score = 0\n",
    "\n",
    "    for comment in group:\n",
    "        if not comment['is_buyer']:\n",
    "            continue\n",
    "        body_score = score_comment(clustering_intervals, comment['body']) / 1000\n",
    "        rate_score = 1 if comment['rate'] > 0 else 0\n",
    "        title_score = comment['title']\n",
    "        recommended_score = comment['recommendation_status']\n",
    "        advantage_score = comment['advantages_count'] + comment['disadvantages_count']\n",
    "\n",
    "        likes = comment['likes'] + 1  # own comment\n",
    "        dislikes = comment['dislikes']\n",
    "        f = likes / (likes + dislikes)\n",
    "        score = body_score + rate_score + title_score + recommended_score + advantage_score\n",
    "\n",
    "        if comment['label'] == 'positive':\n",
    "            pos_score += f * score\n",
    "            neg_score += score - pos_score\n",
    "        else:\n",
    "            neg_score += f * score\n",
    "            pos_score = score - neg_score\n",
    "\n",
    "    return score, pos_score, neg_score\n",
    "\n",
    "\n",
    "biased_score_df = grouped_digikala.apply(biased_score).reset_index(name='biased_score')\n",
    "biased_score_df.head()"
   ]
  },
  {
   "cell_type": "code",
   "execution_count": null,
   "metadata": {},
   "outputs": [],
   "source": [
    "result = pd.merge(simple_df, avg_simple_df, on=['product_id', 'seller_title'], how='inner')"
   ]
  }
 ],
 "metadata": {
  "kernelspec": {
   "display_name": "Python 3",
   "language": "python",
   "name": "python3"
  },
  "language_info": {
   "codemirror_mode": {
    "name": "ipython",
    "version": 3
   },
   "file_extension": ".py",
   "mimetype": "text/x-python",
   "name": "python",
   "nbconvert_exporter": "python",
   "pygments_lexer": "ipython3",
   "version": "3.11.9"
  }
 },
 "nbformat": 4,
 "nbformat_minor": 2
}

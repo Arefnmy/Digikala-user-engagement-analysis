{
 "cells": [
  {
   "cell_type": "markdown",
   "metadata": {},
   "source": [
    "# Scoring products of Digikala"
   ]
  },
  {
   "cell_type": "code",
   "execution_count": 1,
   "metadata": {
    "metadata": {}
   },
   "outputs": [],
   "source": [
    "import numpy as np\n",
    "import pandas as pd\n",
    "from sklearn.cluster import KMeans\n",
    "import matplotlib.pyplot as plt"
   ]
  },
  {
   "cell_type": "code",
   "execution_count": 2,
   "metadata": {
    "metadata": {}
   },
   "outputs": [
    {
     "data": {
      "text/html": [
       "<div>\n",
       "<style scoped>\n",
       "    .dataframe tbody tr th:only-of-type {\n",
       "        vertical-align: middle;\n",
       "    }\n",
       "\n",
       "    .dataframe tbody tr th {\n",
       "        vertical-align: top;\n",
       "    }\n",
       "\n",
       "    .dataframe thead th {\n",
       "        text-align: right;\n",
       "    }\n",
       "</style>\n",
       "<table border=\"1\" class=\"dataframe\">\n",
       "  <thead>\n",
       "    <tr style=\"text-align: right;\">\n",
       "      <th></th>\n",
       "      <th>id</th>\n",
       "      <th>title</th>\n",
       "      <th>body</th>\n",
       "      <th>created_at</th>\n",
       "      <th>rate</th>\n",
       "      <th>recommendation_status</th>\n",
       "      <th>is_buyer</th>\n",
       "      <th>product_id</th>\n",
       "      <th>likes</th>\n",
       "      <th>dislikes</th>\n",
       "      <th>seller_title</th>\n",
       "      <th>seller_code</th>\n",
       "      <th>true_to_size_rate</th>\n",
       "      <th>advantages_count</th>\n",
       "      <th>disadvantages_count</th>\n",
       "      <th>label</th>\n",
       "    </tr>\n",
       "  </thead>\n",
       "  <tbody>\n",
       "    <tr>\n",
       "      <th>0</th>\n",
       "      <td>53672599</td>\n",
       "      <td>1</td>\n",
       "      <td>3</td>\n",
       "      <td>23 شهریور 1402</td>\n",
       "      <td>1.0</td>\n",
       "      <td>1.0</td>\n",
       "      <td>True</td>\n",
       "      <td>252058</td>\n",
       "      <td>0</td>\n",
       "      <td>0</td>\n",
       "      <td>دیجی‌کالا</td>\n",
       "      <td>5A52N</td>\n",
       "      <td>0</td>\n",
       "      <td>0</td>\n",
       "      <td>0</td>\n",
       "      <td>negative</td>\n",
       "    </tr>\n",
       "    <tr>\n",
       "      <th>1</th>\n",
       "      <td>9897229</td>\n",
       "      <td>1</td>\n",
       "      <td>10</td>\n",
       "      <td>16 تیر 1399</td>\n",
       "      <td>0.0</td>\n",
       "      <td>1.0</td>\n",
       "      <td>True</td>\n",
       "      <td>252058</td>\n",
       "      <td>1</td>\n",
       "      <td>0</td>\n",
       "      <td>دیجی‌کالا</td>\n",
       "      <td>5A52N</td>\n",
       "      <td>0</td>\n",
       "      <td>1</td>\n",
       "      <td>1</td>\n",
       "      <td>positive</td>\n",
       "    </tr>\n",
       "    <tr>\n",
       "      <th>2</th>\n",
       "      <td>9897229</td>\n",
       "      <td>1</td>\n",
       "      <td>10</td>\n",
       "      <td>16 تیر 1399</td>\n",
       "      <td>0.0</td>\n",
       "      <td>1.0</td>\n",
       "      <td>True</td>\n",
       "      <td>252058</td>\n",
       "      <td>1</td>\n",
       "      <td>0</td>\n",
       "      <td>دیجی‌کالا</td>\n",
       "      <td>5A52N</td>\n",
       "      <td>0</td>\n",
       "      <td>1</td>\n",
       "      <td>1</td>\n",
       "      <td>positive</td>\n",
       "    </tr>\n",
       "    <tr>\n",
       "      <th>3</th>\n",
       "      <td>38074516</td>\n",
       "      <td>1</td>\n",
       "      <td>19</td>\n",
       "      <td>26 مرداد 1401</td>\n",
       "      <td>0.0</td>\n",
       "      <td>1.0</td>\n",
       "      <td>True</td>\n",
       "      <td>3331597</td>\n",
       "      <td>0</td>\n",
       "      <td>0</td>\n",
       "      <td>آرالیا بیوتی</td>\n",
       "      <td>ADM47</td>\n",
       "      <td>0</td>\n",
       "      <td>0</td>\n",
       "      <td>0</td>\n",
       "      <td>positive</td>\n",
       "    </tr>\n",
       "    <tr>\n",
       "      <th>4</th>\n",
       "      <td>38074516</td>\n",
       "      <td>1</td>\n",
       "      <td>19</td>\n",
       "      <td>26 مرداد 1401</td>\n",
       "      <td>0.0</td>\n",
       "      <td>1.0</td>\n",
       "      <td>True</td>\n",
       "      <td>3331597</td>\n",
       "      <td>0</td>\n",
       "      <td>0</td>\n",
       "      <td>آرالیا بیوتی</td>\n",
       "      <td>ADM47</td>\n",
       "      <td>0</td>\n",
       "      <td>0</td>\n",
       "      <td>0</td>\n",
       "      <td>positive</td>\n",
       "    </tr>\n",
       "  </tbody>\n",
       "</table>\n",
       "</div>"
      ],
      "text/plain": [
       "         id  title  body      created_at  rate  recommendation_status  \\\n",
       "0  53672599      1     3  23 شهریور 1402   1.0                    1.0   \n",
       "1   9897229      1    10     16 تیر 1399   0.0                    1.0   \n",
       "2   9897229      1    10     16 تیر 1399   0.0                    1.0   \n",
       "3  38074516      1    19   26 مرداد 1401   0.0                    1.0   \n",
       "4  38074516      1    19   26 مرداد 1401   0.0                    1.0   \n",
       "\n",
       "   is_buyer  product_id  likes  dislikes  seller_title seller_code  \\\n",
       "0      True      252058      0         0     دیجی‌کالا       5A52N   \n",
       "1      True      252058      1         0     دیجی‌کالا       5A52N   \n",
       "2      True      252058      1         0     دیجی‌کالا       5A52N   \n",
       "3      True     3331597      0         0  آرالیا بیوتی       ADM47   \n",
       "4      True     3331597      0         0  آرالیا بیوتی       ADM47   \n",
       "\n",
       "   true_to_size_rate  advantages_count  disadvantages_count     label  \n",
       "0                  0                 0                    0  negative  \n",
       "1                  0                 1                    1  positive  \n",
       "2                  0                 1                    1  positive  \n",
       "3                  0                 0                    0  positive  \n",
       "4                  0                 0                    0  positive  "
      ]
     },
     "execution_count": 2,
     "metadata": {},
     "output_type": "execute_result"
    }
   ],
   "source": [
    "digikala = pd.read_csv('comments_with_sentiment.csv')\n",
    "digikala.head()"
   ]
  },
  {
   "cell_type": "code",
   "execution_count": 3,
   "metadata": {},
   "outputs": [
    {
     "data": {
      "text/html": [
       "<div>\n",
       "<style scoped>\n",
       "    .dataframe tbody tr th:only-of-type {\n",
       "        vertical-align: middle;\n",
       "    }\n",
       "\n",
       "    .dataframe tbody tr th {\n",
       "        vertical-align: top;\n",
       "    }\n",
       "\n",
       "    .dataframe thead th {\n",
       "        text-align: right;\n",
       "    }\n",
       "</style>\n",
       "<table border=\"1\" class=\"dataframe\">\n",
       "  <thead>\n",
       "    <tr style=\"text-align: right;\">\n",
       "      <th></th>\n",
       "      <th>id</th>\n",
       "      <th>title</th>\n",
       "      <th>body</th>\n",
       "      <th>rate</th>\n",
       "      <th>recommendation_status</th>\n",
       "      <th>product_id</th>\n",
       "      <th>likes</th>\n",
       "      <th>dislikes</th>\n",
       "      <th>true_to_size_rate</th>\n",
       "      <th>advantages_count</th>\n",
       "      <th>disadvantages_count</th>\n",
       "    </tr>\n",
       "  </thead>\n",
       "  <tbody>\n",
       "    <tr>\n",
       "      <th>count</th>\n",
       "      <td>6.157413e+06</td>\n",
       "      <td>6.157413e+06</td>\n",
       "      <td>6.157413e+06</td>\n",
       "      <td>6.157413e+06</td>\n",
       "      <td>6.157413e+06</td>\n",
       "      <td>6.157413e+06</td>\n",
       "      <td>6.157413e+06</td>\n",
       "      <td>6.157413e+06</td>\n",
       "      <td>6.157413e+06</td>\n",
       "      <td>6.157413e+06</td>\n",
       "      <td>6.157413e+06</td>\n",
       "    </tr>\n",
       "    <tr>\n",
       "      <th>mean</th>\n",
       "      <td>3.704755e+07</td>\n",
       "      <td>5.346132e-01</td>\n",
       "      <td>1.009031e+01</td>\n",
       "      <td>3.648097e+00</td>\n",
       "      <td>8.064453e-01</td>\n",
       "      <td>3.908869e+06</td>\n",
       "      <td>4.507716e-01</td>\n",
       "      <td>8.694138e-02</td>\n",
       "      <td>1.474467e-02</td>\n",
       "      <td>2.183667e-01</td>\n",
       "      <td>8.682770e-02</td>\n",
       "    </tr>\n",
       "    <tr>\n",
       "      <th>std</th>\n",
       "      <td>1.393319e+07</td>\n",
       "      <td>4.988005e-01</td>\n",
       "      <td>1.336918e+01</td>\n",
       "      <td>1.861786e+00</td>\n",
       "      <td>3.632494e-01</td>\n",
       "      <td>3.015891e+06</td>\n",
       "      <td>2.350727e+00</td>\n",
       "      <td>8.326633e-01</td>\n",
       "      <td>1.205291e-01</td>\n",
       "      <td>7.193049e-01</td>\n",
       "      <td>3.718183e-01</td>\n",
       "    </tr>\n",
       "    <tr>\n",
       "      <th>min</th>\n",
       "      <td>9.815860e+05</td>\n",
       "      <td>0.000000e+00</td>\n",
       "      <td>1.000000e+00</td>\n",
       "      <td>0.000000e+00</td>\n",
       "      <td>0.000000e+00</td>\n",
       "      <td>7.602000e+03</td>\n",
       "      <td>0.000000e+00</td>\n",
       "      <td>0.000000e+00</td>\n",
       "      <td>0.000000e+00</td>\n",
       "      <td>0.000000e+00</td>\n",
       "      <td>0.000000e+00</td>\n",
       "    </tr>\n",
       "    <tr>\n",
       "      <th>25%</th>\n",
       "      <td>2.731210e+07</td>\n",
       "      <td>0.000000e+00</td>\n",
       "      <td>3.000000e+00</td>\n",
       "      <td>3.000000e+00</td>\n",
       "      <td>1.000000e+00</td>\n",
       "      <td>1.532357e+06</td>\n",
       "      <td>0.000000e+00</td>\n",
       "      <td>0.000000e+00</td>\n",
       "      <td>0.000000e+00</td>\n",
       "      <td>0.000000e+00</td>\n",
       "      <td>0.000000e+00</td>\n",
       "    </tr>\n",
       "    <tr>\n",
       "      <th>50%</th>\n",
       "      <td>4.044867e+07</td>\n",
       "      <td>1.000000e+00</td>\n",
       "      <td>6.000000e+00</td>\n",
       "      <td>4.000000e+00</td>\n",
       "      <td>1.000000e+00</td>\n",
       "      <td>3.183184e+06</td>\n",
       "      <td>0.000000e+00</td>\n",
       "      <td>0.000000e+00</td>\n",
       "      <td>0.000000e+00</td>\n",
       "      <td>0.000000e+00</td>\n",
       "      <td>0.000000e+00</td>\n",
       "    </tr>\n",
       "    <tr>\n",
       "      <th>75%</th>\n",
       "      <td>4.897247e+07</td>\n",
       "      <td>1.000000e+00</td>\n",
       "      <td>1.200000e+01</td>\n",
       "      <td>5.000000e+00</td>\n",
       "      <td>1.000000e+00</td>\n",
       "      <td>5.992841e+06</td>\n",
       "      <td>0.000000e+00</td>\n",
       "      <td>0.000000e+00</td>\n",
       "      <td>0.000000e+00</td>\n",
       "      <td>0.000000e+00</td>\n",
       "      <td>0.000000e+00</td>\n",
       "    </tr>\n",
       "    <tr>\n",
       "      <th>max</th>\n",
       "      <td>5.474516e+07</td>\n",
       "      <td>1.000000e+00</td>\n",
       "      <td>9.080000e+02</td>\n",
       "      <td>2.500000e+03</td>\n",
       "      <td>1.000000e+00</td>\n",
       "      <td>1.270221e+07</td>\n",
       "      <td>1.136000e+03</td>\n",
       "      <td>3.360000e+02</td>\n",
       "      <td>1.000000e+00</td>\n",
       "      <td>3.200000e+01</td>\n",
       "      <td>1.700000e+01</td>\n",
       "    </tr>\n",
       "  </tbody>\n",
       "</table>\n",
       "</div>"
      ],
      "text/plain": [
       "                 id         title          body          rate  \\\n",
       "count  6.157413e+06  6.157413e+06  6.157413e+06  6.157413e+06   \n",
       "mean   3.704755e+07  5.346132e-01  1.009031e+01  3.648097e+00   \n",
       "std    1.393319e+07  4.988005e-01  1.336918e+01  1.861786e+00   \n",
       "min    9.815860e+05  0.000000e+00  1.000000e+00  0.000000e+00   \n",
       "25%    2.731210e+07  0.000000e+00  3.000000e+00  3.000000e+00   \n",
       "50%    4.044867e+07  1.000000e+00  6.000000e+00  4.000000e+00   \n",
       "75%    4.897247e+07  1.000000e+00  1.200000e+01  5.000000e+00   \n",
       "max    5.474516e+07  1.000000e+00  9.080000e+02  2.500000e+03   \n",
       "\n",
       "       recommendation_status    product_id         likes      dislikes  \\\n",
       "count           6.157413e+06  6.157413e+06  6.157413e+06  6.157413e+06   \n",
       "mean            8.064453e-01  3.908869e+06  4.507716e-01  8.694138e-02   \n",
       "std             3.632494e-01  3.015891e+06  2.350727e+00  8.326633e-01   \n",
       "min             0.000000e+00  7.602000e+03  0.000000e+00  0.000000e+00   \n",
       "25%             1.000000e+00  1.532357e+06  0.000000e+00  0.000000e+00   \n",
       "50%             1.000000e+00  3.183184e+06  0.000000e+00  0.000000e+00   \n",
       "75%             1.000000e+00  5.992841e+06  0.000000e+00  0.000000e+00   \n",
       "max             1.000000e+00  1.270221e+07  1.136000e+03  3.360000e+02   \n",
       "\n",
       "       true_to_size_rate  advantages_count  disadvantages_count  \n",
       "count       6.157413e+06      6.157413e+06         6.157413e+06  \n",
       "mean        1.474467e-02      2.183667e-01         8.682770e-02  \n",
       "std         1.205291e-01      7.193049e-01         3.718183e-01  \n",
       "min         0.000000e+00      0.000000e+00         0.000000e+00  \n",
       "25%         0.000000e+00      0.000000e+00         0.000000e+00  \n",
       "50%         0.000000e+00      0.000000e+00         0.000000e+00  \n",
       "75%         0.000000e+00      0.000000e+00         0.000000e+00  \n",
       "max         1.000000e+00      3.200000e+01         1.700000e+01  "
      ]
     },
     "execution_count": 3,
     "metadata": {},
     "output_type": "execute_result"
    }
   ],
   "source": [
    "digikala.describe()"
   ]
  },
  {
   "cell_type": "markdown",
   "metadata": {},
   "source": [
    "fix column created_at date time"
   ]
  },
  {
   "cell_type": "code",
   "execution_count": 4,
   "metadata": {},
   "outputs": [],
   "source": [
    "from persiantools.jdatetime import JalaliDate\n",
    "\n",
    "def persian_month_to_number(month_name):\n",
    "    persian_months = {'فروردین':'01',\n",
    "                      'اردیبهشت':'02',\n",
    "                      'خرداد':'03',\n",
    "                      'تیر':'04',\n",
    "                      'مرداد':'05',\n",
    "                      'شهریور':'06',\n",
    "                      'مهر':'07',\n",
    "                      'آبان':'08',\n",
    "                      'آذر':'09',\n",
    "                      'دی':'10',\n",
    "                      'بهمن':'11',\n",
    "                      'اسفند':'12'}\n",
    "    return persian_months[month_name]"
   ]
  },
  {
   "cell_type": "code",
   "execution_count": 5,
   "metadata": {},
   "outputs": [],
   "source": [
    "digikala['created_at'] = digikala['created_at'].apply(lambda x: JalaliDate(int(x.split()[2]), int(persian_month_to_number(x.split()[1])), int(x.split()[0])))"
   ]
  },
  {
   "cell_type": "code",
   "execution_count": 6,
   "metadata": {},
   "outputs": [
    {
     "data": {
      "text/html": [
       "<div>\n",
       "<style scoped>\n",
       "    .dataframe tbody tr th:only-of-type {\n",
       "        vertical-align: middle;\n",
       "    }\n",
       "\n",
       "    .dataframe tbody tr th {\n",
       "        vertical-align: top;\n",
       "    }\n",
       "\n",
       "    .dataframe thead th {\n",
       "        text-align: right;\n",
       "    }\n",
       "</style>\n",
       "<table border=\"1\" class=\"dataframe\">\n",
       "  <thead>\n",
       "    <tr style=\"text-align: right;\">\n",
       "      <th></th>\n",
       "      <th>id</th>\n",
       "      <th>title</th>\n",
       "      <th>body</th>\n",
       "      <th>created_at</th>\n",
       "      <th>rate</th>\n",
       "      <th>recommendation_status</th>\n",
       "      <th>is_buyer</th>\n",
       "      <th>product_id</th>\n",
       "      <th>likes</th>\n",
       "      <th>dislikes</th>\n",
       "      <th>seller_title</th>\n",
       "      <th>seller_code</th>\n",
       "      <th>true_to_size_rate</th>\n",
       "      <th>advantages_count</th>\n",
       "      <th>disadvantages_count</th>\n",
       "      <th>label</th>\n",
       "    </tr>\n",
       "  </thead>\n",
       "  <tbody>\n",
       "    <tr>\n",
       "      <th>4370370</th>\n",
       "      <td>38631814</td>\n",
       "      <td>1</td>\n",
       "      <td>4</td>\n",
       "      <td>1401-06-09</td>\n",
       "      <td>2500.0</td>\n",
       "      <td>1.0</td>\n",
       "      <td>True</td>\n",
       "      <td>5095301</td>\n",
       "      <td>0</td>\n",
       "      <td>0</td>\n",
       "      <td>مستر راد</td>\n",
       "      <td>A4Z54</td>\n",
       "      <td>0</td>\n",
       "      <td>0</td>\n",
       "      <td>0</td>\n",
       "      <td>NaN</td>\n",
       "    </tr>\n",
       "  </tbody>\n",
       "</table>\n",
       "</div>"
      ],
      "text/plain": [
       "               id  title  body  created_at    rate  recommendation_status  \\\n",
       "4370370  38631814      1     4  1401-06-09  2500.0                    1.0   \n",
       "\n",
       "         is_buyer  product_id  likes  dislikes seller_title seller_code  \\\n",
       "4370370      True     5095301      0         0     مستر راد       A4Z54   \n",
       "\n",
       "         true_to_size_rate  advantages_count  disadvantages_count label  \n",
       "4370370                  0                 0                    0   NaN  "
      ]
     },
     "execution_count": 6,
     "metadata": {},
     "output_type": "execute_result"
    }
   ],
   "source": [
    "digikala[digikala['rate'] == 2500.0]"
   ]
  },
  {
   "cell_type": "code",
   "execution_count": 7,
   "metadata": {},
   "outputs": [
    {
     "data": {
      "text/html": [
       "<div>\n",
       "<style scoped>\n",
       "    .dataframe tbody tr th:only-of-type {\n",
       "        vertical-align: middle;\n",
       "    }\n",
       "\n",
       "    .dataframe tbody tr th {\n",
       "        vertical-align: top;\n",
       "    }\n",
       "\n",
       "    .dataframe thead th {\n",
       "        text-align: right;\n",
       "    }\n",
       "</style>\n",
       "<table border=\"1\" class=\"dataframe\">\n",
       "  <thead>\n",
       "    <tr style=\"text-align: right;\">\n",
       "      <th></th>\n",
       "      <th>id</th>\n",
       "      <th>title</th>\n",
       "      <th>body</th>\n",
       "      <th>created_at</th>\n",
       "      <th>rate</th>\n",
       "      <th>recommendation_status</th>\n",
       "      <th>is_buyer</th>\n",
       "      <th>product_id</th>\n",
       "      <th>likes</th>\n",
       "      <th>dislikes</th>\n",
       "      <th>seller_title</th>\n",
       "      <th>seller_code</th>\n",
       "      <th>true_to_size_rate</th>\n",
       "      <th>advantages_count</th>\n",
       "      <th>disadvantages_count</th>\n",
       "      <th>label</th>\n",
       "    </tr>\n",
       "  </thead>\n",
       "  <tbody>\n",
       "  </tbody>\n",
       "</table>\n",
       "</div>"
      ],
      "text/plain": [
       "Empty DataFrame\n",
       "Columns: [id, title, body, created_at, rate, recommendation_status, is_buyer, product_id, likes, dislikes, seller_title, seller_code, true_to_size_rate, advantages_count, disadvantages_count, label]\n",
       "Index: []"
      ]
     },
     "execution_count": 7,
     "metadata": {},
     "output_type": "execute_result"
    }
   ],
   "source": [
    "digikala.loc[digikala['rate'] == 2500.0, 'rate'] = 2.5\n",
    "digikala[digikala['rate'] == 2500.0]"
   ]
  },
  {
   "cell_type": "markdown",
   "metadata": {},
   "source": [
    "# Exploring Data"
   ]
  },
  {
   "cell_type": "markdown",
   "metadata": {},
   "source": [
    "## Comments Length Analyis\n",
    "I want to declare Intervals for scoring on comments lenrgth. here is three method :\n",
    "1. Heuristic-Based\n",
    "2. Percentile-Based\n",
    "3. Clustering-Based"
   ]
  },
  {
   "cell_type": "code",
   "execution_count": 8,
   "metadata": {
    "metadata": {}
   },
   "outputs": [
    {
     "data": {
      "image/png": "[encoded data removed]",
      "text/plain": [
       "<Figure size 640x480 with 1 Axes>"
      ]
     },
     "metadata": {},
     "output_type": "display_data"
    }
   ],
   "source": [
    "comments = digikala['body']\n",
    "plt.hist(comments, bins= np.arange(min(comments), max(comments), 50), log=True)\n",
    "plt.xlabel('Comment lengths')\n",
    "plt.ylabel('Frequency')\n",
    "plt.show()"
   ]
  },
  {
   "cell_type": "code",
   "execution_count": 9,
   "metadata": {
    "metadata": {}
   },
   "outputs": [],
   "source": [
    "import bisect\n",
    "from collections import defaultdict\n",
    "\n",
    "def score_comment(intervals, length):\n",
    "    return bisect.bisect_left(intervals, length)\n",
    "\n",
    "def total_score_comment(intervals, lengths):\n",
    "    local_sum = 0\n",
    "    lengths_dict = defaultdict(list)\n",
    "    for length in lengths:\n",
    "        score = score_comment(intervals, length)\n",
    "        local_sum += score\n",
    "        lengths_dict[score].append(length)\n",
    "\n",
    "    lengths_stats = {}\n",
    "    for score, lengths in lengths_dict.items():\n",
    "        lengths_stats[score] = {\n",
    "            'num' : len(lengths),\n",
    "            'mean': np.mean(lengths),\n",
    "            'std': np.std(lengths),\n",
    "            'sum' : np.sum(lengths)\n",
    "        }\n",
    "    return lengths_stats, local_sum"
   ]
  },
  {
   "cell_type": "code",
   "execution_count": 10,
   "metadata": {},
   "outputs": [
    {
     "name": "stdout",
     "output_type": "stream",
     "text": [
      "{0: {'num': 2, 'mean': 0.0, 'std': 0.0, 'sum': 0}, 1: {'num': 1, 'mean': 1.0, 'std': 0.0, 'sum': 1}, 2: {'num': 4, 'mean': 2.75, 'std': 0.82915619758885, 'sum': 11}, 3: {'num': 2, 'mean': 6.0, 'std': 0.0, 'sum': 12}, 4: {'num': 3, 'mean': 28.666666666666668, 'std': 10.208928554075703, 'sum': 86}}\n",
      "27\n"
     ]
    }
   ],
   "source": [
    "# check function\n",
    "intervals = [0, 1, 5, 10]\n",
    "lengths = [0,0,1,2,2,3,6,4,6,20,23,43]\n",
    "\n",
    "lengths_stats, local_sum = total_score_comment(intervals, lengths)\n",
    "print(lengths_stats)\n",
    "print(local_sum)"
   ]
  },
  {
   "cell_type": "markdown",
   "metadata": {},
   "source": [
    "### Heuristic-Based"
   ]
  },
  {
   "cell_type": "code",
   "execution_count": 11,
   "metadata": {},
   "outputs": [
    {
     "name": "stdout",
     "output_type": "stream",
     "text": [
      "{1: {'num': 2396465, 'mean': 3.474248111280574, 'std': 1.0794860488955333, 'sum': 8325914}, 2: {'num': 2606712, 'mean': 10.502521183774808, 'std': 3.970058184475577, 'sum': 27377048}, 0: {'num': 453290, 'mean': 1.0, 'std': 0.0, 'sum': 453290}, 3: {'num': 685376, 'mean': 34.56264006910076, 'std': 14.794550995849688, 'sum': 23688404}, 4: {'num': 15115, 'mean': 138.90956003969566, 'std': 39.753324211691684, 'sum': 2099618}, 5: {'num': 374, 'mean': 362.1764705882353, 'std': 47.01815421776919, 'sum': 135454}, 6: {'num': 81, 'mean': 623.4444444444445, 'std': 111.85970048499412, 'sum': 50499}}\n"
     ]
    }
   ],
   "source": [
    "heuristic_intervals = [1, 5, 20, 100, 300, 500, 1000]\n",
    "\n",
    "lengths_stats, local_sum = total_score_comment(heuristic_intervals, comments)\n",
    "print(lengths_stats)"
   ]
  },
  {
   "cell_type": "code",
   "execution_count": 12,
   "metadata": {},
   "outputs": [
    {
     "data": {
      "image/png": "[encoded data removed]",
      "text/plain": [
       "<Figure size 640x480 with 1 Axes>"
      ]
     },
     "metadata": {},
     "output_type": "display_data"
    }
   ],
   "source": [
    "plt.hist(comments, bins= np.arange(min(comments), max(comments), 50), log=True)\n",
    "for boundary in heuristic_intervals:\n",
    "    plt.axvline(boundary, color='r', linestyle='dashed', linewidth=1)\n",
    "plt.hist(comments, bins= heuristic_intervals, log = True, color= 'green', alpha = 0.3)\n",
    "plt.title('Histogram of Heuristic-Based scores')\n",
    "plt.show()"
   ]
  },
  {
   "cell_type": "markdown",
   "metadata": {},
   "source": [
    "### Percentile-Based"
   ]
  },
  {
   "cell_type": "code",
   "execution_count": 13,
   "metadata": {},
   "outputs": [
    {
     "name": "stdout",
     "output_type": "stream",
     "text": [
      "[   2.    3.    6.   12.   22. 1000.]\n",
      "{1: {'num': 653378, 'mean': 3.0, 'std': 0.0, 'sum': 1960134}, 3: {'num': 1437439, 'mean': 9.042851209686116, 'std': 1.6753782715910588, 'sum': 12998547}, 4: {'num': 848325, 'mean': 16.57400170925058, 'std': 2.7972654651801356, 'sum': 14060140}, 0: {'num': 1021321, 'mean': 1.5561728389017753, 'std': 0.4968345923642145, 'sum': 1589352}, 2: {'num': 1599858, 'mean': 4.862012753631885, 'std': 0.8062235402557909, 'sum': 7778530}, 5: {'num': 597092, 'mean': 39.765269003771614, 'std': 25.046669543336236, 'sum': 23743524}}\n"
     ]
    }
   ],
   "source": [
    "percentiles = [10, 25, 50, 75, 90]\n",
    "percentile_intervals = np.percentile(comments, percentiles)\n",
    "percentile_intervals = np.append(percentile_intervals, 1000)\n",
    "print(percentile_intervals)\n",
    "\n",
    "lengths_stats, local_sum = total_score_comment(percentile_intervals, comments)\n",
    "print(lengths_stats)"
   ]
  },
  {
   "cell_type": "code",
   "execution_count": 14,
   "metadata": {},
   "outputs": [
    {
     "data": {
      "image/png": "[encoded data removed]",
      "text/plain": [
       "<Figure size 640x480 with 1 Axes>"
      ]
     },
     "metadata": {},
     "output_type": "display_data"
    }
   ],
   "source": [
    "plt.hist(comments, bins= np.arange(min(comments), max(comments), 50), log=True)\n",
    "for boundary in percentile_intervals:\n",
    "    plt.axvline(boundary, color='r', linestyle='dashed', linewidth=1)\n",
    "plt.hist(comments, bins= percentile_intervals, log = True, color= 'green', alpha = 0.3)\n",
    "plt.title('Histogram of Percentile-Based scores')\n",
    "plt.show()"
   ]
  },
  {
   "cell_type": "markdown",
   "metadata": {},
   "source": [
    "### Clustering-Based"
   ]
  },
  {
   "cell_type": "code",
   "execution_count": 15,
   "metadata": {
    "metadata": {}
   },
   "outputs": [
    {
     "name": "stderr",
     "output_type": "stream",
     "text": [
      "C:\\Users\\asus\\AppData\\Local\\Packages\\PythonSoftwareFoundation.Python.3.11_qbz5n2kfra8p0\\LocalCache\\local-packages\\Python311\\site-packages\\sklearn\\cluster\\_kmeans.py:1416: FutureWarning: The default value of `n_init` will change from 10 to 'auto' in 1.4. Set the value of `n_init` explicitly to suppress the warning\n",
      "  super()._check_params_vs_input(X, default_n_init=10)\n"
     ]
    },
    {
     "name": "stdout",
     "output_type": "stream",
     "text": [
      "[   4.11168157   12.71915497   26.18009082   49.10488739   96.8293301\n",
      "  234.91905615 1000.        ]\n",
      "{0: {'num': 2320261, 'mean': 2.642691490310788, 'std': 1.084812789276981, 'sum': 6131734}, 1: {'num': 2391735, 'mean': 7.607376653349974, 'std': 2.211181614512446, 'sum': 18194829}, 2: {'num': 1003534, 'mean': 17.781784174726518, 'std': 3.84444105375502, 'sum': 17844625}, 3: {'num': 331833, 'mean': 34.75900226921373, 'std': 6.215404393573769, 'sum': 11534184}, 4: {'num': 92525, 'mean': 64.27265063496353, 'std': 12.054931841653408, 'sum': 5946827}, 5: {'num': 16440, 'mean': 129.38801703163017, 'std': 31.071595214244486, 'sum': 2127139}, 6: {'num': 1085, 'mean': 323.4, 'std': 106.46568604084352, 'sum': 350889}}\n"
     ]
    }
   ],
   "source": [
    "n_intervals = 6\n",
    "comment_lengths_reshaped = np.reshape(comments, (-1, 1))\n",
    "\n",
    "# Apply K-means clustering\n",
    "kmeans = KMeans(n_clusters=n_intervals, random_state=42).fit(comment_lengths_reshaped)\n",
    "clustering_intervals = np.sort(kmeans.cluster_centers_.flatten())\n",
    "clustering_intervals = np.append(clustering_intervals, 1000)\n",
    "print(clustering_intervals)\n",
    "\n",
    "lengths_stats, local_sum = total_score_comment(clustering_intervals, comments)\n",
    "print(lengths_stats)"
   ]
  },
  {
   "cell_type": "code",
   "execution_count": 16,
   "metadata": {},
   "outputs": [
    {
     "data": {
      "image/png": "[encoded data removed]",
      "text/plain": [
       "<Figure size 640x480 with 1 Axes>"
      ]
     },
     "metadata": {},
     "output_type": "display_data"
    }
   ],
   "source": [
    "plt.hist(comments, bins= np.arange(min(comments), max(comments), 50), log=True)\n",
    "for boundary in clustering_intervals:\n",
    "    plt.axvline(boundary, color='r', linestyle='dashed', linewidth=1)\n",
    "plt.hist(comments, bins= clustering_intervals, log = True, color= 'green', alpha = 0.3)\n",
    "plt.title('Histogram of Clustering-Based scores')\n",
    "plt.show()"
   ]
  },
  {
   "cell_type": "markdown",
   "metadata": {},
   "source": [
    "### Distribution of Product's Scores"
   ]
  },
  {
   "cell_type": "code",
   "execution_count": 17,
   "metadata": {},
   "outputs": [
    {
     "data": {
      "text/html": [
       "<div>\n",
       "<style scoped>\n",
       "    .dataframe tbody tr th:only-of-type {\n",
       "        vertical-align: middle;\n",
       "    }\n",
       "\n",
       "    .dataframe tbody tr th {\n",
       "        vertical-align: top;\n",
       "    }\n",
       "\n",
       "    .dataframe thead th {\n",
       "        text-align: right;\n",
       "    }\n",
       "</style>\n",
       "<table border=\"1\" class=\"dataframe\">\n",
       "  <thead>\n",
       "    <tr style=\"text-align: right;\">\n",
       "      <th></th>\n",
       "      <th>product_id</th>\n",
       "      <th>score</th>\n",
       "    </tr>\n",
       "  </thead>\n",
       "  <tbody>\n",
       "    <tr>\n",
       "      <th>0</th>\n",
       "      <td>7602</td>\n",
       "      <td>250</td>\n",
       "    </tr>\n",
       "    <tr>\n",
       "      <th>1</th>\n",
       "      <td>12302</td>\n",
       "      <td>13</td>\n",
       "    </tr>\n",
       "    <tr>\n",
       "      <th>2</th>\n",
       "      <td>12423</td>\n",
       "      <td>10</td>\n",
       "    </tr>\n",
       "    <tr>\n",
       "      <th>3</th>\n",
       "      <td>15327</td>\n",
       "      <td>101</td>\n",
       "    </tr>\n",
       "    <tr>\n",
       "      <th>4</th>\n",
       "      <td>15435</td>\n",
       "      <td>187</td>\n",
       "    </tr>\n",
       "  </tbody>\n",
       "</table>\n",
       "</div>"
      ],
      "text/plain": [
       "   product_id  score\n",
       "0        7602    250\n",
       "1       12302     13\n",
       "2       12423     10\n",
       "3       15327    101\n",
       "4       15435    187"
      ]
     },
     "execution_count": 17,
     "metadata": {},
     "output_type": "execute_result"
    }
   ],
   "source": [
    "df = digikala[['body', 'product_id']].reset_index(drop=True)\n",
    "df['score'] = df['body'].apply(lambda comment: score_comment(clustering_intervals, comment))\n",
    "result = df.groupby('product_id')['score'].sum().reset_index()\n",
    "result.head()"
   ]
  },
  {
   "cell_type": "code",
   "execution_count": 18,
   "metadata": {},
   "outputs": [
    {
     "data": {
      "text/plain": [
       "count    331599.000000\n",
       "mean         17.651175\n",
       "std          38.431234\n",
       "min           0.000000\n",
       "25%           1.000000\n",
       "50%           4.000000\n",
       "75%          13.000000\n",
       "max         459.000000\n",
       "Name: score, dtype: float64"
      ]
     },
     "execution_count": 18,
     "metadata": {},
     "output_type": "execute_result"
    }
   ],
   "source": [
    "result['score'].describe()"
   ]
  },
  {
   "cell_type": "code",
   "execution_count": 19,
   "metadata": {},
   "outputs": [
    {
     "data": {
      "image/png": "[encoded data removed]",
      "text/plain": [
       "<Figure size 640x480 with 1 Axes>"
      ]
     },
     "metadata": {},
     "output_type": "display_data"
    }
   ],
   "source": [
    "plt.hist(result['score'],bins= 20, log=True)\n",
    "plt.xlabel('Score of coment')\n",
    "plt.ylabel('Frequency')\n",
    "plt.title('Histogram of comment\\'s score')\n",
    "plt.show()"
   ]
  },
  {
   "cell_type": "markdown",
   "metadata": {},
   "source": [
    "## Rates And Comments Grouping\n",
    "We want to divide comments into positive and negative groups. In the simplest case, we do this using rates. Otherwise, we refer to the comment sentiment."
   ]
  },
  {
   "cell_type": "markdown",
   "metadata": {},
   "source": [
    "### Rates Distribution"
   ]
  },
  {
   "cell_type": "code",
   "execution_count": 20,
   "metadata": {},
   "outputs": [
    {
     "data": {
      "image/png": "[encoded data removed]",
      "text/plain": [
       "<Figure size 640x480 with 1 Axes>"
      ]
     },
     "metadata": {},
     "output_type": "display_data"
    }
   ],
   "source": [
    "plt.hist(digikala['rate'], color='green', edgecolor='black')\n",
    "plt.xlabel('Rate')\n",
    "plt.ylabel('Frequency')\n",
    "plt.title('Histogram of Rate')\n",
    "plt.show()"
   ]
  },
  {
   "cell_type": "markdown",
   "metadata": {},
   "source": [
    "### Labeling comments"
   ]
  },
  {
   "cell_type": "code",
   "execution_count": 21,
   "metadata": {},
   "outputs": [],
   "source": [
    "def label_group(comment):\n",
    "    if comment['rate'] > 3:\n",
    "        return \"positive\"\n",
    "    if 0 < comment['rate'] < 3:\n",
    "        return \"negative\"\n",
    "    return comment['label']\n",
    "\n",
    "digikala['sentiment'] = digikala.apply(label_group, axis=1)"
   ]
  },
  {
   "cell_type": "code",
   "execution_count": 22,
   "metadata": {},
   "outputs": [],
   "source": [
    "digikala = digikala.drop('label', axis=1)\n",
    "digikala = digikala.rename(columns= {\"sentiment\" : 'label'})"
   ]
  },
  {
   "cell_type": "markdown",
   "metadata": {},
   "source": [
    "# Define Scoring Function"
   ]
  },
  {
   "cell_type": "code",
   "execution_count": 23,
   "metadata": {},
   "outputs": [],
   "source": [
    "grouped_digikala = digikala.groupby(['product_id', 'seller_title'])"
   ]
  },
  {
   "cell_type": "markdown",
   "metadata": {},
   "source": [
    "## Simple Scoring"
   ]
  },
  {
   "cell_type": "code",
   "execution_count": 24,
   "metadata": {},
   "outputs": [
    {
     "ename": "KeyboardInterrupt",
     "evalue": "",
     "output_type": "error",
     "traceback": [
      "\u001b[1;31m---------------------------------------------------------------------------\u001b[0m",
      "\u001b[1;31mKeyboardInterrupt\u001b[0m                         Traceback (most recent call last)",
      "Cell \u001b[1;32mIn[24], line 17\u001b[0m\n\u001b[0;32m     12\u001b[0m     total_score \u001b[38;5;241m=\u001b[39m (comments_score \u001b[38;5;241m+\u001b[39m rates_score \u001b[38;5;241m+\u001b[39m titles_score \u001b[38;5;241m+\u001b[39m \n\u001b[0;32m     13\u001b[0m                    likes_score \u001b[38;5;241m+\u001b[39m recommended_score \u001b[38;5;241m+\u001b[39m advantages_score)\n\u001b[0;32m     15\u001b[0m     \u001b[38;5;28;01mreturn\u001b[39;00m total_score\n\u001b[1;32m---> 17\u001b[0m simple_df \u001b[38;5;241m=\u001b[39m \u001b[43mgrouped_digikala\u001b[49m\u001b[38;5;241;43m.\u001b[39;49m\u001b[43mapply\u001b[49m\u001b[43m(\u001b[49m\u001b[43msimple_score\u001b[49m\u001b[43m)\u001b[49m\u001b[38;5;241m.\u001b[39mreset_index(name\u001b[38;5;241m=\u001b[39m\u001b[38;5;124m'\u001b[39m\u001b[38;5;124msimple_score\u001b[39m\u001b[38;5;124m'\u001b[39m)\n\u001b[0;32m     18\u001b[0m simple_df\u001b[38;5;241m.\u001b[39mhead()\n",
      "File \u001b[1;32m~\\AppData\\Local\\Packages\\PythonSoftwareFoundation.Python.3.11_qbz5n2kfra8p0\\LocalCache\\local-packages\\Python311\\site-packages\\pandas\\core\\groupby\\groupby.py:1353\u001b[0m, in \u001b[0;36mGroupBy.apply\u001b[1;34m(self, func, *args, **kwargs)\u001b[0m\n\u001b[0;32m   1351\u001b[0m \u001b[38;5;28;01mwith\u001b[39;00m option_context(\u001b[38;5;124m\"\u001b[39m\u001b[38;5;124mmode.chained_assignment\u001b[39m\u001b[38;5;124m\"\u001b[39m, \u001b[38;5;28;01mNone\u001b[39;00m):\n\u001b[0;32m   1352\u001b[0m     \u001b[38;5;28;01mtry\u001b[39;00m:\n\u001b[1;32m-> 1353\u001b[0m         result \u001b[38;5;241m=\u001b[39m \u001b[38;5;28;43mself\u001b[39;49m\u001b[38;5;241;43m.\u001b[39;49m\u001b[43m_python_apply_general\u001b[49m\u001b[43m(\u001b[49m\u001b[43mf\u001b[49m\u001b[43m,\u001b[49m\u001b[43m \u001b[49m\u001b[38;5;28;43mself\u001b[39;49m\u001b[38;5;241;43m.\u001b[39;49m\u001b[43m_selected_obj\u001b[49m\u001b[43m)\u001b[49m\n\u001b[0;32m   1354\u001b[0m     \u001b[38;5;28;01mexcept\u001b[39;00m \u001b[38;5;167;01mTypeError\u001b[39;00m:\n\u001b[0;32m   1355\u001b[0m         \u001b[38;5;66;03m# gh-20949\u001b[39;00m\n\u001b[0;32m   1356\u001b[0m         \u001b[38;5;66;03m# try again, with .apply acting as a filtering\u001b[39;00m\n\u001b[1;32m   (...)\u001b[0m\n\u001b[0;32m   1360\u001b[0m         \u001b[38;5;66;03m# fails on *some* columns, e.g. a numeric operation\u001b[39;00m\n\u001b[0;32m   1361\u001b[0m         \u001b[38;5;66;03m# on a string grouper column\u001b[39;00m\n\u001b[0;32m   1363\u001b[0m         \u001b[38;5;28;01mreturn\u001b[39;00m \u001b[38;5;28mself\u001b[39m\u001b[38;5;241m.\u001b[39m_python_apply_general(f, \u001b[38;5;28mself\u001b[39m\u001b[38;5;241m.\u001b[39m_obj_with_exclusions)\n",
      "File \u001b[1;32m~\\AppData\\Local\\Packages\\PythonSoftwareFoundation.Python.3.11_qbz5n2kfra8p0\\LocalCache\\local-packages\\Python311\\site-packages\\pandas\\core\\groupby\\groupby.py:1402\u001b[0m, in \u001b[0;36mGroupBy._python_apply_general\u001b[1;34m(self, f, data, not_indexed_same, is_transform, is_agg)\u001b[0m\n\u001b[0;32m   1367\u001b[0m \u001b[38;5;129m@final\u001b[39m\n\u001b[0;32m   1368\u001b[0m \u001b[38;5;28;01mdef\u001b[39;00m \u001b[38;5;21m_python_apply_general\u001b[39m(\n\u001b[0;32m   1369\u001b[0m     \u001b[38;5;28mself\u001b[39m,\n\u001b[1;32m   (...)\u001b[0m\n\u001b[0;32m   1374\u001b[0m     is_agg: \u001b[38;5;28mbool\u001b[39m \u001b[38;5;241m=\u001b[39m \u001b[38;5;28;01mFalse\u001b[39;00m,\n\u001b[0;32m   1375\u001b[0m ) \u001b[38;5;241m-\u001b[39m\u001b[38;5;241m>\u001b[39m NDFrameT:\n\u001b[0;32m   1376\u001b[0m \u001b[38;5;250m    \u001b[39m\u001b[38;5;124;03m\"\"\"\u001b[39;00m\n\u001b[0;32m   1377\u001b[0m \u001b[38;5;124;03m    Apply function f in python space\u001b[39;00m\n\u001b[0;32m   1378\u001b[0m \n\u001b[1;32m   (...)\u001b[0m\n\u001b[0;32m   1400\u001b[0m \u001b[38;5;124;03m        data after applying f\u001b[39;00m\n\u001b[0;32m   1401\u001b[0m \u001b[38;5;124;03m    \"\"\"\u001b[39;00m\n\u001b[1;32m-> 1402\u001b[0m     values, mutated \u001b[38;5;241m=\u001b[39m \u001b[38;5;28;43mself\u001b[39;49m\u001b[38;5;241;43m.\u001b[39;49m\u001b[43mgrouper\u001b[49m\u001b[38;5;241;43m.\u001b[39;49m\u001b[43mapply\u001b[49m\u001b[43m(\u001b[49m\u001b[43mf\u001b[49m\u001b[43m,\u001b[49m\u001b[43m \u001b[49m\u001b[43mdata\u001b[49m\u001b[43m,\u001b[49m\u001b[43m \u001b[49m\u001b[38;5;28;43mself\u001b[39;49m\u001b[38;5;241;43m.\u001b[39;49m\u001b[43maxis\u001b[49m\u001b[43m)\u001b[49m\n\u001b[0;32m   1403\u001b[0m     \u001b[38;5;28;01mif\u001b[39;00m not_indexed_same \u001b[38;5;129;01mis\u001b[39;00m \u001b[38;5;28;01mNone\u001b[39;00m:\n\u001b[0;32m   1404\u001b[0m         not_indexed_same \u001b[38;5;241m=\u001b[39m mutated\n",
      "File \u001b[1;32m~\\AppData\\Local\\Packages\\PythonSoftwareFoundation.Python.3.11_qbz5n2kfra8p0\\LocalCache\\local-packages\\Python311\\site-packages\\pandas\\core\\groupby\\ops.py:767\u001b[0m, in \u001b[0;36mBaseGrouper.apply\u001b[1;34m(self, f, data, axis)\u001b[0m\n\u001b[0;32m    765\u001b[0m \u001b[38;5;66;03m# group might be modified\u001b[39;00m\n\u001b[0;32m    766\u001b[0m group_axes \u001b[38;5;241m=\u001b[39m group\u001b[38;5;241m.\u001b[39maxes\n\u001b[1;32m--> 767\u001b[0m res \u001b[38;5;241m=\u001b[39m \u001b[43mf\u001b[49m\u001b[43m(\u001b[49m\u001b[43mgroup\u001b[49m\u001b[43m)\u001b[49m\n\u001b[0;32m    768\u001b[0m \u001b[38;5;28;01mif\u001b[39;00m \u001b[38;5;129;01mnot\u001b[39;00m mutated \u001b[38;5;129;01mand\u001b[39;00m \u001b[38;5;129;01mnot\u001b[39;00m _is_indexed_like(res, group_axes, axis):\n\u001b[0;32m    769\u001b[0m     mutated \u001b[38;5;241m=\u001b[39m \u001b[38;5;28;01mTrue\u001b[39;00m\n",
      "Cell \u001b[1;32mIn[24], line 6\u001b[0m, in \u001b[0;36msimple_score\u001b[1;34m(group)\u001b[0m\n\u001b[0;32m      4\u001b[0m _, comments \u001b[38;5;241m=\u001b[39m total_score_comment(clustering_intervals, group[\u001b[38;5;124m'\u001b[39m\u001b[38;5;124mbody\u001b[39m\u001b[38;5;124m'\u001b[39m])\n\u001b[0;32m      5\u001b[0m comments_score \u001b[38;5;241m=\u001b[39m comments \u001b[38;5;241m/\u001b[39m \u001b[38;5;241m1000\u001b[39m\n\u001b[1;32m----> 6\u001b[0m rates_score \u001b[38;5;241m=\u001b[39m (\u001b[43mgroup\u001b[49m\u001b[43m[\u001b[49m\u001b[38;5;124;43m'\u001b[39;49m\u001b[38;5;124;43mrate\u001b[39;49m\u001b[38;5;124;43m'\u001b[39;49m\u001b[43m]\u001b[49m\u001b[43m \u001b[49m\u001b[38;5;241;43m>\u001b[39;49m\u001b[43m \u001b[49m\u001b[38;5;241;43m0\u001b[39;49m)\u001b[38;5;241m.\u001b[39msum()\n\u001b[0;32m      7\u001b[0m titles_score \u001b[38;5;241m=\u001b[39m group[\u001b[38;5;124m'\u001b[39m\u001b[38;5;124mtitle\u001b[39m\u001b[38;5;124m'\u001b[39m]\u001b[38;5;241m.\u001b[39msum()\n\u001b[0;32m      8\u001b[0m likes_score \u001b[38;5;241m=\u001b[39m group[\u001b[38;5;124m'\u001b[39m\u001b[38;5;124mlikes\u001b[39m\u001b[38;5;124m'\u001b[39m]\u001b[38;5;241m.\u001b[39msum() \u001b[38;5;241m+\u001b[39m group[\u001b[38;5;124m'\u001b[39m\u001b[38;5;124mdislikes\u001b[39m\u001b[38;5;124m'\u001b[39m]\u001b[38;5;241m.\u001b[39msum()\n",
      "File \u001b[1;32m~\\AppData\\Local\\Packages\\PythonSoftwareFoundation.Python.3.11_qbz5n2kfra8p0\\LocalCache\\local-packages\\Python311\\site-packages\\pandas\\core\\ops\\common.py:81\u001b[0m, in \u001b[0;36m_unpack_zerodim_and_defer.<locals>.new_method\u001b[1;34m(self, other)\u001b[0m\n\u001b[0;32m     77\u001b[0m             \u001b[38;5;28;01mreturn\u001b[39;00m \u001b[38;5;28mNotImplemented\u001b[39m\n\u001b[0;32m     79\u001b[0m other \u001b[38;5;241m=\u001b[39m item_from_zerodim(other)\n\u001b[1;32m---> 81\u001b[0m \u001b[38;5;28;01mreturn\u001b[39;00m \u001b[43mmethod\u001b[49m\u001b[43m(\u001b[49m\u001b[38;5;28;43mself\u001b[39;49m\u001b[43m,\u001b[49m\u001b[43m \u001b[49m\u001b[43mother\u001b[49m\u001b[43m)\u001b[49m\n",
      "File \u001b[1;32m~\\AppData\\Local\\Packages\\PythonSoftwareFoundation.Python.3.11_qbz5n2kfra8p0\\LocalCache\\local-packages\\Python311\\site-packages\\pandas\\core\\arraylike.py:56\u001b[0m, in \u001b[0;36mOpsMixin.__gt__\u001b[1;34m(self, other)\u001b[0m\n\u001b[0;32m     54\u001b[0m \u001b[38;5;129m@unpack_zerodim_and_defer\u001b[39m(\u001b[38;5;124m\"\u001b[39m\u001b[38;5;124m__gt__\u001b[39m\u001b[38;5;124m\"\u001b[39m)\n\u001b[0;32m     55\u001b[0m \u001b[38;5;28;01mdef\u001b[39;00m \u001b[38;5;21m__gt__\u001b[39m(\u001b[38;5;28mself\u001b[39m, other):\n\u001b[1;32m---> 56\u001b[0m     \u001b[38;5;28;01mreturn\u001b[39;00m \u001b[38;5;28;43mself\u001b[39;49m\u001b[38;5;241;43m.\u001b[39;49m\u001b[43m_cmp_method\u001b[49m\u001b[43m(\u001b[49m\u001b[43mother\u001b[49m\u001b[43m,\u001b[49m\u001b[43m \u001b[49m\u001b[43moperator\u001b[49m\u001b[38;5;241;43m.\u001b[39;49m\u001b[43mgt\u001b[49m\u001b[43m)\u001b[49m\n",
      "File \u001b[1;32m~\\AppData\\Local\\Packages\\PythonSoftwareFoundation.Python.3.11_qbz5n2kfra8p0\\LocalCache\\local-packages\\Python311\\site-packages\\pandas\\core\\series.py:6098\u001b[0m, in \u001b[0;36mSeries._cmp_method\u001b[1;34m(self, other, op)\u001b[0m\n\u001b[0;32m   6095\u001b[0m \u001b[38;5;28;01mwith\u001b[39;00m np\u001b[38;5;241m.\u001b[39merrstate(\u001b[38;5;28mall\u001b[39m\u001b[38;5;241m=\u001b[39m\u001b[38;5;124m\"\u001b[39m\u001b[38;5;124mignore\u001b[39m\u001b[38;5;124m\"\u001b[39m):\n\u001b[0;32m   6096\u001b[0m     res_values \u001b[38;5;241m=\u001b[39m ops\u001b[38;5;241m.\u001b[39mcomparison_op(lvalues, rvalues, op)\n\u001b[1;32m-> 6098\u001b[0m \u001b[38;5;28;01mreturn\u001b[39;00m \u001b[38;5;28;43mself\u001b[39;49m\u001b[38;5;241;43m.\u001b[39;49m\u001b[43m_construct_result\u001b[49m\u001b[43m(\u001b[49m\u001b[43mres_values\u001b[49m\u001b[43m,\u001b[49m\u001b[43m \u001b[49m\u001b[43mname\u001b[49m\u001b[38;5;241;43m=\u001b[39;49m\u001b[43mres_name\u001b[49m\u001b[43m)\u001b[49m\n",
      "File \u001b[1;32m~\\AppData\\Local\\Packages\\PythonSoftwareFoundation.Python.3.11_qbz5n2kfra8p0\\LocalCache\\local-packages\\Python311\\site-packages\\pandas\\core\\series.py:3105\u001b[0m, in \u001b[0;36mSeries._construct_result\u001b[1;34m(self, result, name)\u001b[0m\n\u001b[0;32m   3102\u001b[0m \u001b[38;5;66;03m# TODO: result should always be ArrayLike, but this fails for some\u001b[39;00m\n\u001b[0;32m   3103\u001b[0m \u001b[38;5;66;03m#  JSONArray tests\u001b[39;00m\n\u001b[0;32m   3104\u001b[0m dtype \u001b[38;5;241m=\u001b[39m \u001b[38;5;28mgetattr\u001b[39m(result, \u001b[38;5;124m\"\u001b[39m\u001b[38;5;124mdtype\u001b[39m\u001b[38;5;124m\"\u001b[39m, \u001b[38;5;28;01mNone\u001b[39;00m)\n\u001b[1;32m-> 3105\u001b[0m out \u001b[38;5;241m=\u001b[39m \u001b[38;5;28;43mself\u001b[39;49m\u001b[38;5;241;43m.\u001b[39;49m\u001b[43m_constructor\u001b[49m\u001b[43m(\u001b[49m\u001b[43mresult\u001b[49m\u001b[43m,\u001b[49m\u001b[43m \u001b[49m\u001b[43mindex\u001b[49m\u001b[38;5;241;43m=\u001b[39;49m\u001b[38;5;28;43mself\u001b[39;49m\u001b[38;5;241;43m.\u001b[39;49m\u001b[43mindex\u001b[49m\u001b[43m,\u001b[49m\u001b[43m \u001b[49m\u001b[43mdtype\u001b[49m\u001b[38;5;241;43m=\u001b[39;49m\u001b[43mdtype\u001b[49m\u001b[43m)\u001b[49m\n\u001b[0;32m   3106\u001b[0m out \u001b[38;5;241m=\u001b[39m out\u001b[38;5;241m.\u001b[39m__finalize__(\u001b[38;5;28mself\u001b[39m)\n\u001b[0;32m   3108\u001b[0m \u001b[38;5;66;03m# Set the result's name after __finalize__ is called because __finalize__\u001b[39;00m\n\u001b[0;32m   3109\u001b[0m \u001b[38;5;66;03m#  would set it back to self.name\u001b[39;00m\n",
      "File \u001b[1;32m~\\AppData\\Local\\Packages\\PythonSoftwareFoundation.Python.3.11_qbz5n2kfra8p0\\LocalCache\\local-packages\\Python311\\site-packages\\pandas\\core\\series.py:511\u001b[0m, in \u001b[0;36mSeries.__init__\u001b[1;34m(self, data, index, dtype, name, copy, fastpath)\u001b[0m\n\u001b[0;32m    508\u001b[0m \u001b[38;5;28;01melse\u001b[39;00m:\n\u001b[0;32m    509\u001b[0m     data \u001b[38;5;241m=\u001b[39m sanitize_array(data, index, dtype, copy)\n\u001b[1;32m--> 511\u001b[0m     manager \u001b[38;5;241m=\u001b[39m \u001b[43mget_option\u001b[49m\u001b[43m(\u001b[49m\u001b[38;5;124;43m\"\u001b[39;49m\u001b[38;5;124;43mmode.data_manager\u001b[39;49m\u001b[38;5;124;43m\"\u001b[39;49m\u001b[43m)\u001b[49m\n\u001b[0;32m    512\u001b[0m     \u001b[38;5;28;01mif\u001b[39;00m manager \u001b[38;5;241m==\u001b[39m \u001b[38;5;124m\"\u001b[39m\u001b[38;5;124mblock\u001b[39m\u001b[38;5;124m\"\u001b[39m:\n\u001b[0;32m    513\u001b[0m         data \u001b[38;5;241m=\u001b[39m SingleBlockManager\u001b[38;5;241m.\u001b[39mfrom_array(data, index, refs\u001b[38;5;241m=\u001b[39mrefs)\n",
      "File \u001b[1;32m~\\AppData\\Local\\Packages\\PythonSoftwareFoundation.Python.3.11_qbz5n2kfra8p0\\LocalCache\\local-packages\\Python311\\site-packages\\pandas\\_config\\config.py:261\u001b[0m, in \u001b[0;36mCallableDynamicDoc.__call__\u001b[1;34m(self, *args, **kwds)\u001b[0m\n\u001b[0;32m    260\u001b[0m \u001b[38;5;28;01mdef\u001b[39;00m \u001b[38;5;21m__call__\u001b[39m(\u001b[38;5;28mself\u001b[39m, \u001b[38;5;241m*\u001b[39margs, \u001b[38;5;241m*\u001b[39m\u001b[38;5;241m*\u001b[39mkwds) \u001b[38;5;241m-\u001b[39m\u001b[38;5;241m>\u001b[39m T:\n\u001b[1;32m--> 261\u001b[0m     \u001b[38;5;28;01mreturn\u001b[39;00m \u001b[38;5;28;43mself\u001b[39;49m\u001b[38;5;241;43m.\u001b[39;49m\u001b[38;5;18;43m__func__\u001b[39;49m\u001b[43m(\u001b[49m\u001b[38;5;241;43m*\u001b[39;49m\u001b[43margs\u001b[49m\u001b[43m,\u001b[49m\u001b[43m \u001b[49m\u001b[38;5;241;43m*\u001b[39;49m\u001b[38;5;241;43m*\u001b[39;49m\u001b[43mkwds\u001b[49m\u001b[43m)\u001b[49m\n",
      "File \u001b[1;32m~\\AppData\\Local\\Packages\\PythonSoftwareFoundation.Python.3.11_qbz5n2kfra8p0\\LocalCache\\local-packages\\Python311\\site-packages\\pandas\\_config\\config.py:138\u001b[0m, in \u001b[0;36m_get_option\u001b[1;34m(pat, silent)\u001b[0m\n\u001b[0;32m    135\u001b[0m key \u001b[38;5;241m=\u001b[39m _get_single_key(pat, silent)\n\u001b[0;32m    137\u001b[0m \u001b[38;5;66;03m# walk the nested dict\u001b[39;00m\n\u001b[1;32m--> 138\u001b[0m root, k \u001b[38;5;241m=\u001b[39m \u001b[43m_get_root\u001b[49m\u001b[43m(\u001b[49m\u001b[43mkey\u001b[49m\u001b[43m)\u001b[49m\n\u001b[0;32m    139\u001b[0m \u001b[38;5;28;01mreturn\u001b[39;00m root[k]\n",
      "File \u001b[1;32m~\\AppData\\Local\\Packages\\PythonSoftwareFoundation.Python.3.11_qbz5n2kfra8p0\\LocalCache\\local-packages\\Python311\\site-packages\\pandas\\_config\\config.py:596\u001b[0m, in \u001b[0;36m_get_root\u001b[1;34m(key)\u001b[0m\n\u001b[0;32m    591\u001b[0m         \u001b[38;5;28;01mreturn\u001b[39;00m keys\n\u001b[0;32m    593\u001b[0m     \u001b[38;5;28;01mreturn\u001b[39;00m [k \u001b[38;5;28;01mfor\u001b[39;00m k \u001b[38;5;129;01min\u001b[39;00m keys \u001b[38;5;28;01mif\u001b[39;00m re\u001b[38;5;241m.\u001b[39msearch(pat, k, re\u001b[38;5;241m.\u001b[39mI)]\n\u001b[1;32m--> 596\u001b[0m \u001b[38;5;28;01mdef\u001b[39;00m \u001b[38;5;21m_get_root\u001b[39m(key: \u001b[38;5;28mstr\u001b[39m) \u001b[38;5;241m-\u001b[39m\u001b[38;5;241m>\u001b[39m \u001b[38;5;28mtuple\u001b[39m[\u001b[38;5;28mdict\u001b[39m[\u001b[38;5;28mstr\u001b[39m, Any], \u001b[38;5;28mstr\u001b[39m]:\n\u001b[0;32m    597\u001b[0m     path \u001b[38;5;241m=\u001b[39m key\u001b[38;5;241m.\u001b[39msplit(\u001b[38;5;124m\"\u001b[39m\u001b[38;5;124m.\u001b[39m\u001b[38;5;124m\"\u001b[39m)\n\u001b[0;32m    598\u001b[0m     cursor \u001b[38;5;241m=\u001b[39m _global_config\n",
      "\u001b[1;31mKeyboardInterrupt\u001b[0m: "
     ]
    }
   ],
   "source": [
    "def simple_score(group):\n",
    "    group = group[group['is_buyer']]\n",
    "\n",
    "    _, comments = total_score_comment(clustering_intervals, group['body'])\n",
    "    comments_score = comments / 1000\n",
    "    rates_score = (group['rate'] > 0).sum()\n",
    "    titles_score = group['title'].sum()\n",
    "    likes_score = group['likes'].sum() + group['dislikes'].sum()\n",
    "    recommended_score = group['recommendation_status'].sum()\n",
    "    advantages_score = group['advantages_count'].sum() + group['disadvantages_count'].sum()\n",
    "    \n",
    "    total_score = (comments_score + rates_score + titles_score + \n",
    "                   likes_score + recommended_score + advantages_score)\n",
    "    \n",
    "    return total_score\n",
    "\n",
    "simple_df = grouped_digikala.apply(simple_score).reset_index(name='simple_score')\n",
    "simple_df.head()"
   ]
  },
  {
   "cell_type": "code",
   "execution_count": null,
   "metadata": {},
   "outputs": [
    {
     "data": {
      "text/html": [
       "<div>\n",
       "<style scoped>\n",
       "    .dataframe tbody tr th:only-of-type {\n",
       "        vertical-align: middle;\n",
       "    }\n",
       "\n",
       "    .dataframe tbody tr th {\n",
       "        vertical-align: top;\n",
       "    }\n",
       "\n",
       "    .dataframe thead th {\n",
       "        text-align: right;\n",
       "    }\n",
       "</style>\n",
       "<table border=\"1\" class=\"dataframe\">\n",
       "  <thead>\n",
       "    <tr style=\"text-align: right;\">\n",
       "      <th></th>\n",
       "      <th>product_id</th>\n",
       "      <th>seller_title</th>\n",
       "      <th>avg_simple_score</th>\n",
       "    </tr>\n",
       "  </thead>\n",
       "  <tbody>\n",
       "    <tr>\n",
       "      <th>0</th>\n",
       "      <td>7602</td>\n",
       "      <td>برزان</td>\n",
       "      <td>350.134375</td>\n",
       "    </tr>\n",
       "    <tr>\n",
       "      <th>1</th>\n",
       "      <td>7602</td>\n",
       "      <td>برهان الکترونیک</td>\n",
       "      <td>300.100000</td>\n",
       "    </tr>\n",
       "    <tr>\n",
       "      <th>2</th>\n",
       "      <td>7602</td>\n",
       "      <td>به روز سنتر</td>\n",
       "      <td>500.150000</td>\n",
       "    </tr>\n",
       "    <tr>\n",
       "      <th>3</th>\n",
       "      <td>7602</td>\n",
       "      <td>جانبی انسی</td>\n",
       "      <td>320.110000</td>\n",
       "    </tr>\n",
       "    <tr>\n",
       "      <th>4</th>\n",
       "      <td>7602</td>\n",
       "      <td>جانبی حبیب</td>\n",
       "      <td>200.000000</td>\n",
       "    </tr>\n",
       "  </tbody>\n",
       "</table>\n",
       "</div>"
      ],
      "text/plain": [
       "   product_id     seller_title  avg_simple_score\n",
       "0        7602            برزان        350.134375\n",
       "1        7602  برهان الکترونیک        300.100000\n",
       "2        7602      به روز سنتر        500.150000\n",
       "3        7602       جانبی انسی        320.110000\n",
       "4        7602       جانبی حبیب        200.000000"
      ]
     },
     "execution_count": 23,
     "metadata": {},
     "output_type": "execute_result"
    }
   ],
   "source": [
    "# Divide by total number\n",
    "def avg_simple_score(group):\n",
    "    group = group[group['is_buyer']]\n",
    "\n",
    "    _, comments = total_score_comment(clustering_intervals, group['body'])\n",
    "    comments_score = comments / 1000\n",
    "    rates_score = (group['rate'] > 0).sum()\n",
    "    titles_score = group['title'].sum()\n",
    "    likes_score = group['likes'].sum() + group['dislikes'].sum()\n",
    "    recommended_score = group['recommendation_status'].sum()\n",
    "    advantages_score = group['advantages_count'].sum() + group['disadvantages_count'].sum()\n",
    "    \n",
    "    total_score = (comments_score + rates_score + titles_score + \n",
    "                   likes_score + recommended_score + advantages_score) / len(group) * 100\n",
    "    \n",
    "    return total_score\n",
    "\n",
    "avg_simple_df = grouped_digikala.apply(avg_simple_score).reset_index(name='avg_simple_score')\n",
    "avg_simple_df.head()"
   ]
  },
  {
   "cell_type": "markdown",
   "metadata": {},
   "source": [
    "## Weighted Scoring:"
   ]
  },
  {
   "cell_type": "code",
   "execution_count": null,
   "metadata": {},
   "outputs": [
    {
     "data": {
      "text/html": [
       "<div>\n",
       "<style scoped>\n",
       "    .dataframe tbody tr th:only-of-type {\n",
       "        vertical-align: middle;\n",
       "    }\n",
       "\n",
       "    .dataframe tbody tr th {\n",
       "        vertical-align: top;\n",
       "    }\n",
       "\n",
       "    .dataframe thead th {\n",
       "        text-align: right;\n",
       "    }\n",
       "</style>\n",
       "<table border=\"1\" class=\"dataframe\">\n",
       "  <thead>\n",
       "    <tr style=\"text-align: right;\">\n",
       "      <th></th>\n",
       "      <th>product_id</th>\n",
       "      <th>seller_title</th>\n",
       "      <th>weighted_score</th>\n",
       "    </tr>\n",
       "  </thead>\n",
       "  <tbody>\n",
       "    <tr>\n",
       "      <th>0</th>\n",
       "      <td>7602</td>\n",
       "      <td>برزان</td>\n",
       "      <td>14.148276</td>\n",
       "    </tr>\n",
       "    <tr>\n",
       "      <th>1</th>\n",
       "      <td>7602</td>\n",
       "      <td>برهان الکترونیک</td>\n",
       "      <td>0.348276</td>\n",
       "    </tr>\n",
       "    <tr>\n",
       "      <th>2</th>\n",
       "      <td>7602</td>\n",
       "      <td>به روز سنتر</td>\n",
       "      <td>1.389655</td>\n",
       "    </tr>\n",
       "    <tr>\n",
       "      <th>3</th>\n",
       "      <td>7602</td>\n",
       "      <td>جانبی انسی</td>\n",
       "      <td>4.210345</td>\n",
       "    </tr>\n",
       "    <tr>\n",
       "      <th>4</th>\n",
       "      <td>7602</td>\n",
       "      <td>جانبی حبیب</td>\n",
       "      <td>0.241379</td>\n",
       "    </tr>\n",
       "  </tbody>\n",
       "</table>\n",
       "</div>"
      ],
      "text/plain": [
       "   product_id     seller_title  weighted_score\n",
       "0        7602            برزان       14.148276\n",
       "1        7602  برهان الکترونیک        0.348276\n",
       "2        7602      به روز سنتر        1.389655\n",
       "3        7602       جانبی انسی        4.210345\n",
       "4        7602       جانبی حبیب        0.241379"
      ]
     },
     "execution_count": 24,
     "metadata": {},
     "output_type": "execute_result"
    }
   ],
   "source": [
    "# by weightes\n",
    "def weighted_score(group):\n",
    "    group = group[group['is_buyer']]\n",
    "\n",
    "    weights = {\n",
    "        \"body\" : 10,\n",
    "        \"title\" : 3,\n",
    "        \"rate\" : 4,\n",
    "        \"likes\" : 4,\n",
    "        \"recommendation\" : 3,\n",
    "        \"advantages\" : 5\n",
    "    }\n",
    "\n",
    "    _, comments = total_score_comment(clustering_intervals, group['body'])\n",
    "    comments_score = weights[\"body\"]*comments / 100\n",
    "    rates_score =  weights[\"rate\"]*(group['rate'] > 0).sum()\n",
    "    titles_score =  weights[\"title\"]*group['title'].sum()\n",
    "    likes_score =  weights[\"likes\"]*(group['likes'].sum() + group['dislikes'].sum())\n",
    "    recommended_score =  weights[\"recommendation\"]* group['recommendation_status'].sum()\n",
    "    advantages_score = weights[\"advantages\"]* (group['advantages_count'].sum() + group['disadvantages_count'].sum())\n",
    "    \n",
    "    total_score = (comments_score + rates_score + titles_score + \n",
    "                   likes_score + recommended_score + advantages_score) / sum(weights.values())\n",
    "    \n",
    "    return total_score\n",
    "\n",
    "weighted_score_df = grouped_digikala.apply(weighted_score).reset_index(name='weighted_score')\n",
    "weighted_score_df.head()"
   ]
  },
  {
   "cell_type": "code",
   "execution_count": null,
   "metadata": {},
   "outputs": [
    {
     "data": {
      "text/html": [
       "<div>\n",
       "<style scoped>\n",
       "    .dataframe tbody tr th:only-of-type {\n",
       "        vertical-align: middle;\n",
       "    }\n",
       "\n",
       "    .dataframe tbody tr th {\n",
       "        vertical-align: top;\n",
       "    }\n",
       "\n",
       "    .dataframe thead th {\n",
       "        text-align: right;\n",
       "    }\n",
       "</style>\n",
       "<table border=\"1\" class=\"dataframe\">\n",
       "  <thead>\n",
       "    <tr style=\"text-align: right;\">\n",
       "      <th></th>\n",
       "      <th>product_id</th>\n",
       "      <th>seller_title</th>\n",
       "      <th>avg_weighted_score</th>\n",
       "    </tr>\n",
       "  </thead>\n",
       "  <tbody>\n",
       "    <tr>\n",
       "      <th>0</th>\n",
       "      <td>7602</td>\n",
       "      <td>برزان</td>\n",
       "      <td>14.148276</td>\n",
       "    </tr>\n",
       "    <tr>\n",
       "      <th>1</th>\n",
       "      <td>7602</td>\n",
       "      <td>برهان الکترونیک</td>\n",
       "      <td>0.348276</td>\n",
       "    </tr>\n",
       "    <tr>\n",
       "      <th>2</th>\n",
       "      <td>7602</td>\n",
       "      <td>به روز سنتر</td>\n",
       "      <td>1.389655</td>\n",
       "    </tr>\n",
       "    <tr>\n",
       "      <th>3</th>\n",
       "      <td>7602</td>\n",
       "      <td>جانبی انسی</td>\n",
       "      <td>4.210345</td>\n",
       "    </tr>\n",
       "    <tr>\n",
       "      <th>4</th>\n",
       "      <td>7602</td>\n",
       "      <td>جانبی حبیب</td>\n",
       "      <td>0.241379</td>\n",
       "    </tr>\n",
       "  </tbody>\n",
       "</table>\n",
       "</div>"
      ],
      "text/plain": [
       "   product_id     seller_title  avg_weighted_score\n",
       "0        7602            برزان           14.148276\n",
       "1        7602  برهان الکترونیک            0.348276\n",
       "2        7602      به روز سنتر            1.389655\n",
       "3        7602       جانبی انسی            4.210345\n",
       "4        7602       جانبی حبیب            0.241379"
      ]
     },
     "execution_count": 25,
     "metadata": {},
     "output_type": "execute_result"
    }
   ],
   "source": [
    "# average by weightes \n",
    "def avg_weighted_score(group):\n",
    "    group = group[group['is_buyer']]\n",
    "\n",
    "    weights = {\n",
    "        \"body\" : 10,\n",
    "        \"title\" : 3,\n",
    "        \"rate\" : 4,\n",
    "        \"likes\" : 4,\n",
    "        \"recommendation\" : 3,\n",
    "        \"advantages\" : 5\n",
    "    }\n",
    "\n",
    "    _, comments = total_score_comment(clustering_intervals, group['body'])\n",
    "    comments_score = weights[\"body\"]*comments / 100\n",
    "    rates_score =  weights[\"rate\"]*(group['rate'] > 0).sum()\n",
    "    titles_score =  weights[\"title\"]*group['title'].sum()\n",
    "    likes_score =  weights[\"likes\"]*(group['likes'].sum() + group['dislikes'].sum())\n",
    "    recommended_score =  weights[\"recommendation\"]* group['recommendation_status'].sum()\n",
    "    advantages_score = weights[\"advantages\"]* (group['advantages_count'].sum() + group['disadvantages_count'].sum())\n",
    "    \n",
    "    total_score = ((comments_score + rates_score + titles_score + \n",
    "                   likes_score + recommended_score + advantages_score) / sum(weights.values())) / len(group) * 100\n",
    "    \n",
    "    return total_score\n",
    "\n",
    "avg_weighted_score_df = grouped_digikala.apply(weighted_score).reset_index(name='avg_weighted_score')\n",
    "avg_weighted_score_df.head()"
   ]
  },
  {
   "cell_type": "markdown",
   "metadata": {},
   "source": [
    "### Biased Score"
   ]
  },
  {
   "cell_type": "code",
   "execution_count": 28,
   "metadata": {},
   "outputs": [],
   "source": [
    "def compute_factors(df):\n",
    "    \"\"\"Compute individual score factors.\"\"\"\n",
    "    df['body_score'] = df['body'].apply(lambda x: score_comment(clustering_intervals, x) / 1000)\n",
    "    df['rate_score'] = df['rate'].apply(lambda x: 1 if x > 0 else 0)\n",
    "    df['advantage_score'] = df['advantages_count'] + df['disadvantages_count']\n",
    "    df['likes_adjusted'] = df['likes'] + 1\n",
    "    df['f'] = df.apply(lambda row: row['likes_adjusted'] / (row['likes_adjusted'] + row['dislikes']) \n",
    "                       if (row['likes_adjusted'] + row['dislikes']) != 0 else 0, axis=1)\n",
    "    return df\n",
    "\n",
    "def compute_scores(df):\n",
    "    \"\"\"Compute total, positive, and negative scores.\"\"\"\n",
    "    df['score'] = (df['body_score'] + df['rate_score'] + df['title'] + \n",
    "                   df['recommendation_status'] + df['advantage_score'])\n",
    "    \n",
    "    df['pos_score'] = df.apply(lambda row: row['f'] * row['score'] if row['label'] == 'positive' \n",
    "                               else row['score'] - row['f'] * row['score'], axis=1)\n",
    "    df['neg_score'] = df.apply(lambda row: row['score'] - row['pos_score'], axis=1)\n",
    "    \n",
    "    return df\n",
    "\n",
    "def biased_score(group):\n",
    "    group = compute_factors(group)\n",
    "    group = compute_scores(group)\n",
    "    \n",
    "    total_score = group['score'].sum()\n",
    "    total_positive_score = group['pos_score'].sum()\n",
    "    total_negative_score = group['neg_score'].sum()\n",
    "    \n",
    "    return total_score, total_positive_score, total_negative_score\n",
    "\n",
    "result = grouped_digikala.apply(lambda x: pd.Series(biased_score(x)))\n",
    "result = result.reset_index()\n",
    "\n",
    "#biased_score_grouped = grouped_digikala.apply(lambda group: pd.Series(biased_score(group), index=['biased_score', 'biased_positive_score', 'biased_negative_score']))\n",
    "#biased_score_df = biased_score_grouped.reset_index()\n",
    "#biased_score_df.head()"
   ]
  },
  {
   "cell_type": "code",
   "execution_count": 31,
   "metadata": {},
   "outputs": [
    {
     "data": {
      "text/html": [
       "<div>\n",
       "<style scoped>\n",
       "    .dataframe tbody tr th:only-of-type {\n",
       "        vertical-align: middle;\n",
       "    }\n",
       "\n",
       "    .dataframe tbody tr th {\n",
       "        vertical-align: top;\n",
       "    }\n",
       "\n",
       "    .dataframe thead th {\n",
       "        text-align: right;\n",
       "    }\n",
       "</style>\n",
       "<table border=\"1\" class=\"dataframe\">\n",
       "  <thead>\n",
       "    <tr style=\"text-align: right;\">\n",
       "      <th></th>\n",
       "      <th>product_id</th>\n",
       "      <th>seller_title</th>\n",
       "      <th>total_biased_score</th>\n",
       "      <th>total_pos_score</th>\n",
       "      <th>total_neg_score</th>\n",
       "    </tr>\n",
       "  </thead>\n",
       "  <tbody>\n",
       "    <tr>\n",
       "      <th>0</th>\n",
       "      <td>7602</td>\n",
       "      <td>برزان</td>\n",
       "      <td>99.043</td>\n",
       "      <td>71.53100</td>\n",
       "      <td>27.51200</td>\n",
       "    </tr>\n",
       "    <tr>\n",
       "      <th>1</th>\n",
       "      <td>7602</td>\n",
       "      <td>برهان الکترونیک</td>\n",
       "      <td>3.001</td>\n",
       "      <td>3.00100</td>\n",
       "      <td>0.00000</td>\n",
       "    </tr>\n",
       "    <tr>\n",
       "      <th>2</th>\n",
       "      <td>7602</td>\n",
       "      <td>به روز سنتر</td>\n",
       "      <td>10.003</td>\n",
       "      <td>3.00100</td>\n",
       "      <td>7.00200</td>\n",
       "    </tr>\n",
       "    <tr>\n",
       "      <th>3</th>\n",
       "      <td>7602</td>\n",
       "      <td>جانبی انسی</td>\n",
       "      <td>29.011</td>\n",
       "      <td>19.50725</td>\n",
       "      <td>9.50375</td>\n",
       "    </tr>\n",
       "    <tr>\n",
       "      <th>4</th>\n",
       "      <td>7602</td>\n",
       "      <td>جانبی حبیب</td>\n",
       "      <td>2.000</td>\n",
       "      <td>2.00000</td>\n",
       "      <td>0.00000</td>\n",
       "    </tr>\n",
       "  </tbody>\n",
       "</table>\n",
       "</div>"
      ],
      "text/plain": [
       "   product_id     seller_title  total_biased_score  total_pos_score  \\\n",
       "0        7602            برزان              99.043         71.53100   \n",
       "1        7602  برهان الکترونیک               3.001          3.00100   \n",
       "2        7602      به روز سنتر              10.003          3.00100   \n",
       "3        7602       جانبی انسی              29.011         19.50725   \n",
       "4        7602       جانبی حبیب               2.000          2.00000   \n",
       "\n",
       "   total_neg_score  \n",
       "0         27.51200  \n",
       "1          0.00000  \n",
       "2          7.00200  \n",
       "3          9.50375  \n",
       "4          0.00000  "
      ]
     },
     "execution_count": 31,
     "metadata": {},
     "output_type": "execute_result"
    }
   ],
   "source": [
    "result.rename(columns={0:'total_biased_score',1:'total_pos_score',2:'total_neg_score'}, inplace=True)\n",
    "result.head()"
   ]
  },
  {
   "cell_type": "code",
   "execution_count": 32,
   "metadata": {},
   "outputs": [
    {
     "data": {
      "text/html": [
       "<div>\n",
       "<style scoped>\n",
       "    .dataframe tbody tr th:only-of-type {\n",
       "        vertical-align: middle;\n",
       "    }\n",
       "\n",
       "    .dataframe tbody tr th {\n",
       "        vertical-align: top;\n",
       "    }\n",
       "\n",
       "    .dataframe thead th {\n",
       "        text-align: right;\n",
       "    }\n",
       "</style>\n",
       "<table border=\"1\" class=\"dataframe\">\n",
       "  <thead>\n",
       "    <tr style=\"text-align: right;\">\n",
       "      <th></th>\n",
       "      <th>product_id</th>\n",
       "      <th>seller_title</th>\n",
       "      <th>total_biased_score</th>\n",
       "      <th>total_pos_score</th>\n",
       "      <th>total_neg_score</th>\n",
       "    </tr>\n",
       "  </thead>\n",
       "  <tbody>\n",
       "    <tr>\n",
       "      <th>0</th>\n",
       "      <td>7602</td>\n",
       "      <td>برزان</td>\n",
       "      <td>44.0190</td>\n",
       "      <td>71.53100</td>\n",
       "      <td>27.51200</td>\n",
       "    </tr>\n",
       "    <tr>\n",
       "      <th>1</th>\n",
       "      <td>7602</td>\n",
       "      <td>برهان الکترونیک</td>\n",
       "      <td>3.0010</td>\n",
       "      <td>3.00100</td>\n",
       "      <td>0.00000</td>\n",
       "    </tr>\n",
       "    <tr>\n",
       "      <th>2</th>\n",
       "      <td>7602</td>\n",
       "      <td>به روز سنتر</td>\n",
       "      <td>-4.0010</td>\n",
       "      <td>3.00100</td>\n",
       "      <td>7.00200</td>\n",
       "    </tr>\n",
       "    <tr>\n",
       "      <th>3</th>\n",
       "      <td>7602</td>\n",
       "      <td>جانبی انسی</td>\n",
       "      <td>10.0035</td>\n",
       "      <td>19.50725</td>\n",
       "      <td>9.50375</td>\n",
       "    </tr>\n",
       "    <tr>\n",
       "      <th>4</th>\n",
       "      <td>7602</td>\n",
       "      <td>جانبی حبیب</td>\n",
       "      <td>2.0000</td>\n",
       "      <td>2.00000</td>\n",
       "      <td>0.00000</td>\n",
       "    </tr>\n",
       "  </tbody>\n",
       "</table>\n",
       "</div>"
      ],
      "text/plain": [
       "   product_id     seller_title  total_biased_score  total_pos_score  \\\n",
       "0        7602            برزان             44.0190         71.53100   \n",
       "1        7602  برهان الکترونیک              3.0010          3.00100   \n",
       "2        7602      به روز سنتر             -4.0010          3.00100   \n",
       "3        7602       جانبی انسی             10.0035         19.50725   \n",
       "4        7602       جانبی حبیب              2.0000          2.00000   \n",
       "\n",
       "   total_neg_score  \n",
       "0         27.51200  \n",
       "1          0.00000  \n",
       "2          7.00200  \n",
       "3          9.50375  \n",
       "4          0.00000  "
      ]
     },
     "execution_count": 32,
     "metadata": {},
     "output_type": "execute_result"
    }
   ],
   "source": [
    "result['total_biased_score'] = result['total_pos_score'] - result['total_neg_score']\n",
    "result.head()"
   ]
  },
  {
   "cell_type": "code",
   "execution_count": 34,
   "metadata": {},
   "outputs": [
    {
     "data": {
      "text/html": [
       "<div>\n",
       "<style scoped>\n",
       "    .dataframe tbody tr th:only-of-type {\n",
       "        vertical-align: middle;\n",
       "    }\n",
       "\n",
       "    .dataframe tbody tr th {\n",
       "        vertical-align: top;\n",
       "    }\n",
       "\n",
       "    .dataframe thead th {\n",
       "        text-align: right;\n",
       "    }\n",
       "</style>\n",
       "<table border=\"1\" class=\"dataframe\">\n",
       "  <thead>\n",
       "    <tr style=\"text-align: right;\">\n",
       "      <th></th>\n",
       "      <th>product_id</th>\n",
       "      <th>seller_title</th>\n",
       "      <th>simple_score</th>\n",
       "      <th>avg_simple_score</th>\n",
       "      <th>weighted_score</th>\n",
       "      <th>avg_weighted_score</th>\n",
       "    </tr>\n",
       "  </thead>\n",
       "  <tbody>\n",
       "    <tr>\n",
       "      <th>0</th>\n",
       "      <td>7602</td>\n",
       "      <td>برزان</td>\n",
       "      <td>112.047</td>\n",
       "      <td>350.146875</td>\n",
       "      <td>14.162069</td>\n",
       "      <td>44.256466</td>\n",
       "    </tr>\n",
       "    <tr>\n",
       "      <th>1</th>\n",
       "      <td>7602</td>\n",
       "      <td>برهان الکترونیک</td>\n",
       "      <td>3.001</td>\n",
       "      <td>300.100000</td>\n",
       "      <td>0.348276</td>\n",
       "      <td>34.827586</td>\n",
       "    </tr>\n",
       "    <tr>\n",
       "      <th>2</th>\n",
       "      <td>7602</td>\n",
       "      <td>به روز سنتر</td>\n",
       "      <td>10.003</td>\n",
       "      <td>500.150000</td>\n",
       "      <td>1.389655</td>\n",
       "      <td>69.482759</td>\n",
       "    </tr>\n",
       "    <tr>\n",
       "      <th>3</th>\n",
       "      <td>7602</td>\n",
       "      <td>جانبی انسی</td>\n",
       "      <td>32.012</td>\n",
       "      <td>320.120000</td>\n",
       "      <td>4.213793</td>\n",
       "      <td>42.137931</td>\n",
       "    </tr>\n",
       "    <tr>\n",
       "      <th>4</th>\n",
       "      <td>7602</td>\n",
       "      <td>جانبی حبیب</td>\n",
       "      <td>2.000</td>\n",
       "      <td>200.000000</td>\n",
       "      <td>0.241379</td>\n",
       "      <td>24.137931</td>\n",
       "    </tr>\n",
       "  </tbody>\n",
       "</table>\n",
       "</div>"
      ],
      "text/plain": [
       "   product_id     seller_title  simple_score  avg_simple_score  \\\n",
       "0        7602            برزان       112.047        350.146875   \n",
       "1        7602  برهان الکترونیک         3.001        300.100000   \n",
       "2        7602      به روز سنتر        10.003        500.150000   \n",
       "3        7602       جانبی انسی        32.012        320.120000   \n",
       "4        7602       جانبی حبیب         2.000        200.000000   \n",
       "\n",
       "   weighted_score  avg_weighted_score  \n",
       "0       14.162069           44.256466  \n",
       "1        0.348276           34.827586  \n",
       "2        1.389655           69.482759  \n",
       "3        4.213793           42.137931  \n",
       "4        0.241379           24.137931  "
      ]
     },
     "execution_count": 34,
     "metadata": {},
     "output_type": "execute_result"
    }
   ],
   "source": [
    "simple_df = pd.read_csv('new_products.csv')\n",
    "simple_df.head()"
   ]
  },
  {
   "cell_type": "code",
   "execution_count": 35,
   "metadata": {},
   "outputs": [
    {
     "data": {
      "text/html": [
       "<div>\n",
       "<style scoped>\n",
       "    .dataframe tbody tr th:only-of-type {\n",
       "        vertical-align: middle;\n",
       "    }\n",
       "\n",
       "    .dataframe tbody tr th {\n",
       "        vertical-align: top;\n",
       "    }\n",
       "\n",
       "    .dataframe thead th {\n",
       "        text-align: right;\n",
       "    }\n",
       "</style>\n",
       "<table border=\"1\" class=\"dataframe\">\n",
       "  <thead>\n",
       "    <tr style=\"text-align: right;\">\n",
       "      <th></th>\n",
       "      <th>product_id</th>\n",
       "      <th>seller_title</th>\n",
       "      <th>simple_score</th>\n",
       "      <th>avg_simple_score</th>\n",
       "      <th>weighted_score</th>\n",
       "      <th>avg_weighted_score</th>\n",
       "      <th>total_biased_score</th>\n",
       "      <th>total_pos_score</th>\n",
       "      <th>total_neg_score</th>\n",
       "    </tr>\n",
       "  </thead>\n",
       "  <tbody>\n",
       "    <tr>\n",
       "      <th>0</th>\n",
       "      <td>7602</td>\n",
       "      <td>برزان</td>\n",
       "      <td>112.047</td>\n",
       "      <td>350.146875</td>\n",
       "      <td>14.162069</td>\n",
       "      <td>44.256466</td>\n",
       "      <td>44.0190</td>\n",
       "      <td>71.53100</td>\n",
       "      <td>27.51200</td>\n",
       "    </tr>\n",
       "    <tr>\n",
       "      <th>1</th>\n",
       "      <td>7602</td>\n",
       "      <td>برهان الکترونیک</td>\n",
       "      <td>3.001</td>\n",
       "      <td>300.100000</td>\n",
       "      <td>0.348276</td>\n",
       "      <td>34.827586</td>\n",
       "      <td>3.0010</td>\n",
       "      <td>3.00100</td>\n",
       "      <td>0.00000</td>\n",
       "    </tr>\n",
       "    <tr>\n",
       "      <th>2</th>\n",
       "      <td>7602</td>\n",
       "      <td>به روز سنتر</td>\n",
       "      <td>10.003</td>\n",
       "      <td>500.150000</td>\n",
       "      <td>1.389655</td>\n",
       "      <td>69.482759</td>\n",
       "      <td>-4.0010</td>\n",
       "      <td>3.00100</td>\n",
       "      <td>7.00200</td>\n",
       "    </tr>\n",
       "    <tr>\n",
       "      <th>3</th>\n",
       "      <td>7602</td>\n",
       "      <td>جانبی انسی</td>\n",
       "      <td>32.012</td>\n",
       "      <td>320.120000</td>\n",
       "      <td>4.213793</td>\n",
       "      <td>42.137931</td>\n",
       "      <td>10.0035</td>\n",
       "      <td>19.50725</td>\n",
       "      <td>9.50375</td>\n",
       "    </tr>\n",
       "    <tr>\n",
       "      <th>4</th>\n",
       "      <td>7602</td>\n",
       "      <td>جانبی حبیب</td>\n",
       "      <td>2.000</td>\n",
       "      <td>200.000000</td>\n",
       "      <td>0.241379</td>\n",
       "      <td>24.137931</td>\n",
       "      <td>2.0000</td>\n",
       "      <td>2.00000</td>\n",
       "      <td>0.00000</td>\n",
       "    </tr>\n",
       "  </tbody>\n",
       "</table>\n",
       "</div>"
      ],
      "text/plain": [
       "   product_id     seller_title  simple_score  avg_simple_score  \\\n",
       "0        7602            برزان       112.047        350.146875   \n",
       "1        7602  برهان الکترونیک         3.001        300.100000   \n",
       "2        7602      به روز سنتر        10.003        500.150000   \n",
       "3        7602       جانبی انسی        32.012        320.120000   \n",
       "4        7602       جانبی حبیب         2.000        200.000000   \n",
       "\n",
       "   weighted_score  avg_weighted_score  total_biased_score  total_pos_score  \\\n",
       "0       14.162069           44.256466             44.0190         71.53100   \n",
       "1        0.348276           34.827586              3.0010          3.00100   \n",
       "2        1.389655           69.482759             -4.0010          3.00100   \n",
       "3        4.213793           42.137931             10.0035         19.50725   \n",
       "4        0.241379           24.137931              2.0000          2.00000   \n",
       "\n",
       "   total_neg_score  \n",
       "0         27.51200  \n",
       "1          0.00000  \n",
       "2          7.00200  \n",
       "3          9.50375  \n",
       "4          0.00000  "
      ]
     },
     "execution_count": 35,
     "metadata": {},
     "output_type": "execute_result"
    }
   ],
   "source": [
    "result = (simple_df.merge(result, on=['product_id', 'seller_title'], how='inner'))\n",
    "result.head()"
   ]
  },
  {
   "cell_type": "code",
   "execution_count": 36,
   "metadata": {},
   "outputs": [],
   "source": [
    "result.to_csv('result.csv', index=False)"
   ]
  }
 ],
 "metadata": {
  "kernelspec": {
   "display_name": "Python 3",
   "language": "python",
   "name": "python3"
  },
  "language_info": {
   "codemirror_mode": {
    "name": "ipython",
    "version": 3
   },
   "file_extension": ".py",
   "mimetype": "text/x-python",
   "name": "python",
   "nbconvert_exporter": "python",
   "pygments_lexer": "ipython3",
   "version": "3.11.9"
  }
 },
 "nbformat": 4,
 "nbformat_minor": 2
}

{
 "cells": [
  {
   "cell_type": "markdown",
   "metadata": {},
   "source": [
    "# Scoring products of Digikala"
   ]
  },
  {
   "cell_type": "code",
   "execution_count": 2,
   "metadata": {
    "metadata": {}
   },
   "outputs": [],
   "source": [
    "import numpy as np\n",
    "import pandas as pd\n",
    "from sklearn.cluster import KMeans\n",
    "import matplotlib.pyplot as plt"
   ]
  },
  {
   "cell_type": "code",
   "execution_count": 13,
   "metadata": {
    "metadata": {}
   },
   "outputs": [
    {
     "data": {
      "text/html": [
       "<div>\n",
       "<style scoped>\n",
       "    .dataframe tbody tr th:only-of-type {\n",
       "        vertical-align: middle;\n",
       "    }\n",
       "\n",
       "    .dataframe tbody tr th {\n",
       "        vertical-align: top;\n",
       "    }\n",
       "\n",
       "    .dataframe thead th {\n",
       "        text-align: right;\n",
       "    }\n",
       "</style>\n",
       "<table border=\"1\" class=\"dataframe\">\n",
       "  <thead>\n",
       "    <tr style=\"text-align: right;\">\n",
       "      <th></th>\n",
       "      <th>id</th>\n",
       "      <th>title</th>\n",
       "      <th>body</th>\n",
       "      <th>created_at</th>\n",
       "      <th>rate</th>\n",
       "      <th>recommendation_status</th>\n",
       "      <th>is_buyer</th>\n",
       "      <th>product_id</th>\n",
       "      <th>likes</th>\n",
       "      <th>dislikes</th>\n",
       "      <th>seller_title</th>\n",
       "      <th>seller_code</th>\n",
       "      <th>true_to_size_rate</th>\n",
       "      <th>advantages_count</th>\n",
       "      <th>disadvantages_count</th>\n",
       "    </tr>\n",
       "  </thead>\n",
       "  <tbody>\n",
       "    <tr>\n",
       "      <th>0</th>\n",
       "      <td>53672599</td>\n",
       "      <td>1</td>\n",
       "      <td>3</td>\n",
       "      <td>23 شهریور 1402</td>\n",
       "      <td>1.0</td>\n",
       "      <td>1.0</td>\n",
       "      <td>True</td>\n",
       "      <td>252058</td>\n",
       "      <td>0</td>\n",
       "      <td>0</td>\n",
       "      <td>دیجی‌کالا</td>\n",
       "      <td>5A52N</td>\n",
       "      <td>0</td>\n",
       "      <td>0</td>\n",
       "      <td>0</td>\n",
       "    </tr>\n",
       "    <tr>\n",
       "      <th>1</th>\n",
       "      <td>9897229</td>\n",
       "      <td>1</td>\n",
       "      <td>10</td>\n",
       "      <td>16 تیر 1399</td>\n",
       "      <td>0.0</td>\n",
       "      <td>1.0</td>\n",
       "      <td>True</td>\n",
       "      <td>252058</td>\n",
       "      <td>1</td>\n",
       "      <td>0</td>\n",
       "      <td>دیجی‌کالا</td>\n",
       "      <td>5A52N</td>\n",
       "      <td>0</td>\n",
       "      <td>1</td>\n",
       "      <td>1</td>\n",
       "    </tr>\n",
       "    <tr>\n",
       "      <th>2</th>\n",
       "      <td>38074516</td>\n",
       "      <td>1</td>\n",
       "      <td>19</td>\n",
       "      <td>26 مرداد 1401</td>\n",
       "      <td>0.0</td>\n",
       "      <td>1.0</td>\n",
       "      <td>True</td>\n",
       "      <td>3331597</td>\n",
       "      <td>0</td>\n",
       "      <td>0</td>\n",
       "      <td>آرالیا بیوتی</td>\n",
       "      <td>ADM47</td>\n",
       "      <td>0</td>\n",
       "      <td>0</td>\n",
       "      <td>0</td>\n",
       "    </tr>\n",
       "    <tr>\n",
       "      <th>3</th>\n",
       "      <td>18628562</td>\n",
       "      <td>1</td>\n",
       "      <td>18</td>\n",
       "      <td>28 اسفند 1399</td>\n",
       "      <td>0.0</td>\n",
       "      <td>1.0</td>\n",
       "      <td>True</td>\n",
       "      <td>3331329</td>\n",
       "      <td>0</td>\n",
       "      <td>0</td>\n",
       "      <td>اینجاست آ</td>\n",
       "      <td>9ZMCZ</td>\n",
       "      <td>0</td>\n",
       "      <td>0</td>\n",
       "      <td>0</td>\n",
       "    </tr>\n",
       "    <tr>\n",
       "      <th>4</th>\n",
       "      <td>53301258</td>\n",
       "      <td>1</td>\n",
       "      <td>19</td>\n",
       "      <td>12 شهریور 1402</td>\n",
       "      <td>3.0</td>\n",
       "      <td>1.0</td>\n",
       "      <td>True</td>\n",
       "      <td>3255700</td>\n",
       "      <td>0</td>\n",
       "      <td>0</td>\n",
       "      <td>گالری آرایشی به سیما</td>\n",
       "      <td>CDWHA</td>\n",
       "      <td>0</td>\n",
       "      <td>0</td>\n",
       "      <td>0</td>\n",
       "    </tr>\n",
       "  </tbody>\n",
       "</table>\n",
       "</div>"
      ],
      "text/plain": [
       "         id  title  body      created_at  rate  recommendation_status  \\\n",
       "0  53672599      1     3  23 شهریور 1402   1.0                    1.0   \n",
       "1   9897229      1    10     16 تیر 1399   0.0                    1.0   \n",
       "2  38074516      1    19   26 مرداد 1401   0.0                    1.0   \n",
       "3  18628562      1    18   28 اسفند 1399   0.0                    1.0   \n",
       "4  53301258      1    19  12 شهریور 1402   3.0                    1.0   \n",
       "\n",
       "   is_buyer  product_id  likes  dislikes          seller_title seller_code  \\\n",
       "0      True      252058      0         0             دیجی‌کالا       5A52N   \n",
       "1      True      252058      1         0             دیجی‌کالا       5A52N   \n",
       "2      True     3331597      0         0          آرالیا بیوتی       ADM47   \n",
       "3      True     3331329      0         0            اینجاست آ        9ZMCZ   \n",
       "4      True     3255700      0         0  گالری آرایشی به سیما       CDWHA   \n",
       "\n",
       "   true_to_size_rate  advantages_count  disadvantages_count  \n",
       "0                  0                 0                    0  \n",
       "1                  0                 1                    1  \n",
       "2                  0                 0                    0  \n",
       "3                  0                 0                    0  \n",
       "4                  0                 0                    0  "
      ]
     },
     "execution_count": 13,
     "metadata": {},
     "output_type": "execute_result"
    }
   ],
   "source": [
    "digikala = pd.read_csv('new_comments.csv')\n",
    "digikala.head()"
   ]
  },
  {
   "cell_type": "code",
   "execution_count": 11,
   "metadata": {},
   "outputs": [
    {
     "data": {
      "text/html": [
       "<div>\n",
       "<style scoped>\n",
       "    .dataframe tbody tr th:only-of-type {\n",
       "        vertical-align: middle;\n",
       "    }\n",
       "\n",
       "    .dataframe tbody tr th {\n",
       "        vertical-align: top;\n",
       "    }\n",
       "\n",
       "    .dataframe thead th {\n",
       "        text-align: right;\n",
       "    }\n",
       "</style>\n",
       "<table border=\"1\" class=\"dataframe\">\n",
       "  <thead>\n",
       "    <tr style=\"text-align: right;\">\n",
       "      <th></th>\n",
       "      <th>id</th>\n",
       "      <th>title</th>\n",
       "      <th>body</th>\n",
       "      <th>rate</th>\n",
       "      <th>recommendation_status</th>\n",
       "      <th>product_id</th>\n",
       "      <th>likes</th>\n",
       "      <th>dislikes</th>\n",
       "      <th>true_to_size_rate</th>\n",
       "      <th>advantages_count</th>\n",
       "      <th>disadvantages_count</th>\n",
       "    </tr>\n",
       "  </thead>\n",
       "  <tbody>\n",
       "    <tr>\n",
       "      <th>count</th>\n",
       "      <td>2.039796e+06</td>\n",
       "      <td>2.039796e+06</td>\n",
       "      <td>2.039796e+06</td>\n",
       "      <td>2.039796e+06</td>\n",
       "      <td>2.039796e+06</td>\n",
       "      <td>2.039796e+06</td>\n",
       "      <td>2.039796e+06</td>\n",
       "      <td>2.039796e+06</td>\n",
       "      <td>2.039796e+06</td>\n",
       "      <td>2.039796e+06</td>\n",
       "      <td>2.039796e+06</td>\n",
       "    </tr>\n",
       "    <tr>\n",
       "      <th>mean</th>\n",
       "      <td>3.726266e+07</td>\n",
       "      <td>5.273723e-01</td>\n",
       "      <td>9.948859e+00</td>\n",
       "      <td>3.601411e+00</td>\n",
       "      <td>8.071618e-01</td>\n",
       "      <td>3.815474e+06</td>\n",
       "      <td>4.019912e-01</td>\n",
       "      <td>7.586690e-02</td>\n",
       "      <td>1.540399e-02</td>\n",
       "      <td>2.073016e-01</td>\n",
       "      <td>8.015213e-02</td>\n",
       "    </tr>\n",
       "    <tr>\n",
       "      <th>std</th>\n",
       "      <td>1.380285e+07</td>\n",
       "      <td>4.992503e-01</td>\n",
       "      <td>1.320414e+01</td>\n",
       "      <td>1.611110e+00</td>\n",
       "      <td>3.625426e-01</td>\n",
       "      <td>2.982049e+06</td>\n",
       "      <td>2.014121e+00</td>\n",
       "      <td>7.649543e-01</td>\n",
       "      <td>1.231532e-01</td>\n",
       "      <td>6.966602e-01</td>\n",
       "      <td>3.539437e-01</td>\n",
       "    </tr>\n",
       "    <tr>\n",
       "      <th>min</th>\n",
       "      <td>9.916640e+05</td>\n",
       "      <td>0.000000e+00</td>\n",
       "      <td>1.000000e+00</td>\n",
       "      <td>0.000000e+00</td>\n",
       "      <td>0.000000e+00</td>\n",
       "      <td>1.230200e+04</td>\n",
       "      <td>0.000000e+00</td>\n",
       "      <td>0.000000e+00</td>\n",
       "      <td>0.000000e+00</td>\n",
       "      <td>0.000000e+00</td>\n",
       "      <td>0.000000e+00</td>\n",
       "    </tr>\n",
       "    <tr>\n",
       "      <th>25%</th>\n",
       "      <td>2.779499e+07</td>\n",
       "      <td>0.000000e+00</td>\n",
       "      <td>3.000000e+00</td>\n",
       "      <td>3.000000e+00</td>\n",
       "      <td>1.000000e+00</td>\n",
       "      <td>1.485287e+06</td>\n",
       "      <td>0.000000e+00</td>\n",
       "      <td>0.000000e+00</td>\n",
       "      <td>0.000000e+00</td>\n",
       "      <td>0.000000e+00</td>\n",
       "      <td>0.000000e+00</td>\n",
       "    </tr>\n",
       "    <tr>\n",
       "      <th>50%</th>\n",
       "      <td>4.067003e+07</td>\n",
       "      <td>1.000000e+00</td>\n",
       "      <td>6.000000e+00</td>\n",
       "      <td>4.000000e+00</td>\n",
       "      <td>1.000000e+00</td>\n",
       "      <td>3.098662e+06</td>\n",
       "      <td>0.000000e+00</td>\n",
       "      <td>0.000000e+00</td>\n",
       "      <td>0.000000e+00</td>\n",
       "      <td>0.000000e+00</td>\n",
       "      <td>0.000000e+00</td>\n",
       "    </tr>\n",
       "    <tr>\n",
       "      <th>75%</th>\n",
       "      <td>4.905866e+07</td>\n",
       "      <td>1.000000e+00</td>\n",
       "      <td>1.200000e+01</td>\n",
       "      <td>5.000000e+00</td>\n",
       "      <td>1.000000e+00</td>\n",
       "      <td>5.752582e+06</td>\n",
       "      <td>0.000000e+00</td>\n",
       "      <td>0.000000e+00</td>\n",
       "      <td>0.000000e+00</td>\n",
       "      <td>0.000000e+00</td>\n",
       "      <td>0.000000e+00</td>\n",
       "    </tr>\n",
       "    <tr>\n",
       "      <th>max</th>\n",
       "      <td>5.474516e+07</td>\n",
       "      <td>1.000000e+00</td>\n",
       "      <td>8.240000e+02</td>\n",
       "      <td>5.000000e+00</td>\n",
       "      <td>1.000000e+00</td>\n",
       "      <td>1.268018e+07</td>\n",
       "      <td>8.960000e+02</td>\n",
       "      <td>2.800000e+02</td>\n",
       "      <td>1.000000e+00</td>\n",
       "      <td>3.200000e+01</td>\n",
       "      <td>1.200000e+01</td>\n",
       "    </tr>\n",
       "  </tbody>\n",
       "</table>\n",
       "</div>"
      ],
      "text/plain": [
       "                 id         title          body          rate  \\\n",
       "count  2.039796e+06  2.039796e+06  2.039796e+06  2.039796e+06   \n",
       "mean   3.726266e+07  5.273723e-01  9.948859e+00  3.601411e+00   \n",
       "std    1.380285e+07  4.992503e-01  1.320414e+01  1.611110e+00   \n",
       "min    9.916640e+05  0.000000e+00  1.000000e+00  0.000000e+00   \n",
       "25%    2.779499e+07  0.000000e+00  3.000000e+00  3.000000e+00   \n",
       "50%    4.067003e+07  1.000000e+00  6.000000e+00  4.000000e+00   \n",
       "75%    4.905866e+07  1.000000e+00  1.200000e+01  5.000000e+00   \n",
       "max    5.474516e+07  1.000000e+00  8.240000e+02  5.000000e+00   \n",
       "\n",
       "       recommendation_status    product_id         likes      dislikes  \\\n",
       "count           2.039796e+06  2.039796e+06  2.039796e+06  2.039796e+06   \n",
       "mean            8.071618e-01  3.815474e+06  4.019912e-01  7.586690e-02   \n",
       "std             3.625426e-01  2.982049e+06  2.014121e+00  7.649543e-01   \n",
       "min             0.000000e+00  1.230200e+04  0.000000e+00  0.000000e+00   \n",
       "25%             1.000000e+00  1.485287e+06  0.000000e+00  0.000000e+00   \n",
       "50%             1.000000e+00  3.098662e+06  0.000000e+00  0.000000e+00   \n",
       "75%             1.000000e+00  5.752582e+06  0.000000e+00  0.000000e+00   \n",
       "max             1.000000e+00  1.268018e+07  8.960000e+02  2.800000e+02   \n",
       "\n",
       "       true_to_size_rate  advantages_count  disadvantages_count  \n",
       "count       2.039796e+06      2.039796e+06         2.039796e+06  \n",
       "mean        1.540399e-02      2.073016e-01         8.015213e-02  \n",
       "std         1.231532e-01      6.966602e-01         3.539437e-01  \n",
       "min         0.000000e+00      0.000000e+00         0.000000e+00  \n",
       "25%         0.000000e+00      0.000000e+00         0.000000e+00  \n",
       "50%         0.000000e+00      0.000000e+00         0.000000e+00  \n",
       "75%         0.000000e+00      0.000000e+00         0.000000e+00  \n",
       "max         1.000000e+00      3.200000e+01         1.200000e+01  "
      ]
     },
     "execution_count": 11,
     "metadata": {},
     "output_type": "execute_result"
    }
   ],
   "source": [
    "digikala.describe()"
   ]
  },
  {
   "cell_type": "markdown",
   "metadata": {},
   "source": [
    "fix column created_at date time"
   ]
  },
  {
   "cell_type": "code",
   "execution_count": 36,
   "metadata": {},
   "outputs": [],
   "source": [
    "from persiantools.jdatetime import JalaliDate\n",
    "\n",
    "def persian_month_to_number(month_name):\n",
    "    persian_months = {'فروردین':'01',\n",
    "                      'اردیبهشت':'02',\n",
    "                      'خرداد':'03',\n",
    "                      'تیر':'04',\n",
    "                      'مرداد':'05',\n",
    "                      'شهریور':'06',\n",
    "                      'مهر':'07',\n",
    "                      'آبان':'08',\n",
    "                      'آذر':'09',\n",
    "                      'دی':'10',\n",
    "                      'بهمن':'11',\n",
    "                      'اسفند':'12'}\n",
    "    return persian_months[month_name]"
   ]
  },
  {
   "cell_type": "code",
   "execution_count": 37,
   "metadata": {},
   "outputs": [],
   "source": [
    "digikala['created_at'] = digikala['created_at'].apply(lambda x: JalaliDate(int(x.split()[2]), int(persian_month_to_number(x.split()[1])), int(x.split()[0])))"
   ]
  },
  {
   "cell_type": "markdown",
   "metadata": {},
   "source": [
    "# Exploring Data"
   ]
  },
  {
   "cell_type": "markdown",
   "metadata": {},
   "source": [
    "## Comments Length Analyis\n",
    "I want to declare Intervals for scoring on comments lenrgth. here is three method :\n",
    "1. Heuristic-Based\n",
    "2. Percentile-Based\n",
    "3. Clustering-Based"
   ]
  },
  {
   "cell_type": "code",
   "execution_count": 26,
   "metadata": {
    "metadata": {}
   },
   "outputs": [
    {
     "data": {
      "image/png": "[encoded data removed]",
      "text/plain": [
       "<Figure size 640x480 with 1 Axes>"
      ]
     },
     "metadata": {},
     "output_type": "display_data"
    }
   ],
   "source": [
    "comments = digikala['body']\n",
    "plt.hist(comments, bins= np.arange(min(comments), max(comments), 50), log=True)\n",
    "plt.xlabel('Comment lengths')\n",
    "plt.ylabel('Frequency')\n",
    "plt.show()"
   ]
  },
  {
   "cell_type": "code",
   "execution_count": 22,
   "metadata": {
    "metadata": {}
   },
   "outputs": [],
   "source": [
    "import bisect\n",
    "from collections import defaultdict\n",
    "\n",
    "def score_comment(intervals, length):\n",
    "    return bisect.bisect_left(intervals, length)\n",
    "\n",
    "def total_score_comment(intervals, lengths):\n",
    "    local_sum = 0\n",
    "    lengths_dict = defaultdict(list)\n",
    "    for length in lengths:\n",
    "        score = score_comment(intervals, length)\n",
    "        local_sum += score\n",
    "        lengths_dict[score].append(length)\n",
    "\n",
    "    lengths_stats = {}\n",
    "    for score, lengths in lengths_dict.items():\n",
    "        lengths_stats[score] = {\n",
    "            'num' : len(lengths),\n",
    "            'mean': np.mean(lengths),\n",
    "            'std': np.std(lengths),\n",
    "            'sum' : np.sum(lengths)\n",
    "        }\n",
    "    return lengths_stats, local_sum"
   ]
  },
  {
   "cell_type": "code",
   "execution_count": 40,
   "metadata": {},
   "outputs": [
    {
     "name": "stdout",
     "output_type": "stream",
     "text": [
      "{0: {'num': 2, 'mean': 0.0, 'std': 0.0, 'sum': 0}, 1: {'num': 1, 'mean': 1.0, 'std': 0.0, 'sum': 1}, 2: {'num': 4, 'mean': 2.75, 'std': 0.82915619758885, 'sum': 11}, 3: {'num': 2, 'mean': 6.0, 'std': 0.0, 'sum': 12}, 4: {'num': 3, 'mean': 28.666666666666668, 'std': 10.208928554075703, 'sum': 86}}\n",
      "27\n"
     ]
    }
   ],
   "source": [
    "# check function\n",
    "intervals = [0, 1, 5, 10]\n",
    "lengths = [0,0,1,2,2,3,6,4,6,20,23,43]\n",
    "\n",
    "lengths_stats, local_sum = total_score_comment(intervals, lengths)\n",
    "print(lengths_stats)\n",
    "print(local_sum)"
   ]
  },
  {
   "cell_type": "markdown",
   "metadata": {},
   "source": [
    "### Heuristic-Based"
   ]
  },
  {
   "cell_type": "code",
   "execution_count": 27,
   "metadata": {},
   "outputs": [
    {
     "name": "stdout",
     "output_type": "stream",
     "text": [
      "{1: {'num': 796303, 'mean': 3.4660324022388465, 'std': 1.08103040572567, 'sum': 2760012}, 2: {'num': 863707, 'mean': 10.492713385442054, 'std': 3.955346066809421, 'sum': 9062630}, 0: {'num': 155882, 'mean': 1.0, 'std': 0.0, 'sum': 155882}, 3: {'num': 218809, 'mean': 34.59602667166342, 'std': 14.792060432161255, 'sum': 7569922}, 4: {'num': 4941, 'mean': 138.35013155231735, 'std': 39.514956018228645, 'sum': 683588}, 5: {'num': 130, 'mean': 364.5153846153846, 'std': 47.40743768575764, 'sum': 47387}, 6: {'num': 24, 'mean': 592.5416666666666, 'std': 98.16439407386412, 'sum': 14221}}\n"
     ]
    }
   ],
   "source": [
    "heuristic_intervals = [1, 5, 20, 100, 300, 500, 1000]\n",
    "\n",
    "lengths_stats, local_sum = total_score_comment(heuristic_intervals, comments)\n",
    "print(lengths_stats)"
   ]
  },
  {
   "cell_type": "code",
   "execution_count": 28,
   "metadata": {},
   "outputs": [
    {
     "data": {
      "image/png": "[encoded data removed]",
      "text/plain": [
       "<Figure size 640x480 with 1 Axes>"
      ]
     },
     "metadata": {},
     "output_type": "display_data"
    }
   ],
   "source": [
    "plt.hist(comments, bins= np.arange(min(comments), max(comments), 50), log=True)\n",
    "for boundary in heuristic_intervals:\n",
    "    plt.axvline(boundary, color='r', linestyle='dashed', linewidth=1)\n",
    "plt.hist(comments, bins= heuristic_intervals, log = True, color= 'green', alpha = 0.3)\n",
    "plt.title('Histogram of Heuristic-Based scores')\n",
    "plt.show()"
   ]
  },
  {
   "cell_type": "markdown",
   "metadata": {},
   "source": [
    "### Percentile-Based"
   ]
  },
  {
   "cell_type": "code",
   "execution_count": 29,
   "metadata": {},
   "outputs": [
    {
     "name": "stdout",
     "output_type": "stream",
     "text": [
      "[   2.    3.    6.   12.   22. 1000.]\n",
      "{1: {'num': 216897, 'mean': 3.0, 'std': 0.0, 'sum': 650691}, 3: {'num': 477556, 'mean': 9.045538114901708, 'std': 1.675103527748681, 'sum': 4319751}, 4: {'num': 279002, 'mean': 16.534021261496335, 'std': 2.7847743100447415, 'sum': 4613025}, 0: {'num': 347387, 'mean': 1.5512727879857335, 'std': 0.49736415352553304, 'sum': 538892}, 2: {'num': 528206, 'mean': 4.8620064898922015, 'std': 0.8063512672535182, 'sum': 2568141}, 5: {'num': 190748, 'mean': 39.85961582821314, 'std': 25.073895527486588, 'sum': 7603142}}\n"
     ]
    }
   ],
   "source": [
    "percentiles = [10, 25, 50, 75, 90]\n",
    "percentile_intervals = np.percentile(comments, percentiles)\n",
    "percentile_intervals = np.append(percentile_intervals, 1000)\n",
    "print(percentile_intervals)\n",
    "\n",
    "lengths_stats, local_sum = total_score_comment(percentile_intervals, comments)\n",
    "print(lengths_stats)"
   ]
  },
  {
   "cell_type": "code",
   "execution_count": 30,
   "metadata": {},
   "outputs": [
    {
     "data": {
      "image/png": "[encoded data removed]",
      "text/plain": [
       "<Figure size 640x480 with 1 Axes>"
      ]
     },
     "metadata": {},
     "output_type": "display_data"
    }
   ],
   "source": [
    "plt.hist(comments, bins= np.arange(min(comments), max(comments), 50), log=True)\n",
    "for boundary in percentile_intervals:\n",
    "    plt.axvline(boundary, color='r', linestyle='dashed', linewidth=1)\n",
    "plt.hist(comments, bins= percentile_intervals, log = True, color= 'green', alpha = 0.3)\n",
    "plt.title('Histogram of Percentile-Based scores')\n",
    "plt.show()"
   ]
  },
  {
   "cell_type": "markdown",
   "metadata": {},
   "source": [
    "### Clustering-Based"
   ]
  },
  {
   "cell_type": "code",
   "execution_count": 31,
   "metadata": {
    "metadata": {}
   },
   "outputs": [
    {
     "name": "stdout",
     "output_type": "stream",
     "text": [
      "[   4.38289693   14.0273598    28.53526717   52.72839532  102.9202613\n",
      "  244.65111347 1000.        ]\n",
      "{0: {'num': 777478, 'mean': 2.6269026261836346, 'std': 1.0878024765158996, 'sum': 2042359}, 1: {'num': 878391, 'mean': 8.186317938139165, 'std': 2.7308040747464593, 'sum': 7190788}, 2: {'num': 261188, 'mean': 19.807047031257177, 'std': 3.8533735200481143, 'sum': 5173363}, 3: {'num': 92148, 'mean': 37.10802187784868, 'std': 6.480387993955106, 'sum': 3419430}, 4: {'num': 25780, 'mean': 67.93456167571762, 'std': 12.715778555197286, 'sum': 1751353}, 5: {'num': 4499, 'mean': 136.1426983774172, 'std': 32.119921395338096, 'sum': 612506}, 6: {'num': 312, 'mean': 332.83012820512823, 'std': 97.90674521685378, 'sum': 103843}}\n"
     ]
    }
   ],
   "source": [
    "n_intervals = 6\n",
    "comment_lengths_reshaped = np.reshape(comments, (-1, 1))\n",
    "\n",
    "# Apply K-means clustering\n",
    "kmeans = KMeans(n_clusters=n_intervals, random_state=42).fit(comment_lengths_reshaped)\n",
    "clustering_intervals = np.sort(kmeans.cluster_centers_.flatten())\n",
    "clustering_intervals = np.append(clustering_intervals, 1000)\n",
    "print(clustering_intervals)\n",
    "\n",
    "lengths_stats, local_sum = total_score_comment(clustering_intervals, comments)\n",
    "print(lengths_stats)"
   ]
  },
  {
   "cell_type": "code",
   "execution_count": 32,
   "metadata": {},
   "outputs": [
    {
     "data": {
      "image/png": "[encoded data removed]",
      "text/plain": [
       "<Figure size 640x480 with 1 Axes>"
      ]
     },
     "metadata": {},
     "output_type": "display_data"
    }
   ],
   "source": [
    "plt.hist(comments, bins= np.arange(min(comments), max(comments), 50), log=True)\n",
    "for boundary in clustering_intervals:\n",
    "    plt.axvline(boundary, color='r', linestyle='dashed', linewidth=1)\n",
    "plt.hist(comments, bins= clustering_intervals, log = True, color= 'green', alpha = 0.3)\n",
    "plt.title('Histogram of Clustering-Based scores')\n",
    "plt.show()"
   ]
  },
  {
   "cell_type": "markdown",
   "metadata": {},
   "source": [
    "### Distribution of Product's Scores"
   ]
  },
  {
   "cell_type": "code",
   "execution_count": 33,
   "metadata": {},
   "outputs": [
    {
     "data": {
      "text/html": [
       "<div>\n",
       "<style scoped>\n",
       "    .dataframe tbody tr th:only-of-type {\n",
       "        vertical-align: middle;\n",
       "    }\n",
       "\n",
       "    .dataframe tbody tr th {\n",
       "        vertical-align: top;\n",
       "    }\n",
       "\n",
       "    .dataframe thead th {\n",
       "        text-align: right;\n",
       "    }\n",
       "</style>\n",
       "<table border=\"1\" class=\"dataframe\">\n",
       "  <thead>\n",
       "    <tr style=\"text-align: right;\">\n",
       "      <th></th>\n",
       "      <th>product_id</th>\n",
       "      <th>score</th>\n",
       "    </tr>\n",
       "  </thead>\n",
       "  <tbody>\n",
       "    <tr>\n",
       "      <th>0</th>\n",
       "      <td>12302</td>\n",
       "      <td>2</td>\n",
       "    </tr>\n",
       "    <tr>\n",
       "      <th>1</th>\n",
       "      <td>18247</td>\n",
       "      <td>13</td>\n",
       "    </tr>\n",
       "    <tr>\n",
       "      <th>2</th>\n",
       "      <td>18261</td>\n",
       "      <td>0</td>\n",
       "    </tr>\n",
       "    <tr>\n",
       "      <th>3</th>\n",
       "      <td>18264</td>\n",
       "      <td>1</td>\n",
       "    </tr>\n",
       "    <tr>\n",
       "      <th>4</th>\n",
       "      <td>18269</td>\n",
       "      <td>1</td>\n",
       "    </tr>\n",
       "  </tbody>\n",
       "</table>\n",
       "</div>"
      ],
      "text/plain": [
       "   product_id  score\n",
       "0       12302      2\n",
       "1       18247     13\n",
       "2       18261      0\n",
       "3       18264      1\n",
       "4       18269      1"
      ]
     },
     "execution_count": 33,
     "metadata": {},
     "output_type": "execute_result"
    }
   ],
   "source": [
    "df = digikala[['body', 'product_id']].reset_index(drop=True)\n",
    "df['score'] = df['body'].apply(lambda comment: score_comment(clustering_intervals, comment))\n",
    "result = df.groupby('product_id')['score'].sum().reset_index()\n",
    "result.head()"
   ]
  },
  {
   "cell_type": "code",
   "execution_count": 48,
   "metadata": {},
   "outputs": [
    {
     "data": {
      "text/plain": [
       "count    331599.000000\n",
       "mean         20.164256\n",
       "std          43.695970\n",
       "min           0.000000\n",
       "25%           2.000000\n",
       "50%           4.000000\n",
       "75%          14.000000\n",
       "max         472.000000\n",
       "Name: score, dtype: float64"
      ]
     },
     "execution_count": 48,
     "metadata": {},
     "output_type": "execute_result"
    }
   ],
   "source": [
    "result['score'].describe()"
   ]
  },
  {
   "cell_type": "code",
   "execution_count": 34,
   "metadata": {},
   "outputs": [
    {
     "data": {
      "image/png": "[encoded data removed]",
      "text/plain": [
       "<Figure size 640x480 with 1 Axes>"
      ]
     },
     "metadata": {},
     "output_type": "display_data"
    }
   ],
   "source": [
    "plt.hist(result['score'],bins= 20, log=True)\n",
    "plt.xlabel('Score of coment')\n",
    "plt.ylabel('Frequency')\n",
    "plt.title('Histogram of comment\\'s score')\n",
    "plt.show()"
   ]
  },
  {
   "cell_type": "markdown",
   "metadata": {},
   "source": [
    "## Rates And Comments Grouping\n",
    "We want to divide comments into positive and negative groups. In the simplest case, we do this using rates. Otherwise, we refer to the comment sentiment."
   ]
  },
  {
   "cell_type": "markdown",
   "metadata": {},
   "source": [
    "### Rates Distribution"
   ]
  },
  {
   "cell_type": "code",
   "execution_count": 35,
   "metadata": {},
   "outputs": [
    {
     "data": {
      "image/png": "[encoded data removed]",
      "text/plain": [
       "<Figure size 640x480 with 1 Axes>"
      ]
     },
     "metadata": {},
     "output_type": "display_data"
    }
   ],
   "source": [
    "plt.hist(digikala['rate'], color='green', edgecolor='black')\n",
    "plt.xlabel('Rate')\n",
    "plt.ylabel('Frequency')\n",
    "plt.title('Histogram of Rate')\n",
    "plt.show()"
   ]
  },
  {
   "cell_type": "markdown",
   "metadata": {},
   "source": [
    "### Labeling comments"
   ]
  },
  {
   "cell_type": "code",
   "execution_count": null,
   "metadata": {},
   "outputs": [],
   "source": [
    "sentiments = pd.read_csv(\"sentiments.csv\")\n",
    "digikala = digikala.merge(sentiments, on='id')\n",
    "digikala.head()"
   ]
  },
  {
   "cell_type": "code",
   "execution_count": null,
   "metadata": {},
   "outputs": [],
   "source": [
    "def label_group(comment):\n",
    "    if comment['rate'] > 3:\n",
    "        return \"positive\"\n",
    "    if 0 < comment['rate'] < 3:\n",
    "        return \"negative\"\n",
    "    return comment['sentiment']\n",
    "\n",
    "digikala['label'] = digikala.apply(label_group, axis=1)"
   ]
  },
  {
   "cell_type": "markdown",
   "metadata": {},
   "source": [
    "# Define Scoring Function"
   ]
  },
  {
   "cell_type": "code",
   "execution_count": 52,
   "metadata": {},
   "outputs": [],
   "source": [
    "grouped_digikala = digikala.groupby(['product_id', 'seller_title'])"
   ]
  },
  {
   "cell_type": "markdown",
   "metadata": {},
   "source": [
    "## Simple Scoring"
   ]
  },
  {
   "cell_type": "code",
   "execution_count": 53,
   "metadata": {},
   "outputs": [
    {
     "data": {
      "text/html": [
       "<div>\n",
       "<style scoped>\n",
       "    .dataframe tbody tr th:only-of-type {\n",
       "        vertical-align: middle;\n",
       "    }\n",
       "\n",
       "    .dataframe tbody tr th {\n",
       "        vertical-align: top;\n",
       "    }\n",
       "\n",
       "    .dataframe thead th {\n",
       "        text-align: right;\n",
       "    }\n",
       "</style>\n",
       "<table border=\"1\" class=\"dataframe\">\n",
       "  <thead>\n",
       "    <tr style=\"text-align: right;\">\n",
       "      <th></th>\n",
       "      <th>product_id</th>\n",
       "      <th>seller_title</th>\n",
       "      <th>simple_score</th>\n",
       "    </tr>\n",
       "  </thead>\n",
       "  <tbody>\n",
       "    <tr>\n",
       "      <th>0</th>\n",
       "      <td>7602</td>\n",
       "      <td>برزان</td>\n",
       "      <td>112.047</td>\n",
       "    </tr>\n",
       "    <tr>\n",
       "      <th>1</th>\n",
       "      <td>7602</td>\n",
       "      <td>برهان الکترونیک</td>\n",
       "      <td>3.001</td>\n",
       "    </tr>\n",
       "    <tr>\n",
       "      <th>2</th>\n",
       "      <td>7602</td>\n",
       "      <td>به روز سنتر</td>\n",
       "      <td>10.003</td>\n",
       "    </tr>\n",
       "    <tr>\n",
       "      <th>3</th>\n",
       "      <td>7602</td>\n",
       "      <td>جانبی انسی</td>\n",
       "      <td>32.012</td>\n",
       "    </tr>\n",
       "    <tr>\n",
       "      <th>4</th>\n",
       "      <td>7602</td>\n",
       "      <td>جانبی حبیب</td>\n",
       "      <td>2.000</td>\n",
       "    </tr>\n",
       "  </tbody>\n",
       "</table>\n",
       "</div>"
      ],
      "text/plain": [
       "   product_id     seller_title  simple_score\n",
       "0        7602            برزان       112.047\n",
       "1        7602  برهان الکترونیک         3.001\n",
       "2        7602      به روز سنتر        10.003\n",
       "3        7602       جانبی انسی        32.012\n",
       "4        7602       جانبی حبیب         2.000"
      ]
     },
     "execution_count": 53,
     "metadata": {},
     "output_type": "execute_result"
    }
   ],
   "source": [
    "def simple_score(group):\n",
    "    group = group[group['is_buyer']]\n",
    "\n",
    "    _, comments = total_score_comment(clustering_intervals, group['body'])\n",
    "    comments_score = comments / 1000\n",
    "    rates_score = (group['rate'] > 0).sum()\n",
    "    titles_score = group['title'].sum()\n",
    "    likes_score = group['likes'].sum() + group['dislikes'].sum()\n",
    "    recommended_score = group['recommendation_status'].sum()\n",
    "    advantages_score = group['advantages_count'].sum() + group['disadvantages_count'].sum()\n",
    "    \n",
    "    total_score = (comments_score + rates_score + titles_score + \n",
    "                   likes_score + recommended_score + advantages_score)\n",
    "    \n",
    "    return total_score\n",
    "\n",
    "simple_df = grouped_digikala.apply(simple_score).reset_index(name='simple_score')\n",
    "simple_df.head()"
   ]
  },
  {
   "cell_type": "code",
   "execution_count": 54,
   "metadata": {},
   "outputs": [
    {
     "data": {
      "text/html": [
       "<div>\n",
       "<style scoped>\n",
       "    .dataframe tbody tr th:only-of-type {\n",
       "        vertical-align: middle;\n",
       "    }\n",
       "\n",
       "    .dataframe tbody tr th {\n",
       "        vertical-align: top;\n",
       "    }\n",
       "\n",
       "    .dataframe thead th {\n",
       "        text-align: right;\n",
       "    }\n",
       "</style>\n",
       "<table border=\"1\" class=\"dataframe\">\n",
       "  <thead>\n",
       "    <tr style=\"text-align: right;\">\n",
       "      <th></th>\n",
       "      <th>product_id</th>\n",
       "      <th>seller_title</th>\n",
       "      <th>avg_simple_score</th>\n",
       "    </tr>\n",
       "  </thead>\n",
       "  <tbody>\n",
       "    <tr>\n",
       "      <th>0</th>\n",
       "      <td>7602</td>\n",
       "      <td>برزان</td>\n",
       "      <td>350.146875</td>\n",
       "    </tr>\n",
       "    <tr>\n",
       "      <th>1</th>\n",
       "      <td>7602</td>\n",
       "      <td>برهان الکترونیک</td>\n",
       "      <td>300.100000</td>\n",
       "    </tr>\n",
       "    <tr>\n",
       "      <th>2</th>\n",
       "      <td>7602</td>\n",
       "      <td>به روز سنتر</td>\n",
       "      <td>500.150000</td>\n",
       "    </tr>\n",
       "    <tr>\n",
       "      <th>3</th>\n",
       "      <td>7602</td>\n",
       "      <td>جانبی انسی</td>\n",
       "      <td>320.120000</td>\n",
       "    </tr>\n",
       "    <tr>\n",
       "      <th>4</th>\n",
       "      <td>7602</td>\n",
       "      <td>جانبی حبیب</td>\n",
       "      <td>200.000000</td>\n",
       "    </tr>\n",
       "  </tbody>\n",
       "</table>\n",
       "</div>"
      ],
      "text/plain": [
       "   product_id     seller_title  avg_simple_score\n",
       "0        7602            برزان        350.146875\n",
       "1        7602  برهان الکترونیک        300.100000\n",
       "2        7602      به روز سنتر        500.150000\n",
       "3        7602       جانبی انسی        320.120000\n",
       "4        7602       جانبی حبیب        200.000000"
      ]
     },
     "execution_count": 54,
     "metadata": {},
     "output_type": "execute_result"
    }
   ],
   "source": [
    "# Divide by total number\n",
    "def avg_simple_score(group):\n",
    "    group = group[group['is_buyer']]\n",
    "\n",
    "    _, comments = total_score_comment(clustering_intervals, group['body'])\n",
    "    comments_score = comments / 1000\n",
    "    rates_score = (group['rate'] > 0).sum()\n",
    "    titles_score = group['title'].sum()\n",
    "    likes_score = group['likes'].sum() + group['dislikes'].sum()\n",
    "    recommended_score = group['recommendation_status'].sum()\n",
    "    advantages_score = group['advantages_count'].sum() + group['disadvantages_count'].sum()\n",
    "    \n",
    "    total_score = (comments_score + rates_score + titles_score + \n",
    "                   likes_score + recommended_score + advantages_score) / len(group) * 100\n",
    "    \n",
    "    return total_score\n",
    "\n",
    "avg_simple_df = grouped_digikala.apply(avg_simple_score).reset_index(name='avg_simple_score')\n",
    "avg_simple_df.head()"
   ]
  },
  {
   "cell_type": "markdown",
   "metadata": {},
   "source": [
    "## Weighted Scoring:"
   ]
  },
  {
   "cell_type": "code",
   "execution_count": null,
   "metadata": {},
   "outputs": [],
   "source": [
    "# By weightes\n",
    "def weighted_score(group):\n",
    "    group = group[group['is_buyer']]\n",
    "\n",
    "    weights = {\n",
    "        \"body\" : 10,\n",
    "        \"title\" : 3,\n",
    "        \"rate\" : 4,\n",
    "        \"likes\" : 4,\n",
    "        \"recommendation\" : 3,\n",
    "        \"advantages\" : 5\n",
    "    }\n",
    "\n",
    "    _, comments = total_score_comment(clustering_intervals, group['body'])\n",
    "    comments_score = weights[\"body\"]*comments / 100\n",
    "    rates_score =  weights[\"rate\"]*(group['rate'] > 0).sum()\n",
    "    titles_score =  weights[\"title\"]*group['title'].sum()\n",
    "    likes_score =  weights[\"likes\"]*(group['likes'].sum() + group['dislikes'].sum())\n",
    "    recommended_score =  weights[\"recommendation\"]* group['recommendation_status'].sum()\n",
    "    advantages_score = weights[\"advantages\"]* (group['advantages_count'].sum() + group['disadvantages_count'].sum())\n",
    "    \n",
    "    total_score = (comments_score + rates_score + titles_score + \n",
    "                   likes_score + recommended_score + advantages_score) / sum(weights.values())\n",
    "    \n",
    "    return total_score\n",
    "\n",
    "weighted_score_df = grouped_digikala.apply(weighted_score).reset_index(name='weighted_score')\n",
    "weighted_score_df.head()"
   ]
  },
  {
   "cell_type": "code",
   "execution_count": null,
   "metadata": {},
   "outputs": [],
   "source": [
    "# average by weightes \n",
    "def avg_weighted_score(group):\n",
    "    group = group[group['is_buyer']]\n",
    "\n",
    "    weights = {\n",
    "        \"body\" : 10,\n",
    "        \"title\" : 3,\n",
    "        \"rate\" : 4,\n",
    "        \"likes\" : 4,\n",
    "        \"recommendation\" : 3,\n",
    "        \"advantages\" : 5\n",
    "    }\n",
    "\n",
    "    _, comments = total_score_comment(clustering_intervals, group['body'])\n",
    "    comments_score = weights[\"body\"]*comments / 100\n",
    "    rates_score =  weights[\"rate\"]*(group['rate'] > 0).sum()\n",
    "    titles_score =  weights[\"title\"]*group['title'].sum()\n",
    "    likes_score =  weights[\"likes\"]*(group['likes'].sum() + group['dislikes'].sum())\n",
    "    recommended_score =  weights[\"recommendation\"]* group['recommendation_status'].sum()\n",
    "    advantages_score = weights[\"advantages\"]* (group['advantages_count'].sum() + group['disadvantages_count'].sum())\n",
    "    \n",
    "    total_score = ((comments_score + rates_score + titles_score + \n",
    "                   likes_score + recommended_score + advantages_score) / sum(weights.values())) / len(group) * 100\n",
    "    \n",
    "    return total_score\n",
    "\n",
    "avg_weighted_score_df = grouped_digikala.apply(weighted_score).reset_index(name='avg_weighted_score')\n",
    "avg_weighted_score_df.head()"
   ]
  },
  {
   "cell_type": "markdown",
   "metadata": {},
   "source": [
    "### Biased Score"
   ]
  },
  {
   "cell_type": "code",
   "execution_count": null,
   "metadata": {},
   "outputs": [],
   "source": [
    "def biased_score(group):\n",
    "    total_score = 0\n",
    "    total_negative_score = 0\n",
    "    total_positive_score = 0\n",
    "\n",
    "    for comment in group:\n",
    "        if not comment['is_buyer']:\n",
    "            continue\n",
    "        body_score = score_comment(clustering_intervals, comment['body']) / 1000\n",
    "        rate_score = 1 if comment['rate'] > 0 else 0\n",
    "        title_score = comment['title']\n",
    "        recommended_score = comment['recommendation_status']\n",
    "        advantage_score = comment['advantages_count'] + comment['disadvantages_count']\n",
    "\n",
    "        likes = comment['likes'] + 1  # own comment\n",
    "        dislikes = comment['dislikes']\n",
    "        f = likes / (likes + dislikes)\n",
    "        score = body_score + rate_score + title_score + recommended_score + advantage_score\n",
    "\n",
    "        if comment['label'] == 'positive':\n",
    "            pos_score = f * score\n",
    "            neg_score = score - pos_score\n",
    "        else:\n",
    "            neg_score = f * score\n",
    "            pos_score = score - neg_score\n",
    "\n",
    "        total_score += score\n",
    "        total_negative_score += neg_score\n",
    "        total_positive_score += pos_score\n",
    "    return total_score, total_positive_score, total_negative_score\n",
    "\n",
    "\n",
    "biased_score_grouped = grouped_digikala.apply(lambda group: pd.Series(biased_score(group), index=['biased_score', 'biased_positive_score', 'biased_negative_score']))\n",
    "biased_score_df = biased_score_grouped.reset_index()\n",
    "biased_score_df.head()"
   ]
  },
  {
   "cell_type": "code",
   "execution_count": null,
   "metadata": {},
   "outputs": [],
   "source": [
    "result = (simple_df\n",
    "          .merge(avg_simple_df, on=['product_id', 'seller_title'], how='inner')\n",
    "          .merge(weighted_score_df, on=['product_id', 'seller_title'], how='inner')\n",
    "          .merge(avg_weighted_score_df, on=['product_id', 'seller_title'], how='inner')\n",
    "          .merge(biased_score_df, on=['product_id', 'seller_title'], how='inner'))\n",
    "result.head()"
   ]
  },
  {
   "cell_type": "code",
   "execution_count": null,
   "metadata": {},
   "outputs": [],
   "source": [
    "result.to_csv('scored_products.csv')"
   ]
  }
 ],
 "metadata": {
  "kernelspec": {
   "display_name": "Python 3",
   "language": "python",
   "name": "python3"
  },
  "language_info": {
   "codemirror_mode": {
    "name": "ipython",
    "version": 3
   },
   "file_extension": ".py",
   "mimetype": "text/x-python",
   "name": "python",
   "nbconvert_exporter": "python",
   "pygments_lexer": "ipython3",
   "version": "3.11.4"
  }
 },
 "nbformat": 4,
 "nbformat_minor": 2
}
